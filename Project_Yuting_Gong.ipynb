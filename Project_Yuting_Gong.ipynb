{
  "nbformat": 4,
  "nbformat_minor": 0,
  "metadata": {
    "colab": {
      "name": "Project_Yuting Gong.ipynb",
      "provenance": []
    },
    "kernelspec": {
      "name": "python3",
      "display_name": "Python 3"
    },
    "language_info": {
      "name": "python"
    }
  },
  "cells": [
    {
      "cell_type": "markdown",
      "metadata": {
        "id": "zYzR74RzMTlL"
      },
      "source": [
        "## Code Preface"
      ]
    },
    {
      "cell_type": "code",
      "metadata": {
        "id": "Jcer5LOOMNJB"
      },
      "source": [
        "import pandas as pd\n",
        "import statsmodels.api as sm\n",
        "import seaborn as sns\n",
        "import matplotlib.pyplot as plt"
      ],
      "execution_count": 34,
      "outputs": []
    },
    {
      "cell_type": "markdown",
      "metadata": {
        "id": "e2zcqp3_WZXr"
      },
      "source": [
        "## Load and merge dataset"
      ]
    },
    {
      "cell_type": "code",
      "metadata": {
        "colab": {
          "base_uri": "https://localhost:8080/",
          "height": 224
        },
        "id": "FQ9m-UQ-WAJc",
        "outputId": "0a00e035-73e6-4a47-ec29-b4ada107d25c"
      },
      "source": [
        "df1 = pd.read_csv('final_project.csv')\n",
        "df2 = pd.read_csv('temp1.csv')\n",
        "temp = df1.merge(df2,left_on='tic',right_on='TICKER',how='inner')\n",
        "temp.head()"
      ],
      "execution_count": 28,
      "outputs": [
        {
          "output_type": "execute_result",
          "data": {
            "text/html": [
              "<div>\n",
              "<style scoped>\n",
              "    .dataframe tbody tr th:only-of-type {\n",
              "        vertical-align: middle;\n",
              "    }\n",
              "\n",
              "    .dataframe tbody tr th {\n",
              "        vertical-align: top;\n",
              "    }\n",
              "\n",
              "    .dataframe thead th {\n",
              "        text-align: right;\n",
              "    }\n",
              "</style>\n",
              "<table border=\"1\" class=\"dataframe\">\n",
              "  <thead>\n",
              "    <tr style=\"text-align: right;\">\n",
              "      <th></th>\n",
              "      <th>gvkey</th>\n",
              "      <th>datadate</th>\n",
              "      <th>fyear</th>\n",
              "      <th>indfmt</th>\n",
              "      <th>consol</th>\n",
              "      <th>popsrc</th>\n",
              "      <th>datafmt</th>\n",
              "      <th>tic</th>\n",
              "      <th>curcd</th>\n",
              "      <th>costat</th>\n",
              "      <th>ggroup</th>\n",
              "      <th>gsector</th>\n",
              "      <th>naics</th>\n",
              "      <th>sic</th>\n",
              "      <th>TICKER</th>\n",
              "      <th>ReturnEarly2020</th>\n",
              "      <th>ReturnLate2020</th>\n",
              "    </tr>\n",
              "  </thead>\n",
              "  <tbody>\n",
              "    <tr>\n",
              "      <th>0</th>\n",
              "      <td>1004</td>\n",
              "      <td>20200531</td>\n",
              "      <td>2019</td>\n",
              "      <td>INDL</td>\n",
              "      <td>C</td>\n",
              "      <td>D</td>\n",
              "      <td>STD</td>\n",
              "      <td>AIR</td>\n",
              "      <td>USD</td>\n",
              "      <td>A</td>\n",
              "      <td>2010</td>\n",
              "      <td>20</td>\n",
              "      <td>423860</td>\n",
              "      <td>5080</td>\n",
              "      <td>AIR</td>\n",
              "      <td>-0.603849172</td>\n",
              "      <td>1.039410</td>\n",
              "    </tr>\n",
              "    <tr>\n",
              "      <th>1</th>\n",
              "      <td>1045</td>\n",
              "      <td>20201231</td>\n",
              "      <td>2020</td>\n",
              "      <td>INDL</td>\n",
              "      <td>C</td>\n",
              "      <td>D</td>\n",
              "      <td>STD</td>\n",
              "      <td>AAL</td>\n",
              "      <td>USD</td>\n",
              "      <td>A</td>\n",
              "      <td>2030</td>\n",
              "      <td>20</td>\n",
              "      <td>481111</td>\n",
              "      <td>4512</td>\n",
              "      <td>AAL</td>\n",
              "      <td>-0.572734092</td>\n",
              "      <td>0.293682</td>\n",
              "    </tr>\n",
              "    <tr>\n",
              "      <th>2</th>\n",
              "      <td>1050</td>\n",
              "      <td>20201231</td>\n",
              "      <td>2020</td>\n",
              "      <td>INDL</td>\n",
              "      <td>C</td>\n",
              "      <td>D</td>\n",
              "      <td>STD</td>\n",
              "      <td>CECE</td>\n",
              "      <td>USD</td>\n",
              "      <td>A</td>\n",
              "      <td>2020</td>\n",
              "      <td>20</td>\n",
              "      <td>333413</td>\n",
              "      <td>3564</td>\n",
              "      <td>CECE</td>\n",
              "      <td>-0.390339285</td>\n",
              "      <td>0.490365</td>\n",
              "    </tr>\n",
              "    <tr>\n",
              "      <th>3</th>\n",
              "      <td>1075</td>\n",
              "      <td>20201231</td>\n",
              "      <td>2020</td>\n",
              "      <td>INDL</td>\n",
              "      <td>C</td>\n",
              "      <td>D</td>\n",
              "      <td>STD</td>\n",
              "      <td>PNW</td>\n",
              "      <td>USD</td>\n",
              "      <td>A</td>\n",
              "      <td>5510</td>\n",
              "      <td>55</td>\n",
              "      <td>2211</td>\n",
              "      <td>4911</td>\n",
              "      <td>PNW</td>\n",
              "      <td>-0.150482745</td>\n",
              "      <td>0.086464</td>\n",
              "    </tr>\n",
              "    <tr>\n",
              "      <th>4</th>\n",
              "      <td>1078</td>\n",
              "      <td>20201231</td>\n",
              "      <td>2020</td>\n",
              "      <td>INDL</td>\n",
              "      <td>C</td>\n",
              "      <td>D</td>\n",
              "      <td>STD</td>\n",
              "      <td>ABT</td>\n",
              "      <td>USD</td>\n",
              "      <td>A</td>\n",
              "      <td>3510</td>\n",
              "      <td>35</td>\n",
              "      <td>334510</td>\n",
              "      <td>3845</td>\n",
              "      <td>ABT</td>\n",
              "      <td>-0.087773459</td>\n",
              "      <td>0.402724</td>\n",
              "    </tr>\n",
              "  </tbody>\n",
              "</table>\n",
              "</div>"
            ],
            "text/plain": [
              "   gvkey  datadate  fyear indfmt  ...   sic TICKER ReturnEarly2020 ReturnLate2020\n",
              "0   1004  20200531   2019   INDL  ...  5080    AIR    -0.603849172       1.039410\n",
              "1   1045  20201231   2020   INDL  ...  4512    AAL    -0.572734092       0.293682\n",
              "2   1050  20201231   2020   INDL  ...  3564   CECE    -0.390339285       0.490365\n",
              "3   1075  20201231   2020   INDL  ...  4911    PNW    -0.150482745       0.086464\n",
              "4   1078  20201231   2020   INDL  ...  3845    ABT    -0.087773459       0.402724\n",
              "\n",
              "[5 rows x 17 columns]"
            ]
          },
          "metadata": {
            "tags": []
          },
          "execution_count": 28
        }
      ]
    },
    {
      "cell_type": "code",
      "metadata": {
        "colab": {
          "base_uri": "https://localhost:8080/",
          "height": 0
        },
        "id": "RCKa3cf9WmMF",
        "outputId": "b54c534f-4d4b-4564-e2dc-507e2a6e9a00"
      },
      "source": [
        "# Check whether dataset has missing value\n",
        "temp.info()"
      ],
      "execution_count": 29,
      "outputs": [
        {
          "output_type": "stream",
          "text": [
            "<class 'pandas.core.frame.DataFrame'>\n",
            "Int64Index: 2671 entries, 0 to 2670\n",
            "Data columns (total 17 columns):\n",
            " #   Column           Non-Null Count  Dtype  \n",
            "---  ------           --------------  -----  \n",
            " 0   gvkey            2671 non-null   int64  \n",
            " 1   datadate         2671 non-null   int64  \n",
            " 2   fyear            2671 non-null   int64  \n",
            " 3   indfmt           2671 non-null   object \n",
            " 4   consol           2671 non-null   object \n",
            " 5   popsrc           2671 non-null   object \n",
            " 6   datafmt          2671 non-null   object \n",
            " 7   tic              2671 non-null   object \n",
            " 8   curcd            2671 non-null   object \n",
            " 9   costat           2671 non-null   object \n",
            " 10  ggroup           2671 non-null   int64  \n",
            " 11  gsector          2671 non-null   int64  \n",
            " 12  naics            2671 non-null   int64  \n",
            " 13  sic              2671 non-null   int64  \n",
            " 14  TICKER           2671 non-null   object \n",
            " 15  ReturnEarly2020  2671 non-null   object \n",
            " 16  ReturnLate2020   2671 non-null   float64\n",
            "dtypes: float64(1), int64(7), object(9)\n",
            "memory usage: 375.6+ KB\n"
          ],
          "name": "stdout"
        }
      ]
    },
    {
      "cell_type": "code",
      "metadata": {
        "colab": {
          "base_uri": "https://localhost:8080/",
          "height": 0
        },
        "id": "umOKcYObWmOg",
        "outputId": "aea9d90b-5013-447e-bac3-e53290259cf8"
      },
      "source": [
        "# Delete #VALUE! in ReturnEarly2020\n",
        "df_copy = temp.loc[temp[\"ReturnEarly2020\"] != \"#VALUE!\"]\n",
        "# ReturnEarly2020 is object, convert it into numeric type\n",
        "df_copy[\"ReturnEarly2020\"] = pd.to_numeric(df_copy[\"ReturnEarly2020\"])\n",
        "df_copy.info()"
      ],
      "execution_count": 30,
      "outputs": [
        {
          "output_type": "stream",
          "text": [
            "<class 'pandas.core.frame.DataFrame'>\n",
            "Int64Index: 2666 entries, 0 to 2670\n",
            "Data columns (total 17 columns):\n",
            " #   Column           Non-Null Count  Dtype  \n",
            "---  ------           --------------  -----  \n",
            " 0   gvkey            2666 non-null   int64  \n",
            " 1   datadate         2666 non-null   int64  \n",
            " 2   fyear            2666 non-null   int64  \n",
            " 3   indfmt           2666 non-null   object \n",
            " 4   consol           2666 non-null   object \n",
            " 5   popsrc           2666 non-null   object \n",
            " 6   datafmt          2666 non-null   object \n",
            " 7   tic              2666 non-null   object \n",
            " 8   curcd            2666 non-null   object \n",
            " 9   costat           2666 non-null   object \n",
            " 10  ggroup           2666 non-null   int64  \n",
            " 11  gsector          2666 non-null   int64  \n",
            " 12  naics            2666 non-null   int64  \n",
            " 13  sic              2666 non-null   int64  \n",
            " 14  TICKER           2666 non-null   object \n",
            " 15  ReturnEarly2020  2666 non-null   float64\n",
            " 16  ReturnLate2020   2666 non-null   float64\n",
            "dtypes: float64(2), int64(7), object(8)\n",
            "memory usage: 374.9+ KB\n"
          ],
          "name": "stdout"
        },
        {
          "output_type": "stream",
          "text": [
            "/usr/local/lib/python3.7/dist-packages/ipykernel_launcher.py:4: SettingWithCopyWarning: \n",
            "A value is trying to be set on a copy of a slice from a DataFrame.\n",
            "Try using .loc[row_indexer,col_indexer] = value instead\n",
            "\n",
            "See the caveats in the documentation: https://pandas.pydata.org/pandas-docs/stable/user_guide/indexing.html#returning-a-view-versus-a-copy\n",
            "  after removing the cwd from sys.path.\n"
          ],
          "name": "stderr"
        }
      ]
    },
    {
      "cell_type": "code",
      "metadata": {
        "colab": {
          "base_uri": "https://localhost:8080/",
          "height": 204
        },
        "id": "tNSnUGK1WmQn",
        "outputId": "9935785f-37f1-4bac-bd22-cdf56e9d918c"
      },
      "source": [
        "# Clean the data\n",
        "df = df_copy.drop(columns=['TICKER', 'gvkey','datadate','fyear','indfmt','consol','popsrc','datafmt','curcd','costat'])\n",
        "df.head()"
      ],
      "execution_count": 31,
      "outputs": [
        {
          "output_type": "execute_result",
          "data": {
            "text/html": [
              "<div>\n",
              "<style scoped>\n",
              "    .dataframe tbody tr th:only-of-type {\n",
              "        vertical-align: middle;\n",
              "    }\n",
              "\n",
              "    .dataframe tbody tr th {\n",
              "        vertical-align: top;\n",
              "    }\n",
              "\n",
              "    .dataframe thead th {\n",
              "        text-align: right;\n",
              "    }\n",
              "</style>\n",
              "<table border=\"1\" class=\"dataframe\">\n",
              "  <thead>\n",
              "    <tr style=\"text-align: right;\">\n",
              "      <th></th>\n",
              "      <th>tic</th>\n",
              "      <th>ggroup</th>\n",
              "      <th>gsector</th>\n",
              "      <th>naics</th>\n",
              "      <th>sic</th>\n",
              "      <th>ReturnEarly2020</th>\n",
              "      <th>ReturnLate2020</th>\n",
              "    </tr>\n",
              "  </thead>\n",
              "  <tbody>\n",
              "    <tr>\n",
              "      <th>0</th>\n",
              "      <td>AIR</td>\n",
              "      <td>2010</td>\n",
              "      <td>20</td>\n",
              "      <td>423860</td>\n",
              "      <td>5080</td>\n",
              "      <td>-0.603849</td>\n",
              "      <td>1.039410</td>\n",
              "    </tr>\n",
              "    <tr>\n",
              "      <th>1</th>\n",
              "      <td>AAL</td>\n",
              "      <td>2030</td>\n",
              "      <td>20</td>\n",
              "      <td>481111</td>\n",
              "      <td>4512</td>\n",
              "      <td>-0.572734</td>\n",
              "      <td>0.293682</td>\n",
              "    </tr>\n",
              "    <tr>\n",
              "      <th>2</th>\n",
              "      <td>CECE</td>\n",
              "      <td>2020</td>\n",
              "      <td>20</td>\n",
              "      <td>333413</td>\n",
              "      <td>3564</td>\n",
              "      <td>-0.390339</td>\n",
              "      <td>0.490365</td>\n",
              "    </tr>\n",
              "    <tr>\n",
              "      <th>3</th>\n",
              "      <td>PNW</td>\n",
              "      <td>5510</td>\n",
              "      <td>55</td>\n",
              "      <td>2211</td>\n",
              "      <td>4911</td>\n",
              "      <td>-0.150483</td>\n",
              "      <td>0.086464</td>\n",
              "    </tr>\n",
              "    <tr>\n",
              "      <th>4</th>\n",
              "      <td>ABT</td>\n",
              "      <td>3510</td>\n",
              "      <td>35</td>\n",
              "      <td>334510</td>\n",
              "      <td>3845</td>\n",
              "      <td>-0.087773</td>\n",
              "      <td>0.402724</td>\n",
              "    </tr>\n",
              "  </tbody>\n",
              "</table>\n",
              "</div>"
            ],
            "text/plain": [
              "    tic  ggroup  gsector   naics   sic  ReturnEarly2020  ReturnLate2020\n",
              "0   AIR    2010       20  423860  5080        -0.603849        1.039410\n",
              "1   AAL    2030       20  481111  4512        -0.572734        0.293682\n",
              "2  CECE    2020       20  333413  3564        -0.390339        0.490365\n",
              "3   PNW    5510       55    2211  4911        -0.150483        0.086464\n",
              "4   ABT    3510       35  334510  3845        -0.087773        0.402724"
            ]
          },
          "metadata": {
            "tags": []
          },
          "execution_count": 31
        }
      ]
    },
    {
      "cell_type": "markdown",
      "metadata": {
        "id": "JbqWDdOmey8I"
      },
      "source": [
        "# **GGROUP Industry Analysis**"
      ]
    },
    {
      "cell_type": "markdown",
      "metadata": {
        "id": "9lXGuYKRYFic"
      },
      "source": [
        "### Create Industry Indicator (category) variables for the 24 Industry categories based on GICS GGROUP\n"
      ]
    },
    {
      "cell_type": "code",
      "metadata": {
        "colab": {
          "base_uri": "https://localhost:8080/",
          "height": 224
        },
        "id": "1CnwdsKQYIuj",
        "outputId": "d3c0ce49-368d-49c6-ac6a-dccc31d6bc06"
      },
      "source": [
        "df_ggroup = df[['tic','ggroup','ReturnEarly2020','ReturnLate2020']]\n",
        "# Get dummies of ggroup\n",
        "df_ggroup = pd.get_dummies(df_ggroup, columns=['ggroup'])\n",
        "df_ggroup.head()"
      ],
      "execution_count": 32,
      "outputs": [
        {
          "output_type": "execute_result",
          "data": {
            "text/html": [
              "<div>\n",
              "<style scoped>\n",
              "    .dataframe tbody tr th:only-of-type {\n",
              "        vertical-align: middle;\n",
              "    }\n",
              "\n",
              "    .dataframe tbody tr th {\n",
              "        vertical-align: top;\n",
              "    }\n",
              "\n",
              "    .dataframe thead th {\n",
              "        text-align: right;\n",
              "    }\n",
              "</style>\n",
              "<table border=\"1\" class=\"dataframe\">\n",
              "  <thead>\n",
              "    <tr style=\"text-align: right;\">\n",
              "      <th></th>\n",
              "      <th>tic</th>\n",
              "      <th>ReturnEarly2020</th>\n",
              "      <th>ReturnLate2020</th>\n",
              "      <th>ggroup_1010</th>\n",
              "      <th>ggroup_1510</th>\n",
              "      <th>ggroup_2010</th>\n",
              "      <th>ggroup_2020</th>\n",
              "      <th>ggroup_2030</th>\n",
              "      <th>ggroup_2510</th>\n",
              "      <th>ggroup_2520</th>\n",
              "      <th>ggroup_2530</th>\n",
              "      <th>ggroup_2550</th>\n",
              "      <th>ggroup_3010</th>\n",
              "      <th>ggroup_3020</th>\n",
              "      <th>ggroup_3030</th>\n",
              "      <th>ggroup_3510</th>\n",
              "      <th>ggroup_3520</th>\n",
              "      <th>ggroup_4010</th>\n",
              "      <th>ggroup_4020</th>\n",
              "      <th>ggroup_4030</th>\n",
              "      <th>ggroup_4510</th>\n",
              "      <th>ggroup_4520</th>\n",
              "      <th>ggroup_4530</th>\n",
              "      <th>ggroup_5010</th>\n",
              "      <th>ggroup_5020</th>\n",
              "      <th>ggroup_5510</th>\n",
              "      <th>ggroup_6010</th>\n",
              "    </tr>\n",
              "  </thead>\n",
              "  <tbody>\n",
              "    <tr>\n",
              "      <th>0</th>\n",
              "      <td>AIR</td>\n",
              "      <td>-0.603849</td>\n",
              "      <td>1.039410</td>\n",
              "      <td>0</td>\n",
              "      <td>0</td>\n",
              "      <td>1</td>\n",
              "      <td>0</td>\n",
              "      <td>0</td>\n",
              "      <td>0</td>\n",
              "      <td>0</td>\n",
              "      <td>0</td>\n",
              "      <td>0</td>\n",
              "      <td>0</td>\n",
              "      <td>0</td>\n",
              "      <td>0</td>\n",
              "      <td>0</td>\n",
              "      <td>0</td>\n",
              "      <td>0</td>\n",
              "      <td>0</td>\n",
              "      <td>0</td>\n",
              "      <td>0</td>\n",
              "      <td>0</td>\n",
              "      <td>0</td>\n",
              "      <td>0</td>\n",
              "      <td>0</td>\n",
              "      <td>0</td>\n",
              "      <td>0</td>\n",
              "    </tr>\n",
              "    <tr>\n",
              "      <th>1</th>\n",
              "      <td>AAL</td>\n",
              "      <td>-0.572734</td>\n",
              "      <td>0.293682</td>\n",
              "      <td>0</td>\n",
              "      <td>0</td>\n",
              "      <td>0</td>\n",
              "      <td>0</td>\n",
              "      <td>1</td>\n",
              "      <td>0</td>\n",
              "      <td>0</td>\n",
              "      <td>0</td>\n",
              "      <td>0</td>\n",
              "      <td>0</td>\n",
              "      <td>0</td>\n",
              "      <td>0</td>\n",
              "      <td>0</td>\n",
              "      <td>0</td>\n",
              "      <td>0</td>\n",
              "      <td>0</td>\n",
              "      <td>0</td>\n",
              "      <td>0</td>\n",
              "      <td>0</td>\n",
              "      <td>0</td>\n",
              "      <td>0</td>\n",
              "      <td>0</td>\n",
              "      <td>0</td>\n",
              "      <td>0</td>\n",
              "    </tr>\n",
              "    <tr>\n",
              "      <th>2</th>\n",
              "      <td>CECE</td>\n",
              "      <td>-0.390339</td>\n",
              "      <td>0.490365</td>\n",
              "      <td>0</td>\n",
              "      <td>0</td>\n",
              "      <td>0</td>\n",
              "      <td>1</td>\n",
              "      <td>0</td>\n",
              "      <td>0</td>\n",
              "      <td>0</td>\n",
              "      <td>0</td>\n",
              "      <td>0</td>\n",
              "      <td>0</td>\n",
              "      <td>0</td>\n",
              "      <td>0</td>\n",
              "      <td>0</td>\n",
              "      <td>0</td>\n",
              "      <td>0</td>\n",
              "      <td>0</td>\n",
              "      <td>0</td>\n",
              "      <td>0</td>\n",
              "      <td>0</td>\n",
              "      <td>0</td>\n",
              "      <td>0</td>\n",
              "      <td>0</td>\n",
              "      <td>0</td>\n",
              "      <td>0</td>\n",
              "    </tr>\n",
              "    <tr>\n",
              "      <th>3</th>\n",
              "      <td>PNW</td>\n",
              "      <td>-0.150483</td>\n",
              "      <td>0.086464</td>\n",
              "      <td>0</td>\n",
              "      <td>0</td>\n",
              "      <td>0</td>\n",
              "      <td>0</td>\n",
              "      <td>0</td>\n",
              "      <td>0</td>\n",
              "      <td>0</td>\n",
              "      <td>0</td>\n",
              "      <td>0</td>\n",
              "      <td>0</td>\n",
              "      <td>0</td>\n",
              "      <td>0</td>\n",
              "      <td>0</td>\n",
              "      <td>0</td>\n",
              "      <td>0</td>\n",
              "      <td>0</td>\n",
              "      <td>0</td>\n",
              "      <td>0</td>\n",
              "      <td>0</td>\n",
              "      <td>0</td>\n",
              "      <td>0</td>\n",
              "      <td>0</td>\n",
              "      <td>1</td>\n",
              "      <td>0</td>\n",
              "    </tr>\n",
              "    <tr>\n",
              "      <th>4</th>\n",
              "      <td>ABT</td>\n",
              "      <td>-0.087773</td>\n",
              "      <td>0.402724</td>\n",
              "      <td>0</td>\n",
              "      <td>0</td>\n",
              "      <td>0</td>\n",
              "      <td>0</td>\n",
              "      <td>0</td>\n",
              "      <td>0</td>\n",
              "      <td>0</td>\n",
              "      <td>0</td>\n",
              "      <td>0</td>\n",
              "      <td>0</td>\n",
              "      <td>0</td>\n",
              "      <td>0</td>\n",
              "      <td>1</td>\n",
              "      <td>0</td>\n",
              "      <td>0</td>\n",
              "      <td>0</td>\n",
              "      <td>0</td>\n",
              "      <td>0</td>\n",
              "      <td>0</td>\n",
              "      <td>0</td>\n",
              "      <td>0</td>\n",
              "      <td>0</td>\n",
              "      <td>0</td>\n",
              "      <td>0</td>\n",
              "    </tr>\n",
              "  </tbody>\n",
              "</table>\n",
              "</div>"
            ],
            "text/plain": [
              "    tic  ReturnEarly2020  ReturnLate2020  ...  ggroup_5020  ggroup_5510  ggroup_6010\n",
              "0   AIR        -0.603849        1.039410  ...            0            0            0\n",
              "1   AAL        -0.572734        0.293682  ...            0            0            0\n",
              "2  CECE        -0.390339        0.490365  ...            0            0            0\n",
              "3   PNW        -0.150483        0.086464  ...            0            1            0\n",
              "4   ABT        -0.087773        0.402724  ...            0            0            0\n",
              "\n",
              "[5 rows x 27 columns]"
            ]
          },
          "metadata": {
            "tags": []
          },
          "execution_count": 32
        }
      ]
    },
    {
      "cell_type": "markdown",
      "metadata": {
        "id": "Aid4j8BjZQSA"
      },
      "source": [
        "### Calculate average stock returns for each industry classification (24 industry groups)"
      ]
    },
    {
      "cell_type": "code",
      "metadata": {
        "id": "poFV588xYIxK"
      },
      "source": [
        "# Create a list of  \n",
        "groups = (df_ggroup.loc[:,df_ggroup.columns.str.contains('ggroup')]).columns.to_list()\n",
        "\n",
        "# Calculate average stock return of each group\n",
        "avg_late_return1 = []\n",
        "avg_early_return1 = []\n",
        "group = [0]*len(groups)\n",
        "for i in range(len(groups)):\n",
        "  group[i] = df_ggroup[df_ggroup[groups[i]] == 1]\n",
        "  avg_late = sum(group[i]['ReturnLate2020'])/group[i].shape[0]\n",
        "  avg_early = sum(group[i]['ReturnEarly2020'])/group[i].shape[0]\n",
        "  avg_late_return1.append(avg_late)\n",
        "  avg_early_return1.append(avg_early)"
      ],
      "execution_count": 7,
      "outputs": []
    },
    {
      "cell_type": "code",
      "metadata": {
        "colab": {
          "base_uri": "https://localhost:8080/",
          "height": 793
        },
        "id": "quUQtxckYIzu",
        "outputId": "11b942c6-8209-40f5-c76f-b6188fdbcc20"
      },
      "source": [
        "# Put all results into dataframe\n",
        "avg_return_ggroup = pd.DataFrame(\n",
        "    {'ggroup': groups,\n",
        "     'avg_late_return': avg_late_return1,\n",
        "     'avg_early_return': avg_early_return1\n",
        "    })\n",
        "avg_return_ggroup"
      ],
      "execution_count": 33,
      "outputs": [
        {
          "output_type": "execute_result",
          "data": {
            "text/html": [
              "<div>\n",
              "<style scoped>\n",
              "    .dataframe tbody tr th:only-of-type {\n",
              "        vertical-align: middle;\n",
              "    }\n",
              "\n",
              "    .dataframe tbody tr th {\n",
              "        vertical-align: top;\n",
              "    }\n",
              "\n",
              "    .dataframe thead th {\n",
              "        text-align: right;\n",
              "    }\n",
              "</style>\n",
              "<table border=\"1\" class=\"dataframe\">\n",
              "  <thead>\n",
              "    <tr style=\"text-align: right;\">\n",
              "      <th></th>\n",
              "      <th>ggroup</th>\n",
              "      <th>avg_late_return</th>\n",
              "      <th>avg_early_return</th>\n",
              "    </tr>\n",
              "  </thead>\n",
              "  <tbody>\n",
              "    <tr>\n",
              "      <th>0</th>\n",
              "      <td>ggroup_1010</td>\n",
              "      <td>1.017517</td>\n",
              "      <td>-0.580745</td>\n",
              "    </tr>\n",
              "    <tr>\n",
              "      <th>1</th>\n",
              "      <td>ggroup_1510</td>\n",
              "      <td>0.873224</td>\n",
              "      <td>-0.350917</td>\n",
              "    </tr>\n",
              "    <tr>\n",
              "      <th>2</th>\n",
              "      <td>ggroup_2010</td>\n",
              "      <td>0.897509</td>\n",
              "      <td>-0.316851</td>\n",
              "    </tr>\n",
              "    <tr>\n",
              "      <th>3</th>\n",
              "      <td>ggroup_2020</td>\n",
              "      <td>0.605461</td>\n",
              "      <td>-0.332514</td>\n",
              "    </tr>\n",
              "    <tr>\n",
              "      <th>4</th>\n",
              "      <td>ggroup_2030</td>\n",
              "      <td>0.709745</td>\n",
              "      <td>-0.326556</td>\n",
              "    </tr>\n",
              "    <tr>\n",
              "      <th>5</th>\n",
              "      <td>ggroup_2510</td>\n",
              "      <td>1.811358</td>\n",
              "      <td>-0.429483</td>\n",
              "    </tr>\n",
              "    <tr>\n",
              "      <th>6</th>\n",
              "      <td>ggroup_2520</td>\n",
              "      <td>1.594357</td>\n",
              "      <td>-0.391515</td>\n",
              "    </tr>\n",
              "    <tr>\n",
              "      <th>7</th>\n",
              "      <td>ggroup_2530</td>\n",
              "      <td>1.131115</td>\n",
              "      <td>-0.448220</td>\n",
              "    </tr>\n",
              "    <tr>\n",
              "      <th>8</th>\n",
              "      <td>ggroup_2550</td>\n",
              "      <td>1.780307</td>\n",
              "      <td>-0.385352</td>\n",
              "    </tr>\n",
              "    <tr>\n",
              "      <th>9</th>\n",
              "      <td>ggroup_3010</td>\n",
              "      <td>0.404087</td>\n",
              "      <td>-0.175851</td>\n",
              "    </tr>\n",
              "    <tr>\n",
              "      <th>10</th>\n",
              "      <td>ggroup_3020</td>\n",
              "      <td>0.533474</td>\n",
              "      <td>-0.181004</td>\n",
              "    </tr>\n",
              "    <tr>\n",
              "      <th>11</th>\n",
              "      <td>ggroup_3030</td>\n",
              "      <td>0.611502</td>\n",
              "      <td>-0.231034</td>\n",
              "    </tr>\n",
              "    <tr>\n",
              "      <th>12</th>\n",
              "      <td>ggroup_3510</td>\n",
              "      <td>0.739733</td>\n",
              "      <td>-0.134281</td>\n",
              "    </tr>\n",
              "    <tr>\n",
              "      <th>13</th>\n",
              "      <td>ggroup_3520</td>\n",
              "      <td>0.739747</td>\n",
              "      <td>-0.141030</td>\n",
              "    </tr>\n",
              "    <tr>\n",
              "      <th>14</th>\n",
              "      <td>ggroup_4010</td>\n",
              "      <td>0.433829</td>\n",
              "      <td>-0.368477</td>\n",
              "    </tr>\n",
              "    <tr>\n",
              "      <th>15</th>\n",
              "      <td>ggroup_4020</td>\n",
              "      <td>0.745559</td>\n",
              "      <td>-0.359551</td>\n",
              "    </tr>\n",
              "    <tr>\n",
              "      <th>16</th>\n",
              "      <td>ggroup_4030</td>\n",
              "      <td>0.358440</td>\n",
              "      <td>-0.249471</td>\n",
              "    </tr>\n",
              "    <tr>\n",
              "      <th>17</th>\n",
              "      <td>ggroup_4510</td>\n",
              "      <td>1.035505</td>\n",
              "      <td>-0.176543</td>\n",
              "    </tr>\n",
              "    <tr>\n",
              "      <th>18</th>\n",
              "      <td>ggroup_4520</td>\n",
              "      <td>0.817086</td>\n",
              "      <td>-0.289550</td>\n",
              "    </tr>\n",
              "    <tr>\n",
              "      <th>19</th>\n",
              "      <td>ggroup_4530</td>\n",
              "      <td>1.218551</td>\n",
              "      <td>-0.226510</td>\n",
              "    </tr>\n",
              "    <tr>\n",
              "      <th>20</th>\n",
              "      <td>ggroup_5010</td>\n",
              "      <td>0.490060</td>\n",
              "      <td>-0.089193</td>\n",
              "    </tr>\n",
              "    <tr>\n",
              "      <th>21</th>\n",
              "      <td>ggroup_5020</td>\n",
              "      <td>0.854719</td>\n",
              "      <td>-0.341396</td>\n",
              "    </tr>\n",
              "    <tr>\n",
              "      <th>22</th>\n",
              "      <td>ggroup_5510</td>\n",
              "      <td>0.181212</td>\n",
              "      <td>-0.147903</td>\n",
              "    </tr>\n",
              "    <tr>\n",
              "      <th>23</th>\n",
              "      <td>ggroup_6010</td>\n",
              "      <td>0.456668</td>\n",
              "      <td>-0.328122</td>\n",
              "    </tr>\n",
              "  </tbody>\n",
              "</table>\n",
              "</div>"
            ],
            "text/plain": [
              "         ggroup  avg_late_return  avg_early_return\n",
              "0   ggroup_1010         1.017517         -0.580745\n",
              "1   ggroup_1510         0.873224         -0.350917\n",
              "2   ggroup_2010         0.897509         -0.316851\n",
              "3   ggroup_2020         0.605461         -0.332514\n",
              "4   ggroup_2030         0.709745         -0.326556\n",
              "5   ggroup_2510         1.811358         -0.429483\n",
              "6   ggroup_2520         1.594357         -0.391515\n",
              "7   ggroup_2530         1.131115         -0.448220\n",
              "8   ggroup_2550         1.780307         -0.385352\n",
              "9   ggroup_3010         0.404087         -0.175851\n",
              "10  ggroup_3020         0.533474         -0.181004\n",
              "11  ggroup_3030         0.611502         -0.231034\n",
              "12  ggroup_3510         0.739733         -0.134281\n",
              "13  ggroup_3520         0.739747         -0.141030\n",
              "14  ggroup_4010         0.433829         -0.368477\n",
              "15  ggroup_4020         0.745559         -0.359551\n",
              "16  ggroup_4030         0.358440         -0.249471\n",
              "17  ggroup_4510         1.035505         -0.176543\n",
              "18  ggroup_4520         0.817086         -0.289550\n",
              "19  ggroup_4530         1.218551         -0.226510\n",
              "20  ggroup_5010         0.490060         -0.089193\n",
              "21  ggroup_5020         0.854719         -0.341396\n",
              "22  ggroup_5510         0.181212         -0.147903\n",
              "23  ggroup_6010         0.456668         -0.328122"
            ]
          },
          "metadata": {
            "tags": []
          },
          "execution_count": 33
        }
      ]
    },
    {
      "cell_type": "markdown",
      "metadata": {
        "id": "S_kspvHiINvY"
      },
      "source": [
        "We can see that all of the stock returns among 24 industries in early 2020 are negative values. This is because that people didn't realize what would be going on and how terrible the covid-19 is, such as stay-at-home orders and\n",
        "quarantine requirements. So all the industries have suffered a lot, and the stock return dropped sharply, average value of return in the different groups are negative.\n",
        "\n",
        "Also it worth noting that all of the average stock returns are positive values. This is because global economy was reviving during the late 2020."
      ]
    },
    {
      "cell_type": "markdown",
      "metadata": {
        "id": "FEjTJWVPwix_"
      },
      "source": [
        "### The highest stock return for early 2020"
      ]
    },
    {
      "cell_type": "code",
      "metadata": {
        "colab": {
          "base_uri": "https://localhost:8080/",
          "height": 936
        },
        "id": "M4VWKAQqtxrM",
        "outputId": "9e56af8f-0bcc-4237-a5dc-2814b43b1117"
      },
      "source": [
        "sns.set(rc = {'figure.figsize':(15,8)})\n",
        "chart1 = sns.barplot(x='ggroup',y='avg_early_return',data=avg_return_ggroup,color='red')\n",
        "chart1.set_xticklabels(chart1.get_xticklabels(), rotation=45)"
      ],
      "execution_count": 45,
      "outputs": [
        {
          "output_type": "execute_result",
          "data": {
            "text/plain": [
              "[Text(0, 0, 'ggroup_1010'),\n",
              " Text(0, 0, 'ggroup_1510'),\n",
              " Text(0, 0, 'ggroup_2010'),\n",
              " Text(0, 0, 'ggroup_2020'),\n",
              " Text(0, 0, 'ggroup_2030'),\n",
              " Text(0, 0, 'ggroup_2510'),\n",
              " Text(0, 0, 'ggroup_2520'),\n",
              " Text(0, 0, 'ggroup_2530'),\n",
              " Text(0, 0, 'ggroup_2550'),\n",
              " Text(0, 0, 'ggroup_3010'),\n",
              " Text(0, 0, 'ggroup_3020'),\n",
              " Text(0, 0, 'ggroup_3030'),\n",
              " Text(0, 0, 'ggroup_3510'),\n",
              " Text(0, 0, 'ggroup_3520'),\n",
              " Text(0, 0, 'ggroup_4010'),\n",
              " Text(0, 0, 'ggroup_4020'),\n",
              " Text(0, 0, 'ggroup_4030'),\n",
              " Text(0, 0, 'ggroup_4510'),\n",
              " Text(0, 0, 'ggroup_4520'),\n",
              " Text(0, 0, 'ggroup_4530'),\n",
              " Text(0, 0, 'ggroup_5010'),\n",
              " Text(0, 0, 'ggroup_5020'),\n",
              " Text(0, 0, 'ggroup_5510'),\n",
              " Text(0, 0, 'ggroup_6010')]"
            ]
          },
          "metadata": {
            "tags": []
          },
          "execution_count": 45
        },
        {
          "output_type": "display_data",
          "data": {
            "image/png": "[encoded data removed]",
            "text/plain": [
              "<Figure size 1080x576 with 1 Axes>"
            ]
          },
          "metadata": {
            "tags": []
          }
        }
      ]
    },
    {
      "cell_type": "code",
      "metadata": {
        "colab": {
          "base_uri": "https://localhost:8080/",
          "height": 933
        },
        "id": "IkyRgKqZygrV",
        "outputId": "5b619299-f028-4a52-f30b-4ff68e81d427"
      },
      "source": [
        "sns.set(rc = {'figure.figsize':(15,8)})\n",
        "chart1 = sns.barplot(x='ggroup',y='avg_late_return',data=avg_return_ggroup,color='blue')\n",
        "chart1.set_xticklabels(chart1.get_xticklabels(), rotation=45)"
      ],
      "execution_count": 54,
      "outputs": [
        {
          "output_type": "execute_result",
          "data": {
            "text/plain": [
              "[Text(0, 0, 'ggroup_1010'),\n",
              " Text(0, 0, 'ggroup_1510'),\n",
              " Text(0, 0, 'ggroup_2010'),\n",
              " Text(0, 0, 'ggroup_2020'),\n",
              " Text(0, 0, 'ggroup_2030'),\n",
              " Text(0, 0, 'ggroup_2510'),\n",
              " Text(0, 0, 'ggroup_2520'),\n",
              " Text(0, 0, 'ggroup_2530'),\n",
              " Text(0, 0, 'ggroup_2550'),\n",
              " Text(0, 0, 'ggroup_3010'),\n",
              " Text(0, 0, 'ggroup_3020'),\n",
              " Text(0, 0, 'ggroup_3030'),\n",
              " Text(0, 0, 'ggroup_3510'),\n",
              " Text(0, 0, 'ggroup_3520'),\n",
              " Text(0, 0, 'ggroup_4010'),\n",
              " Text(0, 0, 'ggroup_4020'),\n",
              " Text(0, 0, 'ggroup_4030'),\n",
              " Text(0, 0, 'ggroup_4510'),\n",
              " Text(0, 0, 'ggroup_4520'),\n",
              " Text(0, 0, 'ggroup_4530'),\n",
              " Text(0, 0, 'ggroup_5010'),\n",
              " Text(0, 0, 'ggroup_5020'),\n",
              " Text(0, 0, 'ggroup_5510'),\n",
              " Text(0, 0, 'ggroup_6010')]"
            ]
          },
          "metadata": {
            "tags": []
          },
          "execution_count": 54
        },
        {
          "output_type": "display_data",
          "data": {
            "image/png": "[encoded data removed]",
            "text/plain": [
              "<Figure size 1080x576 with 1 Axes>"
            ]
          },
          "metadata": {
            "tags": []
          }
        }
      ]
    },
    {
      "cell_type": "code",
      "metadata": {
        "colab": {
          "base_uri": "https://localhost:8080/",
          "height": 185
        },
        "id": "PvagqEp1fFR4",
        "outputId": "9d74c541-aa0b-490e-cda2-25657da72bc6"
      },
      "source": [
        "return_high = avg_return_ggroup[avg_return_ggroup.avg_early_return == avg_return_ggroup.avg_early_return.max()]\n",
        "return_high.drop(columns='avg_late_return',inplace=True)\n",
        "return_high"
      ],
      "execution_count": 9,
      "outputs": [
        {
          "output_type": "stream",
          "text": [
            "/usr/local/lib/python3.7/dist-packages/pandas/core/frame.py:4174: SettingWithCopyWarning: \n",
            "A value is trying to be set on a copy of a slice from a DataFrame\n",
            "\n",
            "See the caveats in the documentation: https://pandas.pydata.org/pandas-docs/stable/user_guide/indexing.html#returning-a-view-versus-a-copy\n",
            "  errors=errors,\n"
          ],
          "name": "stderr"
        },
        {
          "output_type": "execute_result",
          "data": {
            "text/html": [
              "<div>\n",
              "<style scoped>\n",
              "    .dataframe tbody tr th:only-of-type {\n",
              "        vertical-align: middle;\n",
              "    }\n",
              "\n",
              "    .dataframe tbody tr th {\n",
              "        vertical-align: top;\n",
              "    }\n",
              "\n",
              "    .dataframe thead th {\n",
              "        text-align: right;\n",
              "    }\n",
              "</style>\n",
              "<table border=\"1\" class=\"dataframe\">\n",
              "  <thead>\n",
              "    <tr style=\"text-align: right;\">\n",
              "      <th></th>\n",
              "      <th>ggroup</th>\n",
              "      <th>avg_early_return</th>\n",
              "    </tr>\n",
              "  </thead>\n",
              "  <tbody>\n",
              "    <tr>\n",
              "      <th>20</th>\n",
              "      <td>ggroup_5010</td>\n",
              "      <td>-0.089193</td>\n",
              "    </tr>\n",
              "  </tbody>\n",
              "</table>\n",
              "</div>"
            ],
            "text/plain": [
              "         ggroup  avg_early_return\n",
              "20  ggroup_5010         -0.089193"
            ]
          },
          "metadata": {
            "tags": []
          },
          "execution_count": 9
        }
      ]
    },
    {
      "cell_type": "markdown",
      "metadata": {
        "id": "JMTzFnWjfgne"
      },
      "source": [
        "The industry that has the highest stock return in early 2020 is ggroup_5010, which is telecommunication services industry. The average stock return is -0.089193. In sharp contrast to many other industries, the telecommunication services has been generally exempted from major COVID-19-related restrictions, as it is recognized as an essential service. Since more people are working from home and rely on video conferencing to hold meetings. In this way, traffic would grow in and reliance on connectivity and digital had been increased. Also, with the publishment of 5G, the growth and innovation of telecommunication industry are unstoppable.\n",
        "As a result, the telecom sector has remained acyclical relative to other industries throughout the crisis"
      ]
    },
    {
      "cell_type": "markdown",
      "metadata": {
        "id": "bcCVixhlfwLX"
      },
      "source": [
        "### The lowest stock return for early 2020"
      ]
    },
    {
      "cell_type": "code",
      "metadata": {
        "colab": {
          "base_uri": "https://localhost:8080/",
          "height": 185
        },
        "id": "ZwuiuNJMfxzT",
        "outputId": "7cb3acf4-aa02-4c6d-f77d-d8fb13d5455a"
      },
      "source": [
        "return_low = avg_return_ggroup[avg_return_ggroup.avg_early_return == avg_return_ggroup.avg_early_return.min()]\n",
        "return_low.drop(columns='avg_late_return',inplace=True)\n",
        "return_low"
      ],
      "execution_count": 10,
      "outputs": [
        {
          "output_type": "stream",
          "text": [
            "/usr/local/lib/python3.7/dist-packages/pandas/core/frame.py:4174: SettingWithCopyWarning: \n",
            "A value is trying to be set on a copy of a slice from a DataFrame\n",
            "\n",
            "See the caveats in the documentation: https://pandas.pydata.org/pandas-docs/stable/user_guide/indexing.html#returning-a-view-versus-a-copy\n",
            "  errors=errors,\n"
          ],
          "name": "stderr"
        },
        {
          "output_type": "execute_result",
          "data": {
            "text/html": [
              "<div>\n",
              "<style scoped>\n",
              "    .dataframe tbody tr th:only-of-type {\n",
              "        vertical-align: middle;\n",
              "    }\n",
              "\n",
              "    .dataframe tbody tr th {\n",
              "        vertical-align: top;\n",
              "    }\n",
              "\n",
              "    .dataframe thead th {\n",
              "        text-align: right;\n",
              "    }\n",
              "</style>\n",
              "<table border=\"1\" class=\"dataframe\">\n",
              "  <thead>\n",
              "    <tr style=\"text-align: right;\">\n",
              "      <th></th>\n",
              "      <th>ggroup</th>\n",
              "      <th>avg_early_return</th>\n",
              "    </tr>\n",
              "  </thead>\n",
              "  <tbody>\n",
              "    <tr>\n",
              "      <th>0</th>\n",
              "      <td>ggroup_1010</td>\n",
              "      <td>-0.580745</td>\n",
              "    </tr>\n",
              "  </tbody>\n",
              "</table>\n",
              "</div>"
            ],
            "text/plain": [
              "        ggroup  avg_early_return\n",
              "0  ggroup_1010         -0.580745"
            ]
          },
          "metadata": {
            "tags": []
          },
          "execution_count": 10
        }
      ]
    },
    {
      "cell_type": "markdown",
      "metadata": {
        "id": "Fm2bZWy3f-2K"
      },
      "source": [
        "The industry that has the lowest stock return in early2020 is ggroup_1010 which is oil, gas & consumable fules industry. The average stock return is -0.580745. The impact of COVID-19 on oil gas, and comsumable industry is huge. Oil prices are dropping due to failed agreements on production cuts and the need for chemicals and refined products is slowing from industrial slow-downs and travel restrictions during the global pandemic. Also there was a oil price war between Russia and Saudi Arabia, which have a severe impact on stock market of the United States. So this lowest stock return during early 2020 in oil, gas and consumable fules industry is reasonable."
      ]
    },
    {
      "cell_type": "markdown",
      "metadata": {
        "id": "cFLgeKZ4fkca"
      },
      "source": [
        "### The highest stock return for late 2020"
      ]
    },
    {
      "cell_type": "code",
      "metadata": {
        "colab": {
          "base_uri": "https://localhost:8080/",
          "height": 185
        },
        "id": "O8-MSsdGfiHQ",
        "outputId": "955ea1aa-0035-4b59-f886-6266a5556b89"
      },
      "source": [
        "return_high = avg_return_ggroup[avg_return_ggroup.avg_late_return == avg_return_ggroup.avg_late_return.max()]\n",
        "return_high.drop(columns='avg_early_return',inplace=True)\n",
        "return_high"
      ],
      "execution_count": 11,
      "outputs": [
        {
          "output_type": "stream",
          "text": [
            "/usr/local/lib/python3.7/dist-packages/pandas/core/frame.py:4174: SettingWithCopyWarning: \n",
            "A value is trying to be set on a copy of a slice from a DataFrame\n",
            "\n",
            "See the caveats in the documentation: https://pandas.pydata.org/pandas-docs/stable/user_guide/indexing.html#returning-a-view-versus-a-copy\n",
            "  errors=errors,\n"
          ],
          "name": "stderr"
        },
        {
          "output_type": "execute_result",
          "data": {
            "text/html": [
              "<div>\n",
              "<style scoped>\n",
              "    .dataframe tbody tr th:only-of-type {\n",
              "        vertical-align: middle;\n",
              "    }\n",
              "\n",
              "    .dataframe tbody tr th {\n",
              "        vertical-align: top;\n",
              "    }\n",
              "\n",
              "    .dataframe thead th {\n",
              "        text-align: right;\n",
              "    }\n",
              "</style>\n",
              "<table border=\"1\" class=\"dataframe\">\n",
              "  <thead>\n",
              "    <tr style=\"text-align: right;\">\n",
              "      <th></th>\n",
              "      <th>ggroup</th>\n",
              "      <th>avg_late_return</th>\n",
              "    </tr>\n",
              "  </thead>\n",
              "  <tbody>\n",
              "    <tr>\n",
              "      <th>5</th>\n",
              "      <td>ggroup_2510</td>\n",
              "      <td>1.811358</td>\n",
              "    </tr>\n",
              "  </tbody>\n",
              "</table>\n",
              "</div>"
            ],
            "text/plain": [
              "        ggroup  avg_late_return\n",
              "5  ggroup_2510         1.811358"
            ]
          },
          "metadata": {
            "tags": []
          },
          "execution_count": 11
        }
      ]
    },
    {
      "cell_type": "markdown",
      "metadata": {
        "id": "ZyBW1sj3frZV"
      },
      "source": [
        "The industry that has the highest stock return in late 2020 is ggroup_2510 which is automobiles & components industry. The average stock return is 1.811358. During the late 2020, we still have covid-19 related restrictions. We are required to wear masks and keep social distancing all the time, so traveling would be a trouble especially on public trasportation. With that being said, the needs for automobiles increased drastically. Similarly, the needs for automobile related components increased since these two are complementary goods."
      ]
    },
    {
      "cell_type": "markdown",
      "metadata": {
        "id": "1vrhWiXPgCpc"
      },
      "source": [
        "### The lowest stock return for late 2020"
      ]
    },
    {
      "cell_type": "code",
      "metadata": {
        "colab": {
          "base_uri": "https://localhost:8080/",
          "height": 185
        },
        "id": "lQBB1b-ZfiJt",
        "outputId": "cfd2b6a1-5c32-4609-8b7d-93c93972acca"
      },
      "source": [
        "return_low = avg_return_ggroup[avg_return_ggroup.avg_late_return == avg_return_ggroup.avg_late_return.min()]\n",
        "return_low.drop(columns='avg_early_return',inplace=True)\n",
        "return_low"
      ],
      "execution_count": 12,
      "outputs": [
        {
          "output_type": "stream",
          "text": [
            "/usr/local/lib/python3.7/dist-packages/pandas/core/frame.py:4174: SettingWithCopyWarning: \n",
            "A value is trying to be set on a copy of a slice from a DataFrame\n",
            "\n",
            "See the caveats in the documentation: https://pandas.pydata.org/pandas-docs/stable/user_guide/indexing.html#returning-a-view-versus-a-copy\n",
            "  errors=errors,\n"
          ],
          "name": "stderr"
        },
        {
          "output_type": "execute_result",
          "data": {
            "text/html": [
              "<div>\n",
              "<style scoped>\n",
              "    .dataframe tbody tr th:only-of-type {\n",
              "        vertical-align: middle;\n",
              "    }\n",
              "\n",
              "    .dataframe tbody tr th {\n",
              "        vertical-align: top;\n",
              "    }\n",
              "\n",
              "    .dataframe thead th {\n",
              "        text-align: right;\n",
              "    }\n",
              "</style>\n",
              "<table border=\"1\" class=\"dataframe\">\n",
              "  <thead>\n",
              "    <tr style=\"text-align: right;\">\n",
              "      <th></th>\n",
              "      <th>ggroup</th>\n",
              "      <th>avg_late_return</th>\n",
              "    </tr>\n",
              "  </thead>\n",
              "  <tbody>\n",
              "    <tr>\n",
              "      <th>22</th>\n",
              "      <td>ggroup_5510</td>\n",
              "      <td>0.181212</td>\n",
              "    </tr>\n",
              "  </tbody>\n",
              "</table>\n",
              "</div>"
            ],
            "text/plain": [
              "         ggroup  avg_late_return\n",
              "22  ggroup_5510         0.181212"
            ]
          },
          "metadata": {
            "tags": []
          },
          "execution_count": 12
        }
      ]
    },
    {
      "cell_type": "markdown",
      "metadata": {
        "id": "fqGieRezgNuY"
      },
      "source": [
        "The industry that has the lowest stock return in late 2020 is ggroup_5510 which represents the electricity, gas and water utilities. The average stock return is 0.181212. Because electricity, gas and water are the daily requirements of people, so the reviving of the economy would not have huge infuluence on the 5510 group industry's stock return. "
      ]
    },
    {
      "cell_type": "markdown",
      "metadata": {
        "id": "IuT3R4NFgZX-"
      },
      "source": [
        "### Run fixed effect regressions (using industry fixed effects) to explain both ReturnEarly2020"
      ]
    },
    {
      "cell_type": "markdown",
      "metadata": {
        "id": "oZ_2FY4lgr6b"
      },
      "source": [
        "### Early2020"
      ]
    },
    {
      "cell_type": "code",
      "metadata": {
        "colab": {
          "base_uri": "https://localhost:8080/",
          "height": 906
        },
        "id": "LtqUhkkgfiOu",
        "outputId": "08b25a38-d35c-486e-9497-221d29a3d46f"
      },
      "source": [
        "# define x as a subset of original dataframe\n",
        "x = df_ggroup.loc[:,df_ggroup.columns.str.contains('ggroup')]\n",
        "# define y as a series of ReturnEarly2020\n",
        "y = df_ggroup['ReturnEarly2020']\n",
        "\n",
        "# pass x as a dataframe, while pass y as a series\n",
        "sm.OLS(y, x).fit().summary()"
      ],
      "execution_count": 13,
      "outputs": [
        {
          "output_type": "execute_result",
          "data": {
            "text/html": [
              "<table class=\"simpletable\">\n",
              "<caption>OLS Regression Results</caption>\n",
              "<tr>\n",
              "  <th>Dep. Variable:</th>     <td>ReturnEarly2020</td> <th>  R-squared:         </th> <td>   0.131</td>\n",
              "</tr>\n",
              "<tr>\n",
              "  <th>Model:</th>                   <td>OLS</td>       <th>  Adj. R-squared:    </th> <td>   0.123</td>\n",
              "</tr>\n",
              "<tr>\n",
              "  <th>Method:</th>             <td>Least Squares</td>  <th>  F-statistic:       </th> <td>   17.25</td>\n",
              "</tr>\n",
              "<tr>\n",
              "  <th>Date:</th>             <td>Tue, 06 Jul 2021</td> <th>  Prob (F-statistic):</th> <td>1.47e-64</td>\n",
              "</tr>\n",
              "<tr>\n",
              "  <th>Time:</th>                 <td>23:28:55</td>     <th>  Log-Likelihood:    </th> <td> -500.81</td>\n",
              "</tr>\n",
              "<tr>\n",
              "  <th>No. Observations:</th>      <td>  2666</td>      <th>  AIC:               </th> <td>   1050.</td>\n",
              "</tr>\n",
              "<tr>\n",
              "  <th>Df Residuals:</th>          <td>  2642</td>      <th>  BIC:               </th> <td>   1191.</td>\n",
              "</tr>\n",
              "<tr>\n",
              "  <th>Df Model:</th>              <td>    23</td>      <th>                     </th>     <td> </td>   \n",
              "</tr>\n",
              "<tr>\n",
              "  <th>Covariance Type:</th>      <td>nonrobust</td>    <th>                     </th>     <td> </td>   \n",
              "</tr>\n",
              "</table>\n",
              "<table class=\"simpletable\">\n",
              "<tr>\n",
              "       <td></td>          <th>coef</th>     <th>std err</th>      <th>t</th>      <th>P>|t|</th>  <th>[0.025</th>    <th>0.975]</th>  \n",
              "</tr>\n",
              "<tr>\n",
              "  <th>ggroup_1010</th> <td>   -0.5807</td> <td>    0.029</td> <td>  -20.193</td> <td> 0.000</td> <td>   -0.637</td> <td>   -0.524</td>\n",
              "</tr>\n",
              "<tr>\n",
              "  <th>ggroup_1510</th> <td>   -0.3509</td> <td>    0.027</td> <td>  -13.161</td> <td> 0.000</td> <td>   -0.403</td> <td>   -0.299</td>\n",
              "</tr>\n",
              "<tr>\n",
              "  <th>ggroup_2010</th> <td>   -0.3169</td> <td>    0.019</td> <td>  -16.490</td> <td> 0.000</td> <td>   -0.355</td> <td>   -0.279</td>\n",
              "</tr>\n",
              "<tr>\n",
              "  <th>ggroup_2020</th> <td>   -0.3325</td> <td>    0.032</td> <td>  -10.329</td> <td> 0.000</td> <td>   -0.396</td> <td>   -0.269</td>\n",
              "</tr>\n",
              "<tr>\n",
              "  <th>ggroup_2030</th> <td>   -0.3266</td> <td>    0.041</td> <td>   -8.029</td> <td> 0.000</td> <td>   -0.406</td> <td>   -0.247</td>\n",
              "</tr>\n",
              "<tr>\n",
              "  <th>ggroup_2510</th> <td>   -0.4295</td> <td>    0.054</td> <td>   -7.886</td> <td> 0.000</td> <td>   -0.536</td> <td>   -0.323</td>\n",
              "</tr>\n",
              "<tr>\n",
              "  <th>ggroup_2520</th> <td>   -0.3915</td> <td>    0.032</td> <td>  -12.088</td> <td> 0.000</td> <td>   -0.455</td> <td>   -0.328</td>\n",
              "</tr>\n",
              "<tr>\n",
              "  <th>ggroup_2530</th> <td>   -0.4482</td> <td>    0.031</td> <td>  -14.417</td> <td> 0.000</td> <td>   -0.509</td> <td>   -0.387</td>\n",
              "</tr>\n",
              "<tr>\n",
              "  <th>ggroup_2550</th> <td>   -0.3854</td> <td>    0.029</td> <td>  -13.269</td> <td> 0.000</td> <td>   -0.442</td> <td>   -0.328</td>\n",
              "</tr>\n",
              "<tr>\n",
              "  <th>ggroup_3010</th> <td>   -0.1759</td> <td>    0.063</td> <td>   -2.812</td> <td> 0.005</td> <td>   -0.298</td> <td>   -0.053</td>\n",
              "</tr>\n",
              "<tr>\n",
              "  <th>ggroup_3020</th> <td>   -0.1810</td> <td>    0.038</td> <td>   -4.780</td> <td> 0.000</td> <td>   -0.255</td> <td>   -0.107</td>\n",
              "</tr>\n",
              "<tr>\n",
              "  <th>ggroup_3030</th> <td>   -0.2310</td> <td>    0.060</td> <td>   -3.859</td> <td> 0.000</td> <td>   -0.348</td> <td>   -0.114</td>\n",
              "</tr>\n",
              "<tr>\n",
              "  <th>ggroup_3510</th> <td>   -0.1343</td> <td>    0.022</td> <td>   -6.022</td> <td> 0.000</td> <td>   -0.178</td> <td>   -0.091</td>\n",
              "</tr>\n",
              "<tr>\n",
              "  <th>ggroup_3520</th> <td>   -0.1410</td> <td>    0.017</td> <td>   -8.425</td> <td> 0.000</td> <td>   -0.174</td> <td>   -0.108</td>\n",
              "</tr>\n",
              "<tr>\n",
              "  <th>ggroup_4010</th> <td>   -0.3685</td> <td>    0.017</td> <td>  -21.615</td> <td> 0.000</td> <td>   -0.402</td> <td>   -0.335</td>\n",
              "</tr>\n",
              "<tr>\n",
              "  <th>ggroup_4020</th> <td>   -0.3596</td> <td>    0.026</td> <td>  -13.651</td> <td> 0.000</td> <td>   -0.411</td> <td>   -0.308</td>\n",
              "</tr>\n",
              "<tr>\n",
              "  <th>ggroup_4030</th> <td>   -0.2495</td> <td>    0.032</td> <td>   -7.796</td> <td> 0.000</td> <td>   -0.312</td> <td>   -0.187</td>\n",
              "</tr>\n",
              "<tr>\n",
              "  <th>ggroup_4510</th> <td>   -0.1765</td> <td>    0.022</td> <td>   -8.209</td> <td> 0.000</td> <td>   -0.219</td> <td>   -0.134</td>\n",
              "</tr>\n",
              "<tr>\n",
              "  <th>ggroup_4520</th> <td>   -0.2896</td> <td>    0.030</td> <td>   -9.520</td> <td> 0.000</td> <td>   -0.349</td> <td>   -0.230</td>\n",
              "</tr>\n",
              "<tr>\n",
              "  <th>ggroup_4530</th> <td>   -0.2265</td> <td>    0.037</td> <td>   -6.081</td> <td> 0.000</td> <td>   -0.300</td> <td>   -0.153</td>\n",
              "</tr>\n",
              "<tr>\n",
              "  <th>ggroup_5010</th> <td>   -0.0892</td> <td>    0.066</td> <td>   -1.360</td> <td> 0.174</td> <td>   -0.218</td> <td>    0.039</td>\n",
              "</tr>\n",
              "<tr>\n",
              "  <th>ggroup_5020</th> <td>   -0.3414</td> <td>    0.034</td> <td>  -10.080</td> <td> 0.000</td> <td>   -0.408</td> <td>   -0.275</td>\n",
              "</tr>\n",
              "<tr>\n",
              "  <th>ggroup_5510</th> <td>   -0.1479</td> <td>    0.035</td> <td>   -4.189</td> <td> 0.000</td> <td>   -0.217</td> <td>   -0.079</td>\n",
              "</tr>\n",
              "<tr>\n",
              "  <th>ggroup_6010</th> <td>   -0.3281</td> <td>    0.022</td> <td>  -14.842</td> <td> 0.000</td> <td>   -0.371</td> <td>   -0.285</td>\n",
              "</tr>\n",
              "</table>\n",
              "<table class=\"simpletable\">\n",
              "<tr>\n",
              "  <th>Omnibus:</th>       <td>4274.602</td> <th>  Durbin-Watson:     </th>  <td>   1.940</td>  \n",
              "</tr>\n",
              "<tr>\n",
              "  <th>Prob(Omnibus):</th>  <td> 0.000</td>  <th>  Jarque-Bera (JB):  </th> <td>4937369.788</td>\n",
              "</tr>\n",
              "<tr>\n",
              "  <th>Skew:</th>           <td> 9.951</td>  <th>  Prob(JB):          </th>  <td>    0.00</td>  \n",
              "</tr>\n",
              "<tr>\n",
              "  <th>Kurtosis:</th>       <td>212.884</td> <th>  Cond. No.          </th>  <td>    3.92</td>  \n",
              "</tr>\n",
              "</table><br/><br/>Warnings:<br/>[1] Standard Errors assume that the covariance matrix of the errors is correctly specified."
            ],
            "text/plain": [
              "<class 'statsmodels.iolib.summary.Summary'>\n",
              "\"\"\"\n",
              "                            OLS Regression Results                            \n",
              "==============================================================================\n",
              "Dep. Variable:        ReturnEarly2020   R-squared:                       0.131\n",
              "Model:                            OLS   Adj. R-squared:                  0.123\n",
              "Method:                 Least Squares   F-statistic:                     17.25\n",
              "Date:                Tue, 06 Jul 2021   Prob (F-statistic):           1.47e-64\n",
              "Time:                        23:28:55   Log-Likelihood:                -500.81\n",
              "No. Observations:                2666   AIC:                             1050.\n",
              "Df Residuals:                    2642   BIC:                             1191.\n",
              "Df Model:                          23                                         \n",
              "Covariance Type:            nonrobust                                         \n",
              "===============================================================================\n",
              "                  coef    std err          t      P>|t|      [0.025      0.975]\n",
              "-------------------------------------------------------------------------------\n",
              "ggroup_1010    -0.5807      0.029    -20.193      0.000      -0.637      -0.524\n",
              "ggroup_1510    -0.3509      0.027    -13.161      0.000      -0.403      -0.299\n",
              "ggroup_2010    -0.3169      0.019    -16.490      0.000      -0.355      -0.279\n",
              "ggroup_2020    -0.3325      0.032    -10.329      0.000      -0.396      -0.269\n",
              "ggroup_2030    -0.3266      0.041     -8.029      0.000      -0.406      -0.247\n",
              "ggroup_2510    -0.4295      0.054     -7.886      0.000      -0.536      -0.323\n",
              "ggroup_2520    -0.3915      0.032    -12.088      0.000      -0.455      -0.328\n",
              "ggroup_2530    -0.4482      0.031    -14.417      0.000      -0.509      -0.387\n",
              "ggroup_2550    -0.3854      0.029    -13.269      0.000      -0.442      -0.328\n",
              "ggroup_3010    -0.1759      0.063     -2.812      0.005      -0.298      -0.053\n",
              "ggroup_3020    -0.1810      0.038     -4.780      0.000      -0.255      -0.107\n",
              "ggroup_3030    -0.2310      0.060     -3.859      0.000      -0.348      -0.114\n",
              "ggroup_3510    -0.1343      0.022     -6.022      0.000      -0.178      -0.091\n",
              "ggroup_3520    -0.1410      0.017     -8.425      0.000      -0.174      -0.108\n",
              "ggroup_4010    -0.3685      0.017    -21.615      0.000      -0.402      -0.335\n",
              "ggroup_4020    -0.3596      0.026    -13.651      0.000      -0.411      -0.308\n",
              "ggroup_4030    -0.2495      0.032     -7.796      0.000      -0.312      -0.187\n",
              "ggroup_4510    -0.1765      0.022     -8.209      0.000      -0.219      -0.134\n",
              "ggroup_4520    -0.2896      0.030     -9.520      0.000      -0.349      -0.230\n",
              "ggroup_4530    -0.2265      0.037     -6.081      0.000      -0.300      -0.153\n",
              "ggroup_5010    -0.0892      0.066     -1.360      0.174      -0.218       0.039\n",
              "ggroup_5020    -0.3414      0.034    -10.080      0.000      -0.408      -0.275\n",
              "ggroup_5510    -0.1479      0.035     -4.189      0.000      -0.217      -0.079\n",
              "ggroup_6010    -0.3281      0.022    -14.842      0.000      -0.371      -0.285\n",
              "==============================================================================\n",
              "Omnibus:                     4274.602   Durbin-Watson:                   1.940\n",
              "Prob(Omnibus):                  0.000   Jarque-Bera (JB):          4937369.788\n",
              "Skew:                           9.951   Prob(JB):                         0.00\n",
              "Kurtosis:                     212.884   Cond. No.                         3.92\n",
              "==============================================================================\n",
              "\n",
              "Warnings:\n",
              "[1] Standard Errors assume that the covariance matrix of the errors is correctly specified.\n",
              "\"\"\""
            ]
          },
          "metadata": {
            "tags": []
          },
          "execution_count": 13
        }
      ]
    },
    {
      "cell_type": "markdown",
      "metadata": {
        "id": "l5hTPWPggoWB"
      },
      "source": [
        "From the output above we can see that all industry is statistically significant except for ggoup_5010, which is the telecommunication services industry. It can be interpreted that pademic have severe negative influence on almost all the industries but slightly or no influence on telecommunication services.\n",
        "The coefficients of each industry indicate the average return in early 2020 of these industries. For example, the coefficient of ggroup_1010 is -0.5807, which means that average stock return of ggorup_1010 is -0.5807 in early 2020."
      ]
    },
    {
      "cell_type": "markdown",
      "metadata": {
        "id": "wvZetdVKgpCf"
      },
      "source": [
        "### Late2020"
      ]
    },
    {
      "cell_type": "code",
      "metadata": {
        "colab": {
          "base_uri": "https://localhost:8080/",
          "height": 906
        },
        "id": "Iv_2VfAhfiRn",
        "outputId": "fbd361c4-55d7-4e83-aff1-9baaa2d72fd3"
      },
      "source": [
        "# define x as a subset of original dataframe\n",
        "x = df_ggroup.loc[:,df_ggroup.columns.str.contains('ggroup')]\n",
        "# define y as a series of ReturnEarly2020\n",
        "y = df_ggroup['ReturnLate2020']\n",
        "\n",
        "# pass x as a dataframe, while pass y as a series\n",
        "sm.OLS(y, x).fit().summary()"
      ],
      "execution_count": 87,
      "outputs": [
        {
          "output_type": "execute_result",
          "data": {
            "text/html": [
              "<table class=\"simpletable\">\n",
              "<caption>OLS Regression Results</caption>\n",
              "<tr>\n",
              "  <th>Dep. Variable:</th>     <td>ReturnLate2020</td>  <th>  R-squared:         </th> <td>   0.110</td>\n",
              "</tr>\n",
              "<tr>\n",
              "  <th>Model:</th>                   <td>OLS</td>       <th>  Adj. R-squared:    </th> <td>   0.102</td>\n",
              "</tr>\n",
              "<tr>\n",
              "  <th>Method:</th>             <td>Least Squares</td>  <th>  F-statistic:       </th> <td>   14.18</td>\n",
              "</tr>\n",
              "<tr>\n",
              "  <th>Date:</th>             <td>Tue, 06 Jul 2021</td> <th>  Prob (F-statistic):</th> <td>7.91e-52</td>\n",
              "</tr>\n",
              "<tr>\n",
              "  <th>Time:</th>                 <td>01:51:38</td>     <th>  Log-Likelihood:    </th> <td> -3817.5</td>\n",
              "</tr>\n",
              "<tr>\n",
              "  <th>No. Observations:</th>      <td>  2666</td>      <th>  AIC:               </th> <td>   7683.</td>\n",
              "</tr>\n",
              "<tr>\n",
              "  <th>Df Residuals:</th>          <td>  2642</td>      <th>  BIC:               </th> <td>   7824.</td>\n",
              "</tr>\n",
              "<tr>\n",
              "  <th>Df Model:</th>              <td>    23</td>      <th>                     </th>     <td> </td>   \n",
              "</tr>\n",
              "<tr>\n",
              "  <th>Covariance Type:</th>      <td>nonrobust</td>    <th>                     </th>     <td> </td>   \n",
              "</tr>\n",
              "</table>\n",
              "<table class=\"simpletable\">\n",
              "<tr>\n",
              "       <td></td>          <th>coef</th>     <th>std err</th>      <th>t</th>      <th>P>|t|</th>  <th>[0.025</th>    <th>0.975]</th>  \n",
              "</tr>\n",
              "<tr>\n",
              "  <th>ggroup_1010</th> <td>    1.0175</td> <td>    0.100</td> <td>   10.197</td> <td> 0.000</td> <td>    0.822</td> <td>    1.213</td>\n",
              "</tr>\n",
              "<tr>\n",
              "  <th>ggroup_1510</th> <td>    0.8732</td> <td>    0.093</td> <td>    9.439</td> <td> 0.000</td> <td>    0.692</td> <td>    1.055</td>\n",
              "</tr>\n",
              "<tr>\n",
              "  <th>ggroup_2010</th> <td>    0.8975</td> <td>    0.067</td> <td>   13.462</td> <td> 0.000</td> <td>    0.767</td> <td>    1.028</td>\n",
              "</tr>\n",
              "<tr>\n",
              "  <th>ggroup_2020</th> <td>    0.6055</td> <td>    0.112</td> <td>    5.420</td> <td> 0.000</td> <td>    0.386</td> <td>    0.824</td>\n",
              "</tr>\n",
              "<tr>\n",
              "  <th>ggroup_2030</th> <td>    0.7097</td> <td>    0.141</td> <td>    5.029</td> <td> 0.000</td> <td>    0.433</td> <td>    0.986</td>\n",
              "</tr>\n",
              "<tr>\n",
              "  <th>ggroup_2510</th> <td>    1.8114</td> <td>    0.189</td> <td>    9.585</td> <td> 0.000</td> <td>    1.441</td> <td>    2.182</td>\n",
              "</tr>\n",
              "<tr>\n",
              "  <th>ggroup_2520</th> <td>    1.5944</td> <td>    0.112</td> <td>   14.187</td> <td> 0.000</td> <td>    1.374</td> <td>    1.815</td>\n",
              "</tr>\n",
              "<tr>\n",
              "  <th>ggroup_2530</th> <td>    1.1311</td> <td>    0.108</td> <td>   10.486</td> <td> 0.000</td> <td>    0.920</td> <td>    1.343</td>\n",
              "</tr>\n",
              "<tr>\n",
              "  <th>ggroup_2550</th> <td>    1.7803</td> <td>    0.101</td> <td>   17.668</td> <td> 0.000</td> <td>    1.583</td> <td>    1.978</td>\n",
              "</tr>\n",
              "<tr>\n",
              "  <th>ggroup_3010</th> <td>    0.4041</td> <td>    0.217</td> <td>    1.862</td> <td> 0.063</td> <td>   -0.021</td> <td>    0.830</td>\n",
              "</tr>\n",
              "<tr>\n",
              "  <th>ggroup_3020</th> <td>    0.5335</td> <td>    0.131</td> <td>    4.061</td> <td> 0.000</td> <td>    0.276</td> <td>    0.791</td>\n",
              "</tr>\n",
              "<tr>\n",
              "  <th>ggroup_3030</th> <td>    0.6115</td> <td>    0.208</td> <td>    2.944</td> <td> 0.003</td> <td>    0.204</td> <td>    1.019</td>\n",
              "</tr>\n",
              "<tr>\n",
              "  <th>ggroup_3510</th> <td>    0.7397</td> <td>    0.077</td> <td>    9.561</td> <td> 0.000</td> <td>    0.588</td> <td>    0.891</td>\n",
              "</tr>\n",
              "<tr>\n",
              "  <th>ggroup_3520</th> <td>    0.7397</td> <td>    0.058</td> <td>   12.737</td> <td> 0.000</td> <td>    0.626</td> <td>    0.854</td>\n",
              "</tr>\n",
              "<tr>\n",
              "  <th>ggroup_4010</th> <td>    0.4338</td> <td>    0.059</td> <td>    7.334</td> <td> 0.000</td> <td>    0.318</td> <td>    0.550</td>\n",
              "</tr>\n",
              "<tr>\n",
              "  <th>ggroup_4020</th> <td>    0.7456</td> <td>    0.091</td> <td>    8.158</td> <td> 0.000</td> <td>    0.566</td> <td>    0.925</td>\n",
              "</tr>\n",
              "<tr>\n",
              "  <th>ggroup_4030</th> <td>    0.3584</td> <td>    0.111</td> <td>    3.228</td> <td> 0.001</td> <td>    0.141</td> <td>    0.576</td>\n",
              "</tr>\n",
              "<tr>\n",
              "  <th>ggroup_4510</th> <td>    1.0355</td> <td>    0.075</td> <td>   13.877</td> <td> 0.000</td> <td>    0.889</td> <td>    1.182</td>\n",
              "</tr>\n",
              "<tr>\n",
              "  <th>ggroup_4520</th> <td>    0.8171</td> <td>    0.106</td> <td>    7.743</td> <td> 0.000</td> <td>    0.610</td> <td>    1.024</td>\n",
              "</tr>\n",
              "<tr>\n",
              "  <th>ggroup_4530</th> <td>    1.2186</td> <td>    0.129</td> <td>    9.428</td> <td> 0.000</td> <td>    0.965</td> <td>    1.472</td>\n",
              "</tr>\n",
              "<tr>\n",
              "  <th>ggroup_5010</th> <td>    0.4901</td> <td>    0.228</td> <td>    2.154</td> <td> 0.031</td> <td>    0.044</td> <td>    0.936</td>\n",
              "</tr>\n",
              "<tr>\n",
              "  <th>ggroup_5020</th> <td>    0.8547</td> <td>    0.118</td> <td>    7.274</td> <td> 0.000</td> <td>    0.624</td> <td>    1.085</td>\n",
              "</tr>\n",
              "<tr>\n",
              "  <th>ggroup_5510</th> <td>    0.1812</td> <td>    0.123</td> <td>    1.479</td> <td> 0.139</td> <td>   -0.059</td> <td>    0.421</td>\n",
              "</tr>\n",
              "<tr>\n",
              "  <th>ggroup_6010</th> <td>    0.4567</td> <td>    0.077</td> <td>    5.953</td> <td> 0.000</td> <td>    0.306</td> <td>    0.607</td>\n",
              "</tr>\n",
              "</table>\n",
              "<table class=\"simpletable\">\n",
              "<tr>\n",
              "  <th>Omnibus:</th>       <td>2896.217</td> <th>  Durbin-Watson:     </th>  <td>   1.956</td> \n",
              "</tr>\n",
              "<tr>\n",
              "  <th>Prob(Omnibus):</th>  <td> 0.000</td>  <th>  Jarque-Bera (JB):  </th> <td>349665.002</td>\n",
              "</tr>\n",
              "<tr>\n",
              "  <th>Skew:</th>           <td> 5.264</td>  <th>  Prob(JB):          </th>  <td>    0.00</td> \n",
              "</tr>\n",
              "<tr>\n",
              "  <th>Kurtosis:</th>       <td>58.109</td>  <th>  Cond. No.          </th>  <td>    3.92</td> \n",
              "</tr>\n",
              "</table><br/><br/>Warnings:<br/>[1] Standard Errors assume that the covariance matrix of the errors is correctly specified."
            ],
            "text/plain": [
              "<class 'statsmodels.iolib.summary.Summary'>\n",
              "\"\"\"\n",
              "                            OLS Regression Results                            \n",
              "==============================================================================\n",
              "Dep. Variable:         ReturnLate2020   R-squared:                       0.110\n",
              "Model:                            OLS   Adj. R-squared:                  0.102\n",
              "Method:                 Least Squares   F-statistic:                     14.18\n",
              "Date:                Tue, 06 Jul 2021   Prob (F-statistic):           7.91e-52\n",
              "Time:                        01:51:38   Log-Likelihood:                -3817.5\n",
              "No. Observations:                2666   AIC:                             7683.\n",
              "Df Residuals:                    2642   BIC:                             7824.\n",
              "Df Model:                          23                                         \n",
              "Covariance Type:            nonrobust                                         \n",
              "===============================================================================\n",
              "                  coef    std err          t      P>|t|      [0.025      0.975]\n",
              "-------------------------------------------------------------------------------\n",
              "ggroup_1010     1.0175      0.100     10.197      0.000       0.822       1.213\n",
              "ggroup_1510     0.8732      0.093      9.439      0.000       0.692       1.055\n",
              "ggroup_2010     0.8975      0.067     13.462      0.000       0.767       1.028\n",
              "ggroup_2020     0.6055      0.112      5.420      0.000       0.386       0.824\n",
              "ggroup_2030     0.7097      0.141      5.029      0.000       0.433       0.986\n",
              "ggroup_2510     1.8114      0.189      9.585      0.000       1.441       2.182\n",
              "ggroup_2520     1.5944      0.112     14.187      0.000       1.374       1.815\n",
              "ggroup_2530     1.1311      0.108     10.486      0.000       0.920       1.343\n",
              "ggroup_2550     1.7803      0.101     17.668      0.000       1.583       1.978\n",
              "ggroup_3010     0.4041      0.217      1.862      0.063      -0.021       0.830\n",
              "ggroup_3020     0.5335      0.131      4.061      0.000       0.276       0.791\n",
              "ggroup_3030     0.6115      0.208      2.944      0.003       0.204       1.019\n",
              "ggroup_3510     0.7397      0.077      9.561      0.000       0.588       0.891\n",
              "ggroup_3520     0.7397      0.058     12.737      0.000       0.626       0.854\n",
              "ggroup_4010     0.4338      0.059      7.334      0.000       0.318       0.550\n",
              "ggroup_4020     0.7456      0.091      8.158      0.000       0.566       0.925\n",
              "ggroup_4030     0.3584      0.111      3.228      0.001       0.141       0.576\n",
              "ggroup_4510     1.0355      0.075     13.877      0.000       0.889       1.182\n",
              "ggroup_4520     0.8171      0.106      7.743      0.000       0.610       1.024\n",
              "ggroup_4530     1.2186      0.129      9.428      0.000       0.965       1.472\n",
              "ggroup_5010     0.4901      0.228      2.154      0.031       0.044       0.936\n",
              "ggroup_5020     0.8547      0.118      7.274      0.000       0.624       1.085\n",
              "ggroup_5510     0.1812      0.123      1.479      0.139      -0.059       0.421\n",
              "ggroup_6010     0.4567      0.077      5.953      0.000       0.306       0.607\n",
              "==============================================================================\n",
              "Omnibus:                     2896.217   Durbin-Watson:                   1.956\n",
              "Prob(Omnibus):                  0.000   Jarque-Bera (JB):           349665.002\n",
              "Skew:                           5.264   Prob(JB):                         0.00\n",
              "Kurtosis:                      58.109   Cond. No.                         3.92\n",
              "==============================================================================\n",
              "\n",
              "Warnings:\n",
              "[1] Standard Errors assume that the covariance matrix of the errors is correctly specified.\n",
              "\"\"\""
            ]
          },
          "metadata": {
            "tags": []
          },
          "execution_count": 87
        }
      ]
    },
    {
      "cell_type": "markdown",
      "metadata": {
        "id": "tAcin8u8g6dc"
      },
      "source": [
        "From the output above we can see that all industry is statistically significant except for ggoup_3010 and ggroup_5510, which are the food & staple retailing and the telecommunication services industries. It can be interpreted that economic reviving of later pandemic have positive influence on almost all the industries but slightly or no influence on food & staple and telecommunication services.\n",
        "The coefficients of each industry indicate the average return in late 2020 of these industries. For example, the coefficient of ggroup_1010 is 1.0175, which means that average stock return of ggorup_1010 is 1.0175 in late 2020.\n",
        "\n",
        "The adjusted R square of regression on RenturnEarly2020 is 0.123, and the adjusted R square of regression on ReturnLate2020 is 0.101. In this way, the epxlanatory power of regression on ReturnEarly2020 is higher than that on ResturnLate2020."
      ]
    },
    {
      "cell_type": "markdown",
      "metadata": {
        "id": "BxsGUpWEmHf1"
      },
      "source": [
        "### Combine the industry fixed effects with financial ratios"
      ]
    },
    {
      "cell_type": "code",
      "metadata": {
        "colab": {
          "base_uri": "https://localhost:8080/",
          "height": 224
        },
        "id": "EGtD5UJ9mLAG",
        "outputId": "94dd53df-bba5-48a8-9ac1-49dbd6d7f1ed"
      },
      "source": [
        "assign3 = pd.read_csv('assign3.csv')\n",
        "assign3.drop(columns=['ReturnEarly2020','ReturnLate2020','Unnamed: 0'],inplace=True)\n",
        "df_ggroup_ratios = df_ggroup.merge(assign3,how='inner',left_on='tic',right_on='TICKER')\n",
        "df_ggroup_ratios.drop(columns=['tic','TICKER'],inplace=True)\n",
        "df_ggroup_ratios.head()"
      ],
      "execution_count": 9,
      "outputs": [
        {
          "output_type": "execute_result",
          "data": {
            "text/html": [
              "<div>\n",
              "<style scoped>\n",
              "    .dataframe tbody tr th:only-of-type {\n",
              "        vertical-align: middle;\n",
              "    }\n",
              "\n",
              "    .dataframe tbody tr th {\n",
              "        vertical-align: top;\n",
              "    }\n",
              "\n",
              "    .dataframe thead th {\n",
              "        text-align: right;\n",
              "    }\n",
              "</style>\n",
              "<table border=\"1\" class=\"dataframe\">\n",
              "  <thead>\n",
              "    <tr style=\"text-align: right;\">\n",
              "      <th></th>\n",
              "      <th>ReturnEarly2020</th>\n",
              "      <th>ReturnLate2020</th>\n",
              "      <th>ggroup_1010</th>\n",
              "      <th>ggroup_1510</th>\n",
              "      <th>ggroup_2010</th>\n",
              "      <th>ggroup_2020</th>\n",
              "      <th>ggroup_2030</th>\n",
              "      <th>ggroup_2510</th>\n",
              "      <th>ggroup_2520</th>\n",
              "      <th>ggroup_2530</th>\n",
              "      <th>ggroup_2550</th>\n",
              "      <th>ggroup_3010</th>\n",
              "      <th>ggroup_3020</th>\n",
              "      <th>ggroup_3030</th>\n",
              "      <th>ggroup_3510</th>\n",
              "      <th>ggroup_3520</th>\n",
              "      <th>ggroup_4010</th>\n",
              "      <th>ggroup_4020</th>\n",
              "      <th>ggroup_4030</th>\n",
              "      <th>ggroup_4510</th>\n",
              "      <th>ggroup_4520</th>\n",
              "      <th>ggroup_4530</th>\n",
              "      <th>ggroup_5010</th>\n",
              "      <th>ggroup_5020</th>\n",
              "      <th>ggroup_5510</th>\n",
              "      <th>ggroup_6010</th>\n",
              "      <th>Price/Book</th>\n",
              "      <th>P/E</th>\n",
              "      <th>P/EBIT</th>\n",
              "      <th>P/SALES</th>\n",
              "    </tr>\n",
              "  </thead>\n",
              "  <tbody>\n",
              "    <tr>\n",
              "      <th>0</th>\n",
              "      <td>-0.603849</td>\n",
              "      <td>1.039410</td>\n",
              "      <td>0</td>\n",
              "      <td>0</td>\n",
              "      <td>1</td>\n",
              "      <td>0</td>\n",
              "      <td>0</td>\n",
              "      <td>0</td>\n",
              "      <td>0</td>\n",
              "      <td>0</td>\n",
              "      <td>0</td>\n",
              "      <td>0</td>\n",
              "      <td>0</td>\n",
              "      <td>0</td>\n",
              "      <td>0</td>\n",
              "      <td>0</td>\n",
              "      <td>0</td>\n",
              "      <td>0</td>\n",
              "      <td>0</td>\n",
              "      <td>0</td>\n",
              "      <td>0</td>\n",
              "      <td>0</td>\n",
              "      <td>0</td>\n",
              "      <td>0</td>\n",
              "      <td>0</td>\n",
              "      <td>0</td>\n",
              "      <td>1.753683</td>\n",
              "      <td>359.744250</td>\n",
              "      <td>14.602165</td>\n",
              "      <td>0.757610</td>\n",
              "    </tr>\n",
              "    <tr>\n",
              "      <th>1</th>\n",
              "      <td>-0.572734</td>\n",
              "      <td>0.293682</td>\n",
              "      <td>0</td>\n",
              "      <td>0</td>\n",
              "      <td>0</td>\n",
              "      <td>0</td>\n",
              "      <td>1</td>\n",
              "      <td>0</td>\n",
              "      <td>0</td>\n",
              "      <td>0</td>\n",
              "      <td>0</td>\n",
              "      <td>0</td>\n",
              "      <td>0</td>\n",
              "      <td>0</td>\n",
              "      <td>0</td>\n",
              "      <td>0</td>\n",
              "      <td>0</td>\n",
              "      <td>0</td>\n",
              "      <td>0</td>\n",
              "      <td>0</td>\n",
              "      <td>0</td>\n",
              "      <td>0</td>\n",
              "      <td>0</td>\n",
              "      <td>0</td>\n",
              "      <td>0</td>\n",
              "      <td>0</td>\n",
              "      <td>-31.367242</td>\n",
              "      <td>7.284023</td>\n",
              "      <td>3.313778</td>\n",
              "      <td>0.268329</td>\n",
              "    </tr>\n",
              "    <tr>\n",
              "      <th>2</th>\n",
              "      <td>-0.390339</td>\n",
              "      <td>0.490365</td>\n",
              "      <td>0</td>\n",
              "      <td>0</td>\n",
              "      <td>0</td>\n",
              "      <td>1</td>\n",
              "      <td>0</td>\n",
              "      <td>0</td>\n",
              "      <td>0</td>\n",
              "      <td>0</td>\n",
              "      <td>0</td>\n",
              "      <td>0</td>\n",
              "      <td>0</td>\n",
              "      <td>0</td>\n",
              "      <td>0</td>\n",
              "      <td>0</td>\n",
              "      <td>0</td>\n",
              "      <td>0</td>\n",
              "      <td>0</td>\n",
              "      <td>0</td>\n",
              "      <td>0</td>\n",
              "      <td>0</td>\n",
              "      <td>0</td>\n",
              "      <td>0</td>\n",
              "      <td>0</td>\n",
              "      <td>0</td>\n",
              "      <td>1.394434</td>\n",
              "      <td>15.200171</td>\n",
              "      <td>13.716717</td>\n",
              "      <td>0.787288</td>\n",
              "    </tr>\n",
              "    <tr>\n",
              "      <th>3</th>\n",
              "      <td>-0.150483</td>\n",
              "      <td>0.086464</td>\n",
              "      <td>0</td>\n",
              "      <td>0</td>\n",
              "      <td>0</td>\n",
              "      <td>0</td>\n",
              "      <td>0</td>\n",
              "      <td>0</td>\n",
              "      <td>0</td>\n",
              "      <td>0</td>\n",
              "      <td>0</td>\n",
              "      <td>0</td>\n",
              "      <td>0</td>\n",
              "      <td>0</td>\n",
              "      <td>0</td>\n",
              "      <td>0</td>\n",
              "      <td>0</td>\n",
              "      <td>0</td>\n",
              "      <td>0</td>\n",
              "      <td>0</td>\n",
              "      <td>0</td>\n",
              "      <td>0</td>\n",
              "      <td>0</td>\n",
              "      <td>0</td>\n",
              "      <td>1</td>\n",
              "      <td>0</td>\n",
              "      <td>1.861908</td>\n",
              "      <td>18.783195</td>\n",
              "      <td>15.047576</td>\n",
              "      <td>2.912924</td>\n",
              "    </tr>\n",
              "    <tr>\n",
              "      <th>4</th>\n",
              "      <td>-0.087773</td>\n",
              "      <td>0.402724</td>\n",
              "      <td>0</td>\n",
              "      <td>0</td>\n",
              "      <td>0</td>\n",
              "      <td>0</td>\n",
              "      <td>0</td>\n",
              "      <td>0</td>\n",
              "      <td>0</td>\n",
              "      <td>0</td>\n",
              "      <td>0</td>\n",
              "      <td>0</td>\n",
              "      <td>0</td>\n",
              "      <td>0</td>\n",
              "      <td>1</td>\n",
              "      <td>0</td>\n",
              "      <td>0</td>\n",
              "      <td>0</td>\n",
              "      <td>0</td>\n",
              "      <td>0</td>\n",
              "      <td>0</td>\n",
              "      <td>0</td>\n",
              "      <td>0</td>\n",
              "      <td>0</td>\n",
              "      <td>0</td>\n",
              "      <td>0</td>\n",
              "      <td>4.924441</td>\n",
              "      <td>41.521836</td>\n",
              "      <td>30.369175</td>\n",
              "      <td>4.798490</td>\n",
              "    </tr>\n",
              "  </tbody>\n",
              "</table>\n",
              "</div>"
            ],
            "text/plain": [
              "   ReturnEarly2020  ReturnLate2020  ...     P/EBIT   P/SALES\n",
              "0        -0.603849        1.039410  ...  14.602165  0.757610\n",
              "1        -0.572734        0.293682  ...   3.313778  0.268329\n",
              "2        -0.390339        0.490365  ...  13.716717  0.787288\n",
              "3        -0.150483        0.086464  ...  15.047576  2.912924\n",
              "4        -0.087773        0.402724  ...  30.369175  4.798490\n",
              "\n",
              "[5 rows x 30 columns]"
            ]
          },
          "metadata": {
            "tags": []
          },
          "execution_count": 9
        }
      ]
    },
    {
      "cell_type": "markdown",
      "metadata": {
        "id": "RNknXpfAmnMK"
      },
      "source": [
        "### Early2020"
      ]
    },
    {
      "cell_type": "code",
      "metadata": {
        "colab": {
          "base_uri": "https://localhost:8080/",
          "height": 1045
        },
        "id": "bkXx9CYOmLC2",
        "outputId": "0796c9d6-61e3-4b9d-84f9-bd2d996b3d50"
      },
      "source": [
        "# define x as a subset of original dataframe\n",
        "x = df_ggroup_ratios.loc[:,~df_ggroup_ratios.columns.str.contains('Return')]\n",
        "# define y as a series\n",
        "y = df_ggroup_ratios['ReturnEarly2020']\n",
        "# Add a constant\n",
        "x = sm.add_constant(x)\n",
        "# pass x as a dataframe, while pass y as a series\n",
        "sm.OLS(y, x).fit().summary()"
      ],
      "execution_count": 15,
      "outputs": [
        {
          "output_type": "execute_result",
          "data": {
            "text/html": [
              "<table class=\"simpletable\">\n",
              "<caption>OLS Regression Results</caption>\n",
              "<tr>\n",
              "  <th>Dep. Variable:</th>     <td>ReturnEarly2020</td> <th>  R-squared:         </th> <td>   0.141</td>\n",
              "</tr>\n",
              "<tr>\n",
              "  <th>Model:</th>                   <td>OLS</td>       <th>  Adj. R-squared:    </th> <td>   0.132</td>\n",
              "</tr>\n",
              "<tr>\n",
              "  <th>Method:</th>             <td>Least Squares</td>  <th>  F-statistic:       </th> <td>   15.65</td>\n",
              "</tr>\n",
              "<tr>\n",
              "  <th>Date:</th>             <td>Tue, 06 Jul 2021</td> <th>  Prob (F-statistic):</th> <td>1.34e-66</td>\n",
              "</tr>\n",
              "<tr>\n",
              "  <th>Time:</th>                 <td>23:32:03</td>     <th>  Log-Likelihood:    </th> <td> -474.74</td>\n",
              "</tr>\n",
              "<tr>\n",
              "  <th>No. Observations:</th>      <td>  2599</td>      <th>  AIC:               </th> <td>   1005.</td>\n",
              "</tr>\n",
              "<tr>\n",
              "  <th>Df Residuals:</th>          <td>  2571</td>      <th>  BIC:               </th> <td>   1170.</td>\n",
              "</tr>\n",
              "<tr>\n",
              "  <th>Df Model:</th>              <td>    27</td>      <th>                     </th>     <td> </td>   \n",
              "</tr>\n",
              "<tr>\n",
              "  <th>Covariance Type:</th>      <td>nonrobust</td>    <th>                     </th>     <td> </td>   \n",
              "</tr>\n",
              "</table>\n",
              "<table class=\"simpletable\">\n",
              "<tr>\n",
              "       <td></td>          <th>coef</th>     <th>std err</th>      <th>t</th>      <th>P>|t|</th>  <th>[0.025</th>    <th>0.975]</th>  \n",
              "</tr>\n",
              "<tr>\n",
              "  <th>const</th>       <td>   -0.2892</td> <td>    0.008</td> <td>  -37.727</td> <td> 0.000</td> <td>   -0.304</td> <td>   -0.274</td>\n",
              "</tr>\n",
              "<tr>\n",
              "  <th>ggroup_1010</th> <td>   -0.2972</td> <td>    0.029</td> <td>  -10.405</td> <td> 0.000</td> <td>   -0.353</td> <td>   -0.241</td>\n",
              "</tr>\n",
              "<tr>\n",
              "  <th>ggroup_1510</th> <td>   -0.0678</td> <td>    0.026</td> <td>   -2.570</td> <td> 0.010</td> <td>   -0.119</td> <td>   -0.016</td>\n",
              "</tr>\n",
              "<tr>\n",
              "  <th>ggroup_2010</th> <td>   -0.0358</td> <td>    0.020</td> <td>   -1.828</td> <td> 0.068</td> <td>   -0.074</td> <td>    0.003</td>\n",
              "</tr>\n",
              "<tr>\n",
              "  <th>ggroup_2020</th> <td>   -0.0547</td> <td>    0.032</td> <td>   -1.733</td> <td> 0.083</td> <td>   -0.117</td> <td>    0.007</td>\n",
              "</tr>\n",
              "<tr>\n",
              "  <th>ggroup_2030</th> <td>   -0.0434</td> <td>    0.040</td> <td>   -1.099</td> <td> 0.272</td> <td>   -0.121</td> <td>    0.034</td>\n",
              "</tr>\n",
              "<tr>\n",
              "  <th>ggroup_2510</th> <td>   -0.1491</td> <td>    0.053</td> <td>   -2.839</td> <td> 0.005</td> <td>   -0.252</td> <td>   -0.046</td>\n",
              "</tr>\n",
              "<tr>\n",
              "  <th>ggroup_2520</th> <td>   -0.1126</td> <td>    0.031</td> <td>   -3.586</td> <td> 0.000</td> <td>   -0.174</td> <td>   -0.051</td>\n",
              "</tr>\n",
              "<tr>\n",
              "  <th>ggroup_2530</th> <td>   -0.1747</td> <td>    0.030</td> <td>   -5.747</td> <td> 0.000</td> <td>   -0.234</td> <td>   -0.115</td>\n",
              "</tr>\n",
              "<tr>\n",
              "  <th>ggroup_2550</th> <td>   -0.1081</td> <td>    0.028</td> <td>   -3.807</td> <td> 0.000</td> <td>   -0.164</td> <td>   -0.052</td>\n",
              "</tr>\n",
              "<tr>\n",
              "  <th>ggroup_3010</th> <td>    0.1047</td> <td>    0.060</td> <td>    1.739</td> <td> 0.082</td> <td>   -0.013</td> <td>    0.223</td>\n",
              "</tr>\n",
              "<tr>\n",
              "  <th>ggroup_3020</th> <td>    0.0960</td> <td>    0.035</td> <td>    2.722</td> <td> 0.007</td> <td>    0.027</td> <td>    0.165</td>\n",
              "</tr>\n",
              "<tr>\n",
              "  <th>ggroup_3030</th> <td>    0.0338</td> <td>    0.058</td> <td>    0.586</td> <td> 0.558</td> <td>   -0.079</td> <td>    0.147</td>\n",
              "</tr>\n",
              "<tr>\n",
              "  <th>ggroup_3510</th> <td>    0.1367</td> <td>    0.023</td> <td>    6.012</td> <td> 0.000</td> <td>    0.092</td> <td>    0.181</td>\n",
              "</tr>\n",
              "<tr>\n",
              "  <th>ggroup_3520</th> <td>    0.1639</td> <td>    0.021</td> <td>    7.825</td> <td> 0.000</td> <td>    0.123</td> <td>    0.205</td>\n",
              "</tr>\n",
              "<tr>\n",
              "  <th>ggroup_4010</th> <td>   -0.0840</td> <td>    0.018</td> <td>   -4.704</td> <td> 0.000</td> <td>   -0.119</td> <td>   -0.049</td>\n",
              "</tr>\n",
              "<tr>\n",
              "  <th>ggroup_4020</th> <td>   -0.0789</td> <td>    0.026</td> <td>   -3.004</td> <td> 0.003</td> <td>   -0.130</td> <td>   -0.027</td>\n",
              "</tr>\n",
              "<tr>\n",
              "  <th>ggroup_4030</th> <td>    0.0348</td> <td>    0.031</td> <td>    1.108</td> <td> 0.268</td> <td>   -0.027</td> <td>    0.096</td>\n",
              "</tr>\n",
              "<tr>\n",
              "  <th>ggroup_4510</th> <td>    0.0917</td> <td>    0.022</td> <td>    4.130</td> <td> 0.000</td> <td>    0.048</td> <td>    0.135</td>\n",
              "</tr>\n",
              "<tr>\n",
              "  <th>ggroup_4520</th> <td>   -0.0081</td> <td>    0.030</td> <td>   -0.271</td> <td> 0.786</td> <td>   -0.067</td> <td>    0.051</td>\n",
              "</tr>\n",
              "<tr>\n",
              "  <th>ggroup_4530</th> <td>    0.0470</td> <td>    0.036</td> <td>    1.294</td> <td> 0.196</td> <td>   -0.024</td> <td>    0.118</td>\n",
              "</tr>\n",
              "<tr>\n",
              "  <th>ggroup_5010</th> <td>    0.1910</td> <td>    0.063</td> <td>    3.026</td> <td> 0.002</td> <td>    0.067</td> <td>    0.315</td>\n",
              "</tr>\n",
              "<tr>\n",
              "  <th>ggroup_5020</th> <td>   -0.0597</td> <td>    0.033</td> <td>   -1.798</td> <td> 0.072</td> <td>   -0.125</td> <td>    0.005</td>\n",
              "</tr>\n",
              "<tr>\n",
              "  <th>ggroup_5510</th> <td>    0.1361</td> <td>    0.034</td> <td>    4.002</td> <td> 0.000</td> <td>    0.069</td> <td>    0.203</td>\n",
              "</tr>\n",
              "<tr>\n",
              "  <th>ggroup_6010</th> <td>   -0.0509</td> <td>    0.022</td> <td>   -2.272</td> <td> 0.023</td> <td>   -0.095</td> <td>   -0.007</td>\n",
              "</tr>\n",
              "<tr>\n",
              "  <th>Price/Book</th>  <td>    0.0019</td> <td>    0.001</td> <td>    2.937</td> <td> 0.003</td> <td>    0.001</td> <td>    0.003</td>\n",
              "</tr>\n",
              "<tr>\n",
              "  <th>P/E</th>         <td>    0.0001</td> <td> 7.25e-05</td> <td>    1.609</td> <td> 0.108</td> <td>-2.55e-05</td> <td>    0.000</td>\n",
              "</tr>\n",
              "<tr>\n",
              "  <th>P/EBIT</th>      <td> 4.671e-05</td> <td>    0.000</td> <td>    0.464</td> <td> 0.643</td> <td>   -0.000</td> <td>    0.000</td>\n",
              "</tr>\n",
              "<tr>\n",
              "  <th>P/SALES</th>     <td>  4.87e-05</td> <td>    0.000</td> <td>    0.439</td> <td> 0.660</td> <td>   -0.000</td> <td>    0.000</td>\n",
              "</tr>\n",
              "</table>\n",
              "<table class=\"simpletable\">\n",
              "<tr>\n",
              "  <th>Omnibus:</th>       <td>4237.956</td> <th>  Durbin-Watson:     </th>  <td>   1.946</td>  \n",
              "</tr>\n",
              "<tr>\n",
              "  <th>Prob(Omnibus):</th>  <td> 0.000</td>  <th>  Jarque-Bera (JB):  </th> <td>5243535.536</td>\n",
              "</tr>\n",
              "<tr>\n",
              "  <th>Skew:</th>           <td>10.283</td>  <th>  Prob(JB):          </th>  <td>    0.00</td>  \n",
              "</tr>\n",
              "<tr>\n",
              "  <th>Kurtosis:</th>       <td>222.083</td> <th>  Cond. No.          </th>  <td>2.44e+17</td>  \n",
              "</tr>\n",
              "</table><br/><br/>Warnings:<br/>[1] Standard Errors assume that the covariance matrix of the errors is correctly specified.<br/>[2] The smallest eigenvalue is 3.23e-28. This might indicate that there are<br/>strong multicollinearity problems or that the design matrix is singular."
            ],
            "text/plain": [
              "<class 'statsmodels.iolib.summary.Summary'>\n",
              "\"\"\"\n",
              "                            OLS Regression Results                            \n",
              "==============================================================================\n",
              "Dep. Variable:        ReturnEarly2020   R-squared:                       0.141\n",
              "Model:                            OLS   Adj. R-squared:                  0.132\n",
              "Method:                 Least Squares   F-statistic:                     15.65\n",
              "Date:                Tue, 06 Jul 2021   Prob (F-statistic):           1.34e-66\n",
              "Time:                        23:32:03   Log-Likelihood:                -474.74\n",
              "No. Observations:                2599   AIC:                             1005.\n",
              "Df Residuals:                    2571   BIC:                             1170.\n",
              "Df Model:                          27                                         \n",
              "Covariance Type:            nonrobust                                         \n",
              "===============================================================================\n",
              "                  coef    std err          t      P>|t|      [0.025      0.975]\n",
              "-------------------------------------------------------------------------------\n",
              "const          -0.2892      0.008    -37.727      0.000      -0.304      -0.274\n",
              "ggroup_1010    -0.2972      0.029    -10.405      0.000      -0.353      -0.241\n",
              "ggroup_1510    -0.0678      0.026     -2.570      0.010      -0.119      -0.016\n",
              "ggroup_2010    -0.0358      0.020     -1.828      0.068      -0.074       0.003\n",
              "ggroup_2020    -0.0547      0.032     -1.733      0.083      -0.117       0.007\n",
              "ggroup_2030    -0.0434      0.040     -1.099      0.272      -0.121       0.034\n",
              "ggroup_2510    -0.1491      0.053     -2.839      0.005      -0.252      -0.046\n",
              "ggroup_2520    -0.1126      0.031     -3.586      0.000      -0.174      -0.051\n",
              "ggroup_2530    -0.1747      0.030     -5.747      0.000      -0.234      -0.115\n",
              "ggroup_2550    -0.1081      0.028     -3.807      0.000      -0.164      -0.052\n",
              "ggroup_3010     0.1047      0.060      1.739      0.082      -0.013       0.223\n",
              "ggroup_3020     0.0960      0.035      2.722      0.007       0.027       0.165\n",
              "ggroup_3030     0.0338      0.058      0.586      0.558      -0.079       0.147\n",
              "ggroup_3510     0.1367      0.023      6.012      0.000       0.092       0.181\n",
              "ggroup_3520     0.1639      0.021      7.825      0.000       0.123       0.205\n",
              "ggroup_4010    -0.0840      0.018     -4.704      0.000      -0.119      -0.049\n",
              "ggroup_4020    -0.0789      0.026     -3.004      0.003      -0.130      -0.027\n",
              "ggroup_4030     0.0348      0.031      1.108      0.268      -0.027       0.096\n",
              "ggroup_4510     0.0917      0.022      4.130      0.000       0.048       0.135\n",
              "ggroup_4520    -0.0081      0.030     -0.271      0.786      -0.067       0.051\n",
              "ggroup_4530     0.0470      0.036      1.294      0.196      -0.024       0.118\n",
              "ggroup_5010     0.1910      0.063      3.026      0.002       0.067       0.315\n",
              "ggroup_5020    -0.0597      0.033     -1.798      0.072      -0.125       0.005\n",
              "ggroup_5510     0.1361      0.034      4.002      0.000       0.069       0.203\n",
              "ggroup_6010    -0.0509      0.022     -2.272      0.023      -0.095      -0.007\n",
              "Price/Book      0.0019      0.001      2.937      0.003       0.001       0.003\n",
              "P/E             0.0001   7.25e-05      1.609      0.108   -2.55e-05       0.000\n",
              "P/EBIT       4.671e-05      0.000      0.464      0.643      -0.000       0.000\n",
              "P/SALES       4.87e-05      0.000      0.439      0.660      -0.000       0.000\n",
              "==============================================================================\n",
              "Omnibus:                     4237.956   Durbin-Watson:                   1.946\n",
              "Prob(Omnibus):                  0.000   Jarque-Bera (JB):          5243535.536\n",
              "Skew:                          10.283   Prob(JB):                         0.00\n",
              "Kurtosis:                     222.083   Cond. No.                     2.44e+17\n",
              "==============================================================================\n",
              "\n",
              "Warnings:\n",
              "[1] Standard Errors assume that the covariance matrix of the errors is correctly specified.\n",
              "[2] The smallest eigenvalue is 3.23e-28. This might indicate that there are\n",
              "strong multicollinearity problems or that the design matrix is singular.\n",
              "\"\"\""
            ]
          },
          "metadata": {
            "tags": []
          },
          "execution_count": 15
        }
      ]
    },
    {
      "cell_type": "markdown",
      "metadata": {
        "id": "6x_KWiL8nT6Q"
      },
      "source": [
        "After combining four industry ratios, the adjusted R square increased slightly, from 0.123 to 0.132. So explanatory power of regression on ReturnEarly2020 only increased 0.09. \n",
        "\n",
        "Apart from that, It worth noting that, only price/book ratio is statistically significant, the p-value of which is 0.003. The stock return in early 2020 would increase 0.0019 when price/book ratio increase by 1."
      ]
    },
    {
      "cell_type": "markdown",
      "metadata": {
        "id": "YQaTnS1FnZnv"
      },
      "source": [
        "### Late2020"
      ]
    },
    {
      "cell_type": "code",
      "metadata": {
        "colab": {
          "base_uri": "https://localhost:8080/",
          "height": 1045
        },
        "id": "fPzVTIzamLFl",
        "outputId": "88567495-a50a-4b21-c160-c0e29dc6c9d1"
      },
      "source": [
        "# define x as a subset of original dataframe\n",
        "x = df_ggroup_ratios.loc[:,~df_ggroup_ratios.columns.str.contains('Return')]\n",
        "# define y as a series\n",
        "y = df_ggroup_ratios['ReturnLate2020']\n",
        "# Add a constant\n",
        "x = sm.add_constant(x)\n",
        "# pass x as a dataframe, while pass y as a series\n",
        "sm.OLS(y, x).fit().summary()"
      ],
      "execution_count": 16,
      "outputs": [
        {
          "output_type": "execute_result",
          "data": {
            "text/html": [
              "<table class=\"simpletable\">\n",
              "<caption>OLS Regression Results</caption>\n",
              "<tr>\n",
              "  <th>Dep. Variable:</th>     <td>ReturnLate2020</td>  <th>  R-squared:         </th> <td>   0.123</td>\n",
              "</tr>\n",
              "<tr>\n",
              "  <th>Model:</th>                   <td>OLS</td>       <th>  Adj. R-squared:    </th> <td>   0.114</td>\n",
              "</tr>\n",
              "<tr>\n",
              "  <th>Method:</th>             <td>Least Squares</td>  <th>  F-statistic:       </th> <td>   13.34</td>\n",
              "</tr>\n",
              "<tr>\n",
              "  <th>Date:</th>             <td>Tue, 06 Jul 2021</td> <th>  Prob (F-statistic):</th> <td>1.25e-55</td>\n",
              "</tr>\n",
              "<tr>\n",
              "  <th>Time:</th>                 <td>23:32:58</td>     <th>  Log-Likelihood:    </th> <td> -3703.4</td>\n",
              "</tr>\n",
              "<tr>\n",
              "  <th>No. Observations:</th>      <td>  2599</td>      <th>  AIC:               </th> <td>   7463.</td>\n",
              "</tr>\n",
              "<tr>\n",
              "  <th>Df Residuals:</th>          <td>  2571</td>      <th>  BIC:               </th> <td>   7627.</td>\n",
              "</tr>\n",
              "<tr>\n",
              "  <th>Df Model:</th>              <td>    27</td>      <th>                     </th>     <td> </td>   \n",
              "</tr>\n",
              "<tr>\n",
              "  <th>Covariance Type:</th>      <td>nonrobust</td>    <th>                     </th>     <td> </td>   \n",
              "</tr>\n",
              "</table>\n",
              "<table class=\"simpletable\">\n",
              "<tr>\n",
              "       <td></td>          <th>coef</th>     <th>std err</th>      <th>t</th>      <th>P>|t|</th>  <th>[0.025</th>    <th>0.975]</th>  \n",
              "</tr>\n",
              "<tr>\n",
              "  <th>const</th>       <td>    0.8221</td> <td>    0.027</td> <td>   30.960</td> <td> 0.000</td> <td>    0.770</td> <td>    0.874</td>\n",
              "</tr>\n",
              "<tr>\n",
              "  <th>ggroup_1010</th> <td>    0.2016</td> <td>    0.099</td> <td>    2.038</td> <td> 0.042</td> <td>    0.008</td> <td>    0.396</td>\n",
              "</tr>\n",
              "<tr>\n",
              "  <th>ggroup_1510</th> <td>    0.0714</td> <td>    0.091</td> <td>    0.782</td> <td> 0.434</td> <td>   -0.108</td> <td>    0.250</td>\n",
              "</tr>\n",
              "<tr>\n",
              "  <th>ggroup_2010</th> <td>    0.1040</td> <td>    0.068</td> <td>    1.535</td> <td> 0.125</td> <td>   -0.029</td> <td>    0.237</td>\n",
              "</tr>\n",
              "<tr>\n",
              "  <th>ggroup_2020</th> <td>   -0.1818</td> <td>    0.109</td> <td>   -1.662</td> <td> 0.097</td> <td>   -0.396</td> <td>    0.033</td>\n",
              "</tr>\n",
              "<tr>\n",
              "  <th>ggroup_2030</th> <td>   -0.0973</td> <td>    0.137</td> <td>   -0.711</td> <td> 0.477</td> <td>   -0.366</td> <td>    0.171</td>\n",
              "</tr>\n",
              "<tr>\n",
              "  <th>ggroup_2510</th> <td>    1.0135</td> <td>    0.182</td> <td>    5.571</td> <td> 0.000</td> <td>    0.657</td> <td>    1.370</td>\n",
              "</tr>\n",
              "<tr>\n",
              "  <th>ggroup_2520</th> <td>    0.7912</td> <td>    0.109</td> <td>    7.277</td> <td> 0.000</td> <td>    0.578</td> <td>    1.004</td>\n",
              "</tr>\n",
              "<tr>\n",
              "  <th>ggroup_2530</th> <td>    0.3368</td> <td>    0.105</td> <td>    3.198</td> <td> 0.001</td> <td>    0.130</td> <td>    0.543</td>\n",
              "</tr>\n",
              "<tr>\n",
              "  <th>ggroup_2550</th> <td>    0.9835</td> <td>    0.098</td> <td>    9.999</td> <td> 0.000</td> <td>    0.791</td> <td>    1.176</td>\n",
              "</tr>\n",
              "<tr>\n",
              "  <th>ggroup_3010</th> <td>   -0.3659</td> <td>    0.208</td> <td>   -1.755</td> <td> 0.079</td> <td>   -0.775</td> <td>    0.043</td>\n",
              "</tr>\n",
              "<tr>\n",
              "  <th>ggroup_3020</th> <td>   -0.3011</td> <td>    0.122</td> <td>   -2.465</td> <td> 0.014</td> <td>   -0.541</td> <td>   -0.062</td>\n",
              "</tr>\n",
              "<tr>\n",
              "  <th>ggroup_3030</th> <td>   -0.1615</td> <td>    0.200</td> <td>   -0.807</td> <td> 0.420</td> <td>   -0.554</td> <td>    0.231</td>\n",
              "</tr>\n",
              "<tr>\n",
              "  <th>ggroup_3510</th> <td>   -0.0507</td> <td>    0.079</td> <td>   -0.644</td> <td> 0.520</td> <td>   -0.205</td> <td>    0.104</td>\n",
              "</tr>\n",
              "<tr>\n",
              "  <th>ggroup_3520</th> <td>   -0.0877</td> <td>    0.073</td> <td>   -1.209</td> <td> 0.227</td> <td>   -0.230</td> <td>    0.055</td>\n",
              "</tr>\n",
              "<tr>\n",
              "  <th>ggroup_4010</th> <td>   -0.3704</td> <td>    0.062</td> <td>   -5.993</td> <td> 0.000</td> <td>   -0.492</td> <td>   -0.249</td>\n",
              "</tr>\n",
              "<tr>\n",
              "  <th>ggroup_4020</th> <td>   -0.0497</td> <td>    0.091</td> <td>   -0.547</td> <td> 0.584</td> <td>   -0.228</td> <td>    0.129</td>\n",
              "</tr>\n",
              "<tr>\n",
              "  <th>ggroup_4030</th> <td>   -0.4377</td> <td>    0.109</td> <td>   -4.021</td> <td> 0.000</td> <td>   -0.651</td> <td>   -0.224</td>\n",
              "</tr>\n",
              "<tr>\n",
              "  <th>ggroup_4510</th> <td>    0.2276</td> <td>    0.077</td> <td>    2.962</td> <td> 0.003</td> <td>    0.077</td> <td>    0.378</td>\n",
              "</tr>\n",
              "<tr>\n",
              "  <th>ggroup_4520</th> <td>    0.0021</td> <td>    0.104</td> <td>    0.020</td> <td> 0.984</td> <td>   -0.201</td> <td>    0.205</td>\n",
              "</tr>\n",
              "<tr>\n",
              "  <th>ggroup_4530</th> <td>    0.4260</td> <td>    0.126</td> <td>    3.384</td> <td> 0.001</td> <td>    0.179</td> <td>    0.673</td>\n",
              "</tr>\n",
              "<tr>\n",
              "  <th>ggroup_5010</th> <td>   -0.3076</td> <td>    0.219</td> <td>   -1.407</td> <td> 0.159</td> <td>   -0.736</td> <td>    0.121</td>\n",
              "</tr>\n",
              "<tr>\n",
              "  <th>ggroup_5020</th> <td>   -0.0156</td> <td>    0.115</td> <td>   -0.136</td> <td> 0.892</td> <td>   -0.241</td> <td>    0.210</td>\n",
              "</tr>\n",
              "<tr>\n",
              "  <th>ggroup_5510</th> <td>   -0.6023</td> <td>    0.118</td> <td>   -5.113</td> <td> 0.000</td> <td>   -0.833</td> <td>   -0.371</td>\n",
              "</tr>\n",
              "<tr>\n",
              "  <th>ggroup_6010</th> <td>   -0.3063</td> <td>    0.078</td> <td>   -3.945</td> <td> 0.000</td> <td>   -0.458</td> <td>   -0.154</td>\n",
              "</tr>\n",
              "<tr>\n",
              "  <th>Price/Book</th>  <td>   -0.0004</td> <td>    0.002</td> <td>   -0.202</td> <td> 0.840</td> <td>   -0.005</td> <td>    0.004</td>\n",
              "</tr>\n",
              "<tr>\n",
              "  <th>P/E</th>         <td>   -0.0007</td> <td>    0.000</td> <td>   -2.903</td> <td> 0.004</td> <td>   -0.001</td> <td>   -0.000</td>\n",
              "</tr>\n",
              "<tr>\n",
              "  <th>P/EBIT</th>      <td>   -0.0013</td> <td>    0.000</td> <td>   -3.630</td> <td> 0.000</td> <td>   -0.002</td> <td>   -0.001</td>\n",
              "</tr>\n",
              "<tr>\n",
              "  <th>P/SALES</th>     <td>    0.0008</td> <td>    0.000</td> <td>    1.980</td> <td> 0.048</td> <td> 7.43e-06</td> <td>    0.002</td>\n",
              "</tr>\n",
              "</table>\n",
              "<table class=\"simpletable\">\n",
              "<tr>\n",
              "  <th>Omnibus:</th>       <td>2869.297</td> <th>  Durbin-Watson:     </th>  <td>   1.946</td> \n",
              "</tr>\n",
              "<tr>\n",
              "  <th>Prob(Omnibus):</th>  <td> 0.000</td>  <th>  Jarque-Bera (JB):  </th> <td>368723.638</td>\n",
              "</tr>\n",
              "<tr>\n",
              "  <th>Skew:</th>           <td> 5.390</td>  <th>  Prob(JB):          </th>  <td>    0.00</td> \n",
              "</tr>\n",
              "<tr>\n",
              "  <th>Kurtosis:</th>       <td>60.347</td>  <th>  Cond. No.          </th>  <td>2.44e+17</td> \n",
              "</tr>\n",
              "</table><br/><br/>Warnings:<br/>[1] Standard Errors assume that the covariance matrix of the errors is correctly specified.<br/>[2] The smallest eigenvalue is 3.23e-28. This might indicate that there are<br/>strong multicollinearity problems or that the design matrix is singular."
            ],
            "text/plain": [
              "<class 'statsmodels.iolib.summary.Summary'>\n",
              "\"\"\"\n",
              "                            OLS Regression Results                            \n",
              "==============================================================================\n",
              "Dep. Variable:         ReturnLate2020   R-squared:                       0.123\n",
              "Model:                            OLS   Adj. R-squared:                  0.114\n",
              "Method:                 Least Squares   F-statistic:                     13.34\n",
              "Date:                Tue, 06 Jul 2021   Prob (F-statistic):           1.25e-55\n",
              "Time:                        23:32:58   Log-Likelihood:                -3703.4\n",
              "No. Observations:                2599   AIC:                             7463.\n",
              "Df Residuals:                    2571   BIC:                             7627.\n",
              "Df Model:                          27                                         \n",
              "Covariance Type:            nonrobust                                         \n",
              "===============================================================================\n",
              "                  coef    std err          t      P>|t|      [0.025      0.975]\n",
              "-------------------------------------------------------------------------------\n",
              "const           0.8221      0.027     30.960      0.000       0.770       0.874\n",
              "ggroup_1010     0.2016      0.099      2.038      0.042       0.008       0.396\n",
              "ggroup_1510     0.0714      0.091      0.782      0.434      -0.108       0.250\n",
              "ggroup_2010     0.1040      0.068      1.535      0.125      -0.029       0.237\n",
              "ggroup_2020    -0.1818      0.109     -1.662      0.097      -0.396       0.033\n",
              "ggroup_2030    -0.0973      0.137     -0.711      0.477      -0.366       0.171\n",
              "ggroup_2510     1.0135      0.182      5.571      0.000       0.657       1.370\n",
              "ggroup_2520     0.7912      0.109      7.277      0.000       0.578       1.004\n",
              "ggroup_2530     0.3368      0.105      3.198      0.001       0.130       0.543\n",
              "ggroup_2550     0.9835      0.098      9.999      0.000       0.791       1.176\n",
              "ggroup_3010    -0.3659      0.208     -1.755      0.079      -0.775       0.043\n",
              "ggroup_3020    -0.3011      0.122     -2.465      0.014      -0.541      -0.062\n",
              "ggroup_3030    -0.1615      0.200     -0.807      0.420      -0.554       0.231\n",
              "ggroup_3510    -0.0507      0.079     -0.644      0.520      -0.205       0.104\n",
              "ggroup_3520    -0.0877      0.073     -1.209      0.227      -0.230       0.055\n",
              "ggroup_4010    -0.3704      0.062     -5.993      0.000      -0.492      -0.249\n",
              "ggroup_4020    -0.0497      0.091     -0.547      0.584      -0.228       0.129\n",
              "ggroup_4030    -0.4377      0.109     -4.021      0.000      -0.651      -0.224\n",
              "ggroup_4510     0.2276      0.077      2.962      0.003       0.077       0.378\n",
              "ggroup_4520     0.0021      0.104      0.020      0.984      -0.201       0.205\n",
              "ggroup_4530     0.4260      0.126      3.384      0.001       0.179       0.673\n",
              "ggroup_5010    -0.3076      0.219     -1.407      0.159      -0.736       0.121\n",
              "ggroup_5020    -0.0156      0.115     -0.136      0.892      -0.241       0.210\n",
              "ggroup_5510    -0.6023      0.118     -5.113      0.000      -0.833      -0.371\n",
              "ggroup_6010    -0.3063      0.078     -3.945      0.000      -0.458      -0.154\n",
              "Price/Book     -0.0004      0.002     -0.202      0.840      -0.005       0.004\n",
              "P/E            -0.0007      0.000     -2.903      0.004      -0.001      -0.000\n",
              "P/EBIT         -0.0013      0.000     -3.630      0.000      -0.002      -0.001\n",
              "P/SALES         0.0008      0.000      1.980      0.048    7.43e-06       0.002\n",
              "==============================================================================\n",
              "Omnibus:                     2869.297   Durbin-Watson:                   1.946\n",
              "Prob(Omnibus):                  0.000   Jarque-Bera (JB):           368723.638\n",
              "Skew:                           5.390   Prob(JB):                         0.00\n",
              "Kurtosis:                      60.347   Cond. No.                     2.44e+17\n",
              "==============================================================================\n",
              "\n",
              "Warnings:\n",
              "[1] Standard Errors assume that the covariance matrix of the errors is correctly specified.\n",
              "[2] The smallest eigenvalue is 3.23e-28. This might indicate that there are\n",
              "strong multicollinearity problems or that the design matrix is singular.\n",
              "\"\"\""
            ]
          },
          "metadata": {
            "tags": []
          },
          "execution_count": 16
        }
      ]
    },
    {
      "cell_type": "markdown",
      "metadata": {
        "id": "UkD9KdxyHzwn"
      },
      "source": [
        "After combining four industry ratios, the adjusted R square increased from 0.101 to 0.113. So the explanatory power of regression on ReturnLate2020 increased slightly. \n",
        "\n",
        "Apart from that, p-value of price/book is 0.84, which is not statistically significant.\n",
        "\n",
        "The p-value of P/E ratio is 0.004, which is statistically significant, if stock return in late 2020 decreased by 0.0007, P/E ratio would incread by 1. \n",
        "\n",
        "P-value of P/EBIT is 0.000, which is statistically significant, if stock return in late 2020 decreased by 0.0013, P/EBIT ratio would incread by 1. \n",
        "\n",
        "P-value of P/SALES is 0.048, which is statistically significant, if stock return in late 2020 increased by 0.0008, P/SALES ratio would incread by 1. "
      ]
    },
    {
      "cell_type": "markdown",
      "metadata": {
        "id": "atgJfOBCg-fB"
      },
      "source": [
        "# **GSECTOR analysist**"
      ]
    },
    {
      "cell_type": "markdown",
      "metadata": {
        "id": "X1WIGS62hLoQ"
      },
      "source": [
        "### Create Industry Indicator (category) variables for the 11 setors categories"
      ]
    },
    {
      "cell_type": "code",
      "metadata": {
        "colab": {
          "base_uri": "https://localhost:8080/",
          "height": 224
        },
        "id": "Y8tNCe7NYI2L",
        "outputId": "9fb7105b-f00f-474e-f6c0-e346bd928ba9"
      },
      "source": [
        "df_gsector = df[['tic','gsector','ReturnEarly2020','ReturnLate2020']]\n",
        "# Get dummies of gsector\n",
        "df_gsector = pd.get_dummies(df_gsector, columns=['gsector'])\n",
        "df_gsector.head()"
      ],
      "execution_count": 46,
      "outputs": [
        {
          "output_type": "execute_result",
          "data": {
            "text/html": [
              "<div>\n",
              "<style scoped>\n",
              "    .dataframe tbody tr th:only-of-type {\n",
              "        vertical-align: middle;\n",
              "    }\n",
              "\n",
              "    .dataframe tbody tr th {\n",
              "        vertical-align: top;\n",
              "    }\n",
              "\n",
              "    .dataframe thead th {\n",
              "        text-align: right;\n",
              "    }\n",
              "</style>\n",
              "<table border=\"1\" class=\"dataframe\">\n",
              "  <thead>\n",
              "    <tr style=\"text-align: right;\">\n",
              "      <th></th>\n",
              "      <th>tic</th>\n",
              "      <th>ReturnEarly2020</th>\n",
              "      <th>ReturnLate2020</th>\n",
              "      <th>gsector_10</th>\n",
              "      <th>gsector_15</th>\n",
              "      <th>gsector_20</th>\n",
              "      <th>gsector_25</th>\n",
              "      <th>gsector_30</th>\n",
              "      <th>gsector_35</th>\n",
              "      <th>gsector_40</th>\n",
              "      <th>gsector_45</th>\n",
              "      <th>gsector_50</th>\n",
              "      <th>gsector_55</th>\n",
              "      <th>gsector_60</th>\n",
              "    </tr>\n",
              "  </thead>\n",
              "  <tbody>\n",
              "    <tr>\n",
              "      <th>0</th>\n",
              "      <td>AIR</td>\n",
              "      <td>-0.603849</td>\n",
              "      <td>1.039410</td>\n",
              "      <td>0</td>\n",
              "      <td>0</td>\n",
              "      <td>1</td>\n",
              "      <td>0</td>\n",
              "      <td>0</td>\n",
              "      <td>0</td>\n",
              "      <td>0</td>\n",
              "      <td>0</td>\n",
              "      <td>0</td>\n",
              "      <td>0</td>\n",
              "      <td>0</td>\n",
              "    </tr>\n",
              "    <tr>\n",
              "      <th>1</th>\n",
              "      <td>AAL</td>\n",
              "      <td>-0.572734</td>\n",
              "      <td>0.293682</td>\n",
              "      <td>0</td>\n",
              "      <td>0</td>\n",
              "      <td>1</td>\n",
              "      <td>0</td>\n",
              "      <td>0</td>\n",
              "      <td>0</td>\n",
              "      <td>0</td>\n",
              "      <td>0</td>\n",
              "      <td>0</td>\n",
              "      <td>0</td>\n",
              "      <td>0</td>\n",
              "    </tr>\n",
              "    <tr>\n",
              "      <th>2</th>\n",
              "      <td>CECE</td>\n",
              "      <td>-0.390339</td>\n",
              "      <td>0.490365</td>\n",
              "      <td>0</td>\n",
              "      <td>0</td>\n",
              "      <td>1</td>\n",
              "      <td>0</td>\n",
              "      <td>0</td>\n",
              "      <td>0</td>\n",
              "      <td>0</td>\n",
              "      <td>0</td>\n",
              "      <td>0</td>\n",
              "      <td>0</td>\n",
              "      <td>0</td>\n",
              "    </tr>\n",
              "    <tr>\n",
              "      <th>3</th>\n",
              "      <td>PNW</td>\n",
              "      <td>-0.150483</td>\n",
              "      <td>0.086464</td>\n",
              "      <td>0</td>\n",
              "      <td>0</td>\n",
              "      <td>0</td>\n",
              "      <td>0</td>\n",
              "      <td>0</td>\n",
              "      <td>0</td>\n",
              "      <td>0</td>\n",
              "      <td>0</td>\n",
              "      <td>0</td>\n",
              "      <td>1</td>\n",
              "      <td>0</td>\n",
              "    </tr>\n",
              "    <tr>\n",
              "      <th>4</th>\n",
              "      <td>ABT</td>\n",
              "      <td>-0.087773</td>\n",
              "      <td>0.402724</td>\n",
              "      <td>0</td>\n",
              "      <td>0</td>\n",
              "      <td>0</td>\n",
              "      <td>0</td>\n",
              "      <td>0</td>\n",
              "      <td>1</td>\n",
              "      <td>0</td>\n",
              "      <td>0</td>\n",
              "      <td>0</td>\n",
              "      <td>0</td>\n",
              "      <td>0</td>\n",
              "    </tr>\n",
              "  </tbody>\n",
              "</table>\n",
              "</div>"
            ],
            "text/plain": [
              "    tic  ReturnEarly2020  ReturnLate2020  ...  gsector_50  gsector_55  gsector_60\n",
              "0   AIR        -0.603849        1.039410  ...           0           0           0\n",
              "1   AAL        -0.572734        0.293682  ...           0           0           0\n",
              "2  CECE        -0.390339        0.490365  ...           0           0           0\n",
              "3   PNW        -0.150483        0.086464  ...           0           1           0\n",
              "4   ABT        -0.087773        0.402724  ...           0           0           0\n",
              "\n",
              "[5 rows x 14 columns]"
            ]
          },
          "metadata": {
            "tags": []
          },
          "execution_count": 46
        }
      ]
    },
    {
      "cell_type": "markdown",
      "metadata": {
        "id": "piCMo6Q-hauB"
      },
      "source": [
        "### Calculate average stock returns for each sector classification"
      ]
    },
    {
      "cell_type": "code",
      "metadata": {
        "id": "o2U_o1V1YI4s"
      },
      "source": [
        "# Create a list of  \n",
        "sectors = (df_gsector.loc[:,df_gsector.columns.str.contains('gsector')]).columns.to_list()\n",
        "\n",
        "# Calculate average stock return of each group\n",
        "avg_late_return2 = []\n",
        "avg_early_return2 = []\n",
        "sector = [0]*len(sectors)\n",
        "for i in range(len(sectors)):\n",
        "  sector[i] = df_gsector[df_gsector[sectors[i]] == 1]\n",
        "  avg_late = sum(sector[i]['ReturnLate2020'])/sector[i].shape[0]\n",
        "  avg_early = sum(sector[i]['ReturnEarly2020'])/sector[i].shape[0]\n",
        "  avg_late_return2.append(avg_late)\n",
        "  avg_early_return2.append(avg_early)"
      ],
      "execution_count": 47,
      "outputs": []
    },
    {
      "cell_type": "code",
      "metadata": {
        "colab": {
          "base_uri": "https://localhost:8080/",
          "height": 390
        },
        "id": "e1qJ3mm7bt0X",
        "outputId": "fe770e1b-75e8-43eb-99b9-f09b1c1a24f5"
      },
      "source": [
        "# Put all results into dataframe\n",
        "avg_return_gsector = pd.DataFrame(\n",
        "    {'gsector': sectors,\n",
        "     'avg_late_return': avg_late_return2,\n",
        "     'avg_early_return': avg_early_return2\n",
        "    })\n",
        "avg_return_gsector"
      ],
      "execution_count": 51,
      "outputs": [
        {
          "output_type": "execute_result",
          "data": {
            "text/html": [
              "<div>\n",
              "<style scoped>\n",
              "    .dataframe tbody tr th:only-of-type {\n",
              "        vertical-align: middle;\n",
              "    }\n",
              "\n",
              "    .dataframe tbody tr th {\n",
              "        vertical-align: top;\n",
              "    }\n",
              "\n",
              "    .dataframe thead th {\n",
              "        text-align: right;\n",
              "    }\n",
              "</style>\n",
              "<table border=\"1\" class=\"dataframe\">\n",
              "  <thead>\n",
              "    <tr style=\"text-align: right;\">\n",
              "      <th></th>\n",
              "      <th>gsector</th>\n",
              "      <th>avg_late_return</th>\n",
              "      <th>avg_early_return</th>\n",
              "    </tr>\n",
              "  </thead>\n",
              "  <tbody>\n",
              "    <tr>\n",
              "      <th>0</th>\n",
              "      <td>gsector_10</td>\n",
              "      <td>1.017517</td>\n",
              "      <td>-0.580745</td>\n",
              "    </tr>\n",
              "    <tr>\n",
              "      <th>1</th>\n",
              "      <td>gsector_15</td>\n",
              "      <td>0.873224</td>\n",
              "      <td>-0.350917</td>\n",
              "    </tr>\n",
              "    <tr>\n",
              "      <th>2</th>\n",
              "      <td>gsector_20</td>\n",
              "      <td>0.805108</td>\n",
              "      <td>-0.321755</td>\n",
              "    </tr>\n",
              "    <tr>\n",
              "      <th>3</th>\n",
              "      <td>gsector_25</td>\n",
              "      <td>1.541481</td>\n",
              "      <td>-0.409790</td>\n",
              "    </tr>\n",
              "    <tr>\n",
              "      <th>4</th>\n",
              "      <td>gsector_30</td>\n",
              "      <td>0.524287</td>\n",
              "      <td>-0.191263</td>\n",
              "    </tr>\n",
              "    <tr>\n",
              "      <th>5</th>\n",
              "      <td>gsector_35</td>\n",
              "      <td>0.739742</td>\n",
              "      <td>-0.138597</td>\n",
              "    </tr>\n",
              "    <tr>\n",
              "      <th>6</th>\n",
              "      <td>gsector_40</td>\n",
              "      <td>0.497959</td>\n",
              "      <td>-0.346446</td>\n",
              "    </tr>\n",
              "    <tr>\n",
              "      <th>7</th>\n",
              "      <td>gsector_45</td>\n",
              "      <td>1.009217</td>\n",
              "      <td>-0.216448</td>\n",
              "    </tr>\n",
              "    <tr>\n",
              "      <th>8</th>\n",
              "      <td>gsector_50</td>\n",
              "      <td>0.777949</td>\n",
              "      <td>-0.288301</td>\n",
              "    </tr>\n",
              "    <tr>\n",
              "      <th>9</th>\n",
              "      <td>gsector_55</td>\n",
              "      <td>0.181212</td>\n",
              "      <td>-0.147903</td>\n",
              "    </tr>\n",
              "    <tr>\n",
              "      <th>10</th>\n",
              "      <td>gsector_60</td>\n",
              "      <td>0.456668</td>\n",
              "      <td>-0.328122</td>\n",
              "    </tr>\n",
              "  </tbody>\n",
              "</table>\n",
              "</div>"
            ],
            "text/plain": [
              "       gsector  avg_late_return  avg_early_return\n",
              "0   gsector_10         1.017517         -0.580745\n",
              "1   gsector_15         0.873224         -0.350917\n",
              "2   gsector_20         0.805108         -0.321755\n",
              "3   gsector_25         1.541481         -0.409790\n",
              "4   gsector_30         0.524287         -0.191263\n",
              "5   gsector_35         0.739742         -0.138597\n",
              "6   gsector_40         0.497959         -0.346446\n",
              "7   gsector_45         1.009217         -0.216448\n",
              "8   gsector_50         0.777949         -0.288301\n",
              "9   gsector_55         0.181212         -0.147903\n",
              "10  gsector_60         0.456668         -0.328122"
            ]
          },
          "metadata": {
            "tags": []
          },
          "execution_count": 51
        }
      ]
    },
    {
      "cell_type": "markdown",
      "metadata": {
        "id": "FMwvjNAIN4Z3"
      },
      "source": [
        "We can see that all of the stock returns among 11 sectors in early 2020 are negative values. This is because that people didn't realize what would be going on and how terrible the covid-19 is, such as stay-at-home orders and\n",
        "quarantine requirements. So all the industries have suffered a lot, and the stock return dropped sharply, average value of return in the different sectors are negative.\n",
        "\n",
        "Also it worth noting that all of the average stock returns are positive values. This is because global economy was reviving during the late 2020."
      ]
    },
    {
      "cell_type": "markdown",
      "metadata": {
        "id": "-TpW9ranhfnl"
      },
      "source": [
        "### The highest stock return for early 2020"
      ]
    },
    {
      "cell_type": "code",
      "metadata": {
        "colab": {
          "base_uri": "https://localhost:8080/",
          "height": 714
        },
        "id": "r0nPtejQxxuS",
        "outputId": "41b50742-23da-4141-9a32-582a96100a10"
      },
      "source": [
        "sns.set(rc = {'figure.figsize':(15,8)})\n",
        "chart1 = sns.barplot(x='gsector',y='avg_early_return',data=avg_return_gsector,color='red')\n",
        "chart1.set_xticklabels(chart1.get_xticklabels(), rotation=45)"
      ],
      "execution_count": 52,
      "outputs": [
        {
          "output_type": "execute_result",
          "data": {
            "text/plain": [
              "[Text(0, 0, 'gsector_10'),\n",
              " Text(0, 0, 'gsector_15'),\n",
              " Text(0, 0, 'gsector_20'),\n",
              " Text(0, 0, 'gsector_25'),\n",
              " Text(0, 0, 'gsector_30'),\n",
              " Text(0, 0, 'gsector_35'),\n",
              " Text(0, 0, 'gsector_40'),\n",
              " Text(0, 0, 'gsector_45'),\n",
              " Text(0, 0, 'gsector_50'),\n",
              " Text(0, 0, 'gsector_55'),\n",
              " Text(0, 0, 'gsector_60')]"
            ]
          },
          "metadata": {
            "tags": []
          },
          "execution_count": 52
        },
        {
          "output_type": "display_data",
          "data": {
            "image/png": "[encoded data removed]",
            "text/plain": [
              "<Figure size 1080x576 with 1 Axes>"
            ]
          },
          "metadata": {
            "tags": []
          }
        }
      ]
    },
    {
      "cell_type": "code",
      "metadata": {
        "colab": {
          "base_uri": "https://localhost:8080/",
          "height": 715
        },
        "id": "FuyLnbfDyZ-t",
        "outputId": "d23db7a9-d186-4338-85e7-7441f81754ba"
      },
      "source": [
        "sns.set(rc = {'figure.figsize':(15,8)})\n",
        "chart1 = sns.barplot(x='gsector',y='avg_late_return',data=avg_return_gsector,color='blue')\n",
        "chart1.set_xticklabels(chart1.get_xticklabels(), rotation=45)"
      ],
      "execution_count": 53,
      "outputs": [
        {
          "output_type": "execute_result",
          "data": {
            "text/plain": [
              "[Text(0, 0, 'gsector_10'),\n",
              " Text(0, 0, 'gsector_15'),\n",
              " Text(0, 0, 'gsector_20'),\n",
              " Text(0, 0, 'gsector_25'),\n",
              " Text(0, 0, 'gsector_30'),\n",
              " Text(0, 0, 'gsector_35'),\n",
              " Text(0, 0, 'gsector_40'),\n",
              " Text(0, 0, 'gsector_45'),\n",
              " Text(0, 0, 'gsector_50'),\n",
              " Text(0, 0, 'gsector_55'),\n",
              " Text(0, 0, 'gsector_60')]"
            ]
          },
          "metadata": {
            "tags": []
          },
          "execution_count": 53
        },
        {
          "output_type": "display_data",
          "data": {
            "image/png": "[encoded data removed]",
            "text/plain": [
              "<Figure size 1080x576 with 1 Axes>"
            ]
          },
          "metadata": {
            "tags": []
          }
        }
      ]
    },
    {
      "cell_type": "code",
      "metadata": {
        "colab": {
          "base_uri": "https://localhost:8080/",
          "height": 185
        },
        "id": "vEl7V0W2hkT8",
        "outputId": "e79ec548-d22e-4855-e2a3-5b2340f674ad"
      },
      "source": [
        "return_high = avg_return2[avg_return2.avg_early_return == avg_return2.avg_early_return.max()]\n",
        "return_high.drop(columns='avg_late_return',inplace=True)\n",
        "return_high"
      ],
      "execution_count": 20,
      "outputs": [
        {
          "output_type": "stream",
          "text": [
            "/usr/local/lib/python3.7/dist-packages/pandas/core/frame.py:4174: SettingWithCopyWarning: \n",
            "A value is trying to be set on a copy of a slice from a DataFrame\n",
            "\n",
            "See the caveats in the documentation: https://pandas.pydata.org/pandas-docs/stable/user_guide/indexing.html#returning-a-view-versus-a-copy\n",
            "  errors=errors,\n"
          ],
          "name": "stderr"
        },
        {
          "output_type": "execute_result",
          "data": {
            "text/html": [
              "<div>\n",
              "<style scoped>\n",
              "    .dataframe tbody tr th:only-of-type {\n",
              "        vertical-align: middle;\n",
              "    }\n",
              "\n",
              "    .dataframe tbody tr th {\n",
              "        vertical-align: top;\n",
              "    }\n",
              "\n",
              "    .dataframe thead th {\n",
              "        text-align: right;\n",
              "    }\n",
              "</style>\n",
              "<table border=\"1\" class=\"dataframe\">\n",
              "  <thead>\n",
              "    <tr style=\"text-align: right;\">\n",
              "      <th></th>\n",
              "      <th>gsector</th>\n",
              "      <th>avg_early_return</th>\n",
              "    </tr>\n",
              "  </thead>\n",
              "  <tbody>\n",
              "    <tr>\n",
              "      <th>5</th>\n",
              "      <td>gsector_35</td>\n",
              "      <td>-0.138597</td>\n",
              "    </tr>\n",
              "  </tbody>\n",
              "</table>\n",
              "</div>"
            ],
            "text/plain": [
              "      gsector  avg_early_return\n",
              "5  gsector_35         -0.138597"
            ]
          },
          "metadata": {
            "tags": []
          },
          "execution_count": 20
        }
      ]
    },
    {
      "cell_type": "markdown",
      "metadata": {
        "id": "HQeL-ACwL9tN"
      },
      "source": [
        "Gsector_35 is healthcare sector. During the early 2020, pandemic was swiping the globe. Health care industry is the hope of all people for making vaccine for prevention and medicine to help people who were infected by virus and even prevention medicine that help people protect themselves of being infected. Also, the requirement of health care equipment is large and urgent. So the performance of stock return of health care is the best among all other industries."
      ]
    },
    {
      "cell_type": "markdown",
      "metadata": {
        "id": "h0_-JyGthyZ1"
      },
      "source": [
        "### The lowest stock return for early 2020"
      ]
    },
    {
      "cell_type": "code",
      "metadata": {
        "colab": {
          "base_uri": "https://localhost:8080/",
          "height": 185
        },
        "id": "JUOckML_h0cP",
        "outputId": "f5c9c349-8584-4914-b05d-4d0341a5e2e4"
      },
      "source": [
        "return_low = avg_return2[avg_return2.avg_early_return == avg_return2.avg_early_return.min()]\n",
        "return_low.drop(columns='avg_late_return',inplace=True)\n",
        "return_low"
      ],
      "execution_count": 21,
      "outputs": [
        {
          "output_type": "stream",
          "text": [
            "/usr/local/lib/python3.7/dist-packages/pandas/core/frame.py:4174: SettingWithCopyWarning: \n",
            "A value is trying to be set on a copy of a slice from a DataFrame\n",
            "\n",
            "See the caveats in the documentation: https://pandas.pydata.org/pandas-docs/stable/user_guide/indexing.html#returning-a-view-versus-a-copy\n",
            "  errors=errors,\n"
          ],
          "name": "stderr"
        },
        {
          "output_type": "execute_result",
          "data": {
            "text/html": [
              "<div>\n",
              "<style scoped>\n",
              "    .dataframe tbody tr th:only-of-type {\n",
              "        vertical-align: middle;\n",
              "    }\n",
              "\n",
              "    .dataframe tbody tr th {\n",
              "        vertical-align: top;\n",
              "    }\n",
              "\n",
              "    .dataframe thead th {\n",
              "        text-align: right;\n",
              "    }\n",
              "</style>\n",
              "<table border=\"1\" class=\"dataframe\">\n",
              "  <thead>\n",
              "    <tr style=\"text-align: right;\">\n",
              "      <th></th>\n",
              "      <th>gsector</th>\n",
              "      <th>avg_early_return</th>\n",
              "    </tr>\n",
              "  </thead>\n",
              "  <tbody>\n",
              "    <tr>\n",
              "      <th>0</th>\n",
              "      <td>gsector_10</td>\n",
              "      <td>-0.580745</td>\n",
              "    </tr>\n",
              "  </tbody>\n",
              "</table>\n",
              "</div>"
            ],
            "text/plain": [
              "      gsector  avg_early_return\n",
              "0  gsector_10         -0.580745"
            ]
          },
          "metadata": {
            "tags": []
          },
          "execution_count": 21
        }
      ]
    },
    {
      "cell_type": "markdown",
      "metadata": {
        "id": "ZSPx-e5uOTxQ"
      },
      "source": [
        "The sector that has the lowest stock return in early2020 is gsector_10 which is energy industry. The average stock return is -0.580745. The impact of COVID-19 on oil gas, and comsumable industry is huge. Oil prices are dropping due to failed agreements on production cuts and the need for chemicals and refined products is slowing from industrial slow-downs and travel restrictions during the global pandemic. Also there was a oil price war between Russia and Saudi Arabia, which have a severe impact on stock market of the United States. So this lowest stock return during early 2020 in oil, gas and consumable fules industry is reasonable."
      ]
    },
    {
      "cell_type": "markdown",
      "metadata": {
        "id": "RLmpkxDZh3Rj"
      },
      "source": [
        "### The highest stock return for late 2020"
      ]
    },
    {
      "cell_type": "code",
      "metadata": {
        "colab": {
          "base_uri": "https://localhost:8080/",
          "height": 185
        },
        "id": "n3L9Tb9UiA2U",
        "outputId": "191b5061-1f9e-42c9-c12b-6500d61a358e"
      },
      "source": [
        "return_high = avg_return2[avg_return2.avg_late_return == avg_return2.avg_late_return.max()]\n",
        "return_high.drop(columns='avg_early_return',inplace=True)\n",
        "return_high"
      ],
      "execution_count": 23,
      "outputs": [
        {
          "output_type": "stream",
          "text": [
            "/usr/local/lib/python3.7/dist-packages/pandas/core/frame.py:4174: SettingWithCopyWarning: \n",
            "A value is trying to be set on a copy of a slice from a DataFrame\n",
            "\n",
            "See the caveats in the documentation: https://pandas.pydata.org/pandas-docs/stable/user_guide/indexing.html#returning-a-view-versus-a-copy\n",
            "  errors=errors,\n"
          ],
          "name": "stderr"
        },
        {
          "output_type": "execute_result",
          "data": {
            "text/html": [
              "<div>\n",
              "<style scoped>\n",
              "    .dataframe tbody tr th:only-of-type {\n",
              "        vertical-align: middle;\n",
              "    }\n",
              "\n",
              "    .dataframe tbody tr th {\n",
              "        vertical-align: top;\n",
              "    }\n",
              "\n",
              "    .dataframe thead th {\n",
              "        text-align: right;\n",
              "    }\n",
              "</style>\n",
              "<table border=\"1\" class=\"dataframe\">\n",
              "  <thead>\n",
              "    <tr style=\"text-align: right;\">\n",
              "      <th></th>\n",
              "      <th>gsector</th>\n",
              "      <th>avg_late_return</th>\n",
              "    </tr>\n",
              "  </thead>\n",
              "  <tbody>\n",
              "    <tr>\n",
              "      <th>3</th>\n",
              "      <td>gsector_25</td>\n",
              "      <td>1.541481</td>\n",
              "    </tr>\n",
              "  </tbody>\n",
              "</table>\n",
              "</div>"
            ],
            "text/plain": [
              "      gsector  avg_late_return\n",
              "3  gsector_25         1.541481"
            ]
          },
          "metadata": {
            "tags": []
          },
          "execution_count": 23
        }
      ]
    },
    {
      "cell_type": "markdown",
      "metadata": {
        "id": "H-WcsvY7PPXl"
      },
      "source": [
        "The consumer discretionary has the highest stock return in late 2020. The consumer dicretionary includes automobiles & components, consumer durables & apparel, consumer services and retailing. The reason could be as follows:\n",
        "\n",
        "1. During the late 2020, we still have covid-19 related restrictions. We are required to wear masks and keep social distancing all the time, so traveling would be a trouble especially on public trasportation. With that being said, the needs for automobiles increased drastically. Similarly, the needs for automobile related components increased since these two are complementary goods.\n",
        "\n",
        "2. Because of the stay-home requirement, we spent more time staying at home, which may increase the need of household durables and some leisure products. No entertainment outside, we saved more money and spent on luxury goods.\n"
      ]
    },
    {
      "cell_type": "markdown",
      "metadata": {
        "id": "AWAbGcmwiBHL"
      },
      "source": [
        "### The lowest stock return for late 2020"
      ]
    },
    {
      "cell_type": "code",
      "metadata": {
        "colab": {
          "base_uri": "https://localhost:8080/",
          "height": 185
        },
        "id": "P1jjIhXHiBw3",
        "outputId": "6cfcc467-ffe8-49fe-93f9-09a622ce643d"
      },
      "source": [
        "return_low = avg_return2[avg_return2.avg_late_return == avg_return2.avg_late_return.min()]\n",
        "return_low.drop(columns='avg_early_return',inplace=True)\n",
        "return_low"
      ],
      "execution_count": 25,
      "outputs": [
        {
          "output_type": "stream",
          "text": [
            "/usr/local/lib/python3.7/dist-packages/pandas/core/frame.py:4174: SettingWithCopyWarning: \n",
            "A value is trying to be set on a copy of a slice from a DataFrame\n",
            "\n",
            "See the caveats in the documentation: https://pandas.pydata.org/pandas-docs/stable/user_guide/indexing.html#returning-a-view-versus-a-copy\n",
            "  errors=errors,\n"
          ],
          "name": "stderr"
        },
        {
          "output_type": "execute_result",
          "data": {
            "text/html": [
              "<div>\n",
              "<style scoped>\n",
              "    .dataframe tbody tr th:only-of-type {\n",
              "        vertical-align: middle;\n",
              "    }\n",
              "\n",
              "    .dataframe tbody tr th {\n",
              "        vertical-align: top;\n",
              "    }\n",
              "\n",
              "    .dataframe thead th {\n",
              "        text-align: right;\n",
              "    }\n",
              "</style>\n",
              "<table border=\"1\" class=\"dataframe\">\n",
              "  <thead>\n",
              "    <tr style=\"text-align: right;\">\n",
              "      <th></th>\n",
              "      <th>gsector</th>\n",
              "      <th>avg_late_return</th>\n",
              "    </tr>\n",
              "  </thead>\n",
              "  <tbody>\n",
              "    <tr>\n",
              "      <th>9</th>\n",
              "      <td>gsector_55</td>\n",
              "      <td>0.181212</td>\n",
              "    </tr>\n",
              "  </tbody>\n",
              "</table>\n",
              "</div>"
            ],
            "text/plain": [
              "      gsector  avg_late_return\n",
              "9  gsector_55         0.181212"
            ]
          },
          "metadata": {
            "tags": []
          },
          "execution_count": 25
        }
      ]
    },
    {
      "cell_type": "markdown",
      "metadata": {
        "id": "8sXL5fkQQ9I5"
      },
      "source": [
        "The sector that has the lowest stock return in late 2020 is gsector_55 which represents the utilities. The average stock return is 0.181212. Because electricity, gas and water are the daily requirements of people, so the reviving of the economy would not have huge infuluence on the 5510 group industry's stock return. "
      ]
    },
    {
      "cell_type": "markdown",
      "metadata": {
        "id": "AWE6DaSalTLN"
      },
      "source": [
        "### Run fixed effect regressions (using industry fixed effects) to explain both ReturnEarly2020"
      ]
    },
    {
      "cell_type": "markdown",
      "metadata": {
        "id": "EUltv8KElVvc"
      },
      "source": [
        "### Early2020"
      ]
    },
    {
      "cell_type": "code",
      "metadata": {
        "colab": {
          "base_uri": "https://localhost:8080/",
          "height": 633
        },
        "id": "Z1esdKuWiUXF",
        "outputId": "7f76d61d-12c0-49ed-cb0b-deae08832b83"
      },
      "source": [
        "# define x as a subset of original dataframe\n",
        "x = df_gsector.loc[:,df_gsector.columns.str.contains('gsector')]\n",
        "# define y as a series of ReturnEarly2020\n",
        "y = df_gsector['ReturnEarly2020']\n",
        "\n",
        "# pass x as a dataframe, while pass y as a series\n",
        "sm.OLS(y, x).fit().summary()"
      ],
      "execution_count": 24,
      "outputs": [
        {
          "output_type": "execute_result",
          "data": {
            "text/html": [
              "<table class=\"simpletable\">\n",
              "<caption>OLS Regression Results</caption>\n",
              "<tr>\n",
              "  <th>Dep. Variable:</th>     <td>ReturnEarly2020</td> <th>  R-squared:         </th> <td>   0.119</td>\n",
              "</tr>\n",
              "<tr>\n",
              "  <th>Model:</th>                   <td>OLS</td>       <th>  Adj. R-squared:    </th> <td>   0.116</td>\n",
              "</tr>\n",
              "<tr>\n",
              "  <th>Method:</th>             <td>Least Squares</td>  <th>  F-statistic:       </th> <td>   35.82</td>\n",
              "</tr>\n",
              "<tr>\n",
              "  <th>Date:</th>             <td>Tue, 06 Jul 2021</td> <th>  Prob (F-statistic):</th> <td>2.85e-66</td>\n",
              "</tr>\n",
              "<tr>\n",
              "  <th>Time:</th>                 <td>23:59:19</td>     <th>  Log-Likelihood:    </th> <td> -518.64</td>\n",
              "</tr>\n",
              "<tr>\n",
              "  <th>No. Observations:</th>      <td>  2666</td>      <th>  AIC:               </th> <td>   1059.</td>\n",
              "</tr>\n",
              "<tr>\n",
              "  <th>Df Residuals:</th>          <td>  2655</td>      <th>  BIC:               </th> <td>   1124.</td>\n",
              "</tr>\n",
              "<tr>\n",
              "  <th>Df Model:</th>              <td>    10</td>      <th>                     </th>     <td> </td>   \n",
              "</tr>\n",
              "<tr>\n",
              "  <th>Covariance Type:</th>      <td>nonrobust</td>    <th>                     </th>     <td> </td>   \n",
              "</tr>\n",
              "</table>\n",
              "<table class=\"simpletable\">\n",
              "<tr>\n",
              "       <td></td>         <th>coef</th>     <th>std err</th>      <th>t</th>      <th>P>|t|</th>  <th>[0.025</th>    <th>0.975]</th>  \n",
              "</tr>\n",
              "<tr>\n",
              "  <th>gsector_10</th> <td>   -0.5807</td> <td>    0.029</td> <td>  -20.107</td> <td> 0.000</td> <td>   -0.637</td> <td>   -0.524</td>\n",
              "</tr>\n",
              "<tr>\n",
              "  <th>gsector_15</th> <td>   -0.3509</td> <td>    0.027</td> <td>  -13.105</td> <td> 0.000</td> <td>   -0.403</td> <td>   -0.298</td>\n",
              "</tr>\n",
              "<tr>\n",
              "  <th>gsector_20</th> <td>   -0.3218</td> <td>    0.015</td> <td>  -20.956</td> <td> 0.000</td> <td>   -0.352</td> <td>   -0.292</td>\n",
              "</tr>\n",
              "<tr>\n",
              "  <th>gsector_25</th> <td>   -0.4098</td> <td>    0.017</td> <td>  -24.178</td> <td> 0.000</td> <td>   -0.443</td> <td>   -0.377</td>\n",
              "</tr>\n",
              "<tr>\n",
              "  <th>gsector_30</th> <td>   -0.1913</td> <td>    0.029</td> <td>   -6.686</td> <td> 0.000</td> <td>   -0.247</td> <td>   -0.135</td>\n",
              "</tr>\n",
              "<tr>\n",
              "  <th>gsector_35</th> <td>   -0.1386</td> <td>    0.013</td> <td>  -10.309</td> <td> 0.000</td> <td>   -0.165</td> <td>   -0.112</td>\n",
              "</tr>\n",
              "<tr>\n",
              "  <th>gsector_40</th> <td>   -0.3464</td> <td>    0.013</td> <td>  -26.406</td> <td> 0.000</td> <td>   -0.372</td> <td>   -0.321</td>\n",
              "</tr>\n",
              "<tr>\n",
              "  <th>gsector_45</th> <td>   -0.2164</td> <td>    0.016</td> <td>  -13.570</td> <td> 0.000</td> <td>   -0.248</td> <td>   -0.185</td>\n",
              "</tr>\n",
              "<tr>\n",
              "  <th>gsector_50</th> <td>   -0.2883</td> <td>    0.030</td> <td>   -9.540</td> <td> 0.000</td> <td>   -0.348</td> <td>   -0.229</td>\n",
              "</tr>\n",
              "<tr>\n",
              "  <th>gsector_55</th> <td>   -0.1479</td> <td>    0.035</td> <td>   -4.171</td> <td> 0.000</td> <td>   -0.217</td> <td>   -0.078</td>\n",
              "</tr>\n",
              "<tr>\n",
              "  <th>gsector_60</th> <td>   -0.3281</td> <td>    0.022</td> <td>  -14.779</td> <td> 0.000</td> <td>   -0.372</td> <td>   -0.285</td>\n",
              "</tr>\n",
              "</table>\n",
              "<table class=\"simpletable\">\n",
              "<tr>\n",
              "  <th>Omnibus:</th>       <td>4239.497</td> <th>  Durbin-Watson:     </th>  <td>   1.936</td>  \n",
              "</tr>\n",
              "<tr>\n",
              "  <th>Prob(Omnibus):</th>  <td> 0.000</td>  <th>  Jarque-Bera (JB):  </th> <td>4703258.835</td>\n",
              "</tr>\n",
              "<tr>\n",
              "  <th>Skew:</th>           <td> 9.792</td>  <th>  Prob(JB):          </th>  <td>    0.00</td>  \n",
              "</tr>\n",
              "<tr>\n",
              "  <th>Kurtosis:</th>       <td>207.833</td> <th>  Cond. No.          </th>  <td>    2.70</td>  \n",
              "</tr>\n",
              "</table><br/><br/>Warnings:<br/>[1] Standard Errors assume that the covariance matrix of the errors is correctly specified."
            ],
            "text/plain": [
              "<class 'statsmodels.iolib.summary.Summary'>\n",
              "\"\"\"\n",
              "                            OLS Regression Results                            \n",
              "==============================================================================\n",
              "Dep. Variable:        ReturnEarly2020   R-squared:                       0.119\n",
              "Model:                            OLS   Adj. R-squared:                  0.116\n",
              "Method:                 Least Squares   F-statistic:                     35.82\n",
              "Date:                Tue, 06 Jul 2021   Prob (F-statistic):           2.85e-66\n",
              "Time:                        23:59:19   Log-Likelihood:                -518.64\n",
              "No. Observations:                2666   AIC:                             1059.\n",
              "Df Residuals:                    2655   BIC:                             1124.\n",
              "Df Model:                          10                                         \n",
              "Covariance Type:            nonrobust                                         \n",
              "==============================================================================\n",
              "                 coef    std err          t      P>|t|      [0.025      0.975]\n",
              "------------------------------------------------------------------------------\n",
              "gsector_10    -0.5807      0.029    -20.107      0.000      -0.637      -0.524\n",
              "gsector_15    -0.3509      0.027    -13.105      0.000      -0.403      -0.298\n",
              "gsector_20    -0.3218      0.015    -20.956      0.000      -0.352      -0.292\n",
              "gsector_25    -0.4098      0.017    -24.178      0.000      -0.443      -0.377\n",
              "gsector_30    -0.1913      0.029     -6.686      0.000      -0.247      -0.135\n",
              "gsector_35    -0.1386      0.013    -10.309      0.000      -0.165      -0.112\n",
              "gsector_40    -0.3464      0.013    -26.406      0.000      -0.372      -0.321\n",
              "gsector_45    -0.2164      0.016    -13.570      0.000      -0.248      -0.185\n",
              "gsector_50    -0.2883      0.030     -9.540      0.000      -0.348      -0.229\n",
              "gsector_55    -0.1479      0.035     -4.171      0.000      -0.217      -0.078\n",
              "gsector_60    -0.3281      0.022    -14.779      0.000      -0.372      -0.285\n",
              "==============================================================================\n",
              "Omnibus:                     4239.497   Durbin-Watson:                   1.936\n",
              "Prob(Omnibus):                  0.000   Jarque-Bera (JB):          4703258.835\n",
              "Skew:                           9.792   Prob(JB):                         0.00\n",
              "Kurtosis:                     207.833   Cond. No.                         2.70\n",
              "==============================================================================\n",
              "\n",
              "Warnings:\n",
              "[1] Standard Errors assume that the covariance matrix of the errors is correctly specified.\n",
              "\"\"\""
            ]
          },
          "metadata": {
            "tags": []
          },
          "execution_count": 24
        }
      ]
    },
    {
      "cell_type": "markdown",
      "metadata": {
        "id": "zXOyfxV4RXPs"
      },
      "source": [
        "From the output above we can see that all sectors are statistically significant. Pandemic has a severe impact on all sectors.\n",
        "The coefficients of each sector indicate the average return in early 2020 of these industries. For example, the coefficient of gsector_10 is -0.5807, which means that average stock return of gsector_10 is -0.5807 in early 2020."
      ]
    },
    {
      "cell_type": "markdown",
      "metadata": {
        "id": "1fBySel4leaZ"
      },
      "source": [
        "### Late2020"
      ]
    },
    {
      "cell_type": "code",
      "metadata": {
        "colab": {
          "base_uri": "https://localhost:8080/",
          "height": 633
        },
        "id": "1SX9kmEDiUaG",
        "outputId": "4f3f0b1f-e13a-40d6-b888-87e2ec5bc402"
      },
      "source": [
        "# define x as a subset of original dataframe\n",
        "x = df_gsector.loc[:,df_gsector.columns.str.contains('gsector')]\n",
        "# define y as a series of ReturnEarly2020\n",
        "y = df_gsector['ReturnLate2020']\n",
        "\n",
        "# pass x as a dataframe, while pass y as a series\n",
        "sm.OLS(y, x).fit().summary()"
      ],
      "execution_count": 98,
      "outputs": [
        {
          "output_type": "execute_result",
          "data": {
            "text/html": [
              "<table class=\"simpletable\">\n",
              "<caption>OLS Regression Results</caption>\n",
              "<tr>\n",
              "  <th>Dep. Variable:</th>     <td>ReturnLate2020</td>  <th>  R-squared:         </th> <td>   0.094</td>\n",
              "</tr>\n",
              "<tr>\n",
              "  <th>Model:</th>                   <td>OLS</td>       <th>  Adj. R-squared:    </th> <td>   0.091</td>\n",
              "</tr>\n",
              "<tr>\n",
              "  <th>Method:</th>             <td>Least Squares</td>  <th>  F-statistic:       </th> <td>   27.60</td>\n",
              "</tr>\n",
              "<tr>\n",
              "  <th>Date:</th>             <td>Tue, 06 Jul 2021</td> <th>  Prob (F-statistic):</th> <td>1.00e-50</td>\n",
              "</tr>\n",
              "<tr>\n",
              "  <th>Time:</th>                 <td>02:12:13</td>     <th>  Log-Likelihood:    </th> <td> -3840.8</td>\n",
              "</tr>\n",
              "<tr>\n",
              "  <th>No. Observations:</th>      <td>  2666</td>      <th>  AIC:               </th> <td>   7704.</td>\n",
              "</tr>\n",
              "<tr>\n",
              "  <th>Df Residuals:</th>          <td>  2655</td>      <th>  BIC:               </th> <td>   7768.</td>\n",
              "</tr>\n",
              "<tr>\n",
              "  <th>Df Model:</th>              <td>    10</td>      <th>                     </th>     <td> </td>   \n",
              "</tr>\n",
              "<tr>\n",
              "  <th>Covariance Type:</th>      <td>nonrobust</td>    <th>                     </th>     <td> </td>   \n",
              "</tr>\n",
              "</table>\n",
              "<table class=\"simpletable\">\n",
              "<tr>\n",
              "       <td></td>         <th>coef</th>     <th>std err</th>      <th>t</th>      <th>P>|t|</th>  <th>[0.025</th>    <th>0.975]</th>  \n",
              "</tr>\n",
              "<tr>\n",
              "  <th>gsector_10</th> <td>    1.0175</td> <td>    0.100</td> <td>   10.133</td> <td> 0.000</td> <td>    0.821</td> <td>    1.214</td>\n",
              "</tr>\n",
              "<tr>\n",
              "  <th>gsector_15</th> <td>    0.8732</td> <td>    0.093</td> <td>    9.380</td> <td> 0.000</td> <td>    0.691</td> <td>    1.056</td>\n",
              "</tr>\n",
              "<tr>\n",
              "  <th>gsector_20</th> <td>    0.8051</td> <td>    0.053</td> <td>   15.082</td> <td> 0.000</td> <td>    0.700</td> <td>    0.910</td>\n",
              "</tr>\n",
              "<tr>\n",
              "  <th>gsector_25</th> <td>    1.5415</td> <td>    0.059</td> <td>   26.158</td> <td> 0.000</td> <td>    1.426</td> <td>    1.657</td>\n",
              "</tr>\n",
              "<tr>\n",
              "  <th>gsector_30</th> <td>    0.5243</td> <td>    0.099</td> <td>    5.271</td> <td> 0.000</td> <td>    0.329</td> <td>    0.719</td>\n",
              "</tr>\n",
              "<tr>\n",
              "  <th>gsector_35</th> <td>    0.7397</td> <td>    0.047</td> <td>   15.826</td> <td> 0.000</td> <td>    0.648</td> <td>    0.831</td>\n",
              "</tr>\n",
              "<tr>\n",
              "  <th>gsector_40</th> <td>    0.4980</td> <td>    0.046</td> <td>   10.916</td> <td> 0.000</td> <td>    0.409</td> <td>    0.587</td>\n",
              "</tr>\n",
              "<tr>\n",
              "  <th>gsector_45</th> <td>    1.0092</td> <td>    0.055</td> <td>   18.198</td> <td> 0.000</td> <td>    0.900</td> <td>    1.118</td>\n",
              "</tr>\n",
              "<tr>\n",
              "  <th>gsector_50</th> <td>    0.7779</td> <td>    0.105</td> <td>    7.404</td> <td> 0.000</td> <td>    0.572</td> <td>    0.984</td>\n",
              "</tr>\n",
              "<tr>\n",
              "  <th>gsector_55</th> <td>    0.1812</td> <td>    0.123</td> <td>    1.470</td> <td> 0.142</td> <td>   -0.061</td> <td>    0.423</td>\n",
              "</tr>\n",
              "<tr>\n",
              "  <th>gsector_60</th> <td>    0.4567</td> <td>    0.077</td> <td>    5.916</td> <td> 0.000</td> <td>    0.305</td> <td>    0.608</td>\n",
              "</tr>\n",
              "</table>\n",
              "<table class=\"simpletable\">\n",
              "<tr>\n",
              "  <th>Omnibus:</th>       <td>2888.497</td> <th>  Durbin-Watson:     </th>  <td>   1.951</td> \n",
              "</tr>\n",
              "<tr>\n",
              "  <th>Prob(Omnibus):</th>  <td> 0.000</td>  <th>  Jarque-Bera (JB):  </th> <td>340189.052</td>\n",
              "</tr>\n",
              "<tr>\n",
              "  <th>Skew:</th>           <td> 5.249</td>  <th>  Prob(JB):          </th>  <td>    0.00</td> \n",
              "</tr>\n",
              "<tr>\n",
              "  <th>Kurtosis:</th>       <td>57.335</td>  <th>  Cond. No.          </th>  <td>    2.70</td> \n",
              "</tr>\n",
              "</table><br/><br/>Warnings:<br/>[1] Standard Errors assume that the covariance matrix of the errors is correctly specified."
            ],
            "text/plain": [
              "<class 'statsmodels.iolib.summary.Summary'>\n",
              "\"\"\"\n",
              "                            OLS Regression Results                            \n",
              "==============================================================================\n",
              "Dep. Variable:         ReturnLate2020   R-squared:                       0.094\n",
              "Model:                            OLS   Adj. R-squared:                  0.091\n",
              "Method:                 Least Squares   F-statistic:                     27.60\n",
              "Date:                Tue, 06 Jul 2021   Prob (F-statistic):           1.00e-50\n",
              "Time:                        02:12:13   Log-Likelihood:                -3840.8\n",
              "No. Observations:                2666   AIC:                             7704.\n",
              "Df Residuals:                    2655   BIC:                             7768.\n",
              "Df Model:                          10                                         \n",
              "Covariance Type:            nonrobust                                         \n",
              "==============================================================================\n",
              "                 coef    std err          t      P>|t|      [0.025      0.975]\n",
              "------------------------------------------------------------------------------\n",
              "gsector_10     1.0175      0.100     10.133      0.000       0.821       1.214\n",
              "gsector_15     0.8732      0.093      9.380      0.000       0.691       1.056\n",
              "gsector_20     0.8051      0.053     15.082      0.000       0.700       0.910\n",
              "gsector_25     1.5415      0.059     26.158      0.000       1.426       1.657\n",
              "gsector_30     0.5243      0.099      5.271      0.000       0.329       0.719\n",
              "gsector_35     0.7397      0.047     15.826      0.000       0.648       0.831\n",
              "gsector_40     0.4980      0.046     10.916      0.000       0.409       0.587\n",
              "gsector_45     1.0092      0.055     18.198      0.000       0.900       1.118\n",
              "gsector_50     0.7779      0.105      7.404      0.000       0.572       0.984\n",
              "gsector_55     0.1812      0.123      1.470      0.142      -0.061       0.423\n",
              "gsector_60     0.4567      0.077      5.916      0.000       0.305       0.608\n",
              "==============================================================================\n",
              "Omnibus:                     2888.497   Durbin-Watson:                   1.951\n",
              "Prob(Omnibus):                  0.000   Jarque-Bera (JB):           340189.052\n",
              "Skew:                           5.249   Prob(JB):                         0.00\n",
              "Kurtosis:                      57.335   Cond. No.                         2.70\n",
              "==============================================================================\n",
              "\n",
              "Warnings:\n",
              "[1] Standard Errors assume that the covariance matrix of the errors is correctly specified.\n",
              "\"\"\""
            ]
          },
          "metadata": {
            "tags": []
          },
          "execution_count": 98
        }
      ]
    },
    {
      "cell_type": "markdown",
      "metadata": {
        "id": "agBEATFQRsoU"
      },
      "source": [
        "From the output above we can see that all industry is statistically significant except for gsector_55 which is the utilities sector. It can be interpreted that economic reviving of later pandemic have positive influence on almost all the industries but slightly or no influence on utility sector. Because electricity, gas and water are the daily requirements of people, so the reviving of the economy would not have huge infuluence on the 5510 group industry's stock return. \n",
        "The coefficients of each industry indicate the average return in late 2020 of these industries. For example, the coefficient of gsector_10 is 1.0175, which means that average stock return of ggsector_10 is 1.0175 in late 2020."
      ]
    },
    {
      "cell_type": "markdown",
      "metadata": {
        "id": "1W_WMykAWNnA"
      },
      "source": [
        "The adjusted R square of regression on RenturnEarly2020 is 0.116, and the adjusted R square of regression on ReturnLate2020 is 0.091. In this way, the epxlanatory power of regression on ReturnEarly2020 is higher than that on ResturnLate2020."
      ]
    },
    {
      "cell_type": "markdown",
      "metadata": {
        "id": "TXwGuasOnlMG"
      },
      "source": [
        "### Combine the industry fixed effects with financial ratios"
      ]
    },
    {
      "cell_type": "code",
      "metadata": {
        "colab": {
          "base_uri": "https://localhost:8080/",
          "height": 224
        },
        "id": "OO5LVfoUnoR7",
        "outputId": "50fbbe44-6b74-4d42-9a96-045f5b10dce6"
      },
      "source": [
        "df_gsector_ratio = df_gsector.merge(assign3,how='inner',left_on='tic',right_on='TICKER')\n",
        "df_gsector_ratio.drop(columns=['tic','TICKER'],inplace=True)\n",
        "df_gsector_ratio.head()"
      ],
      "execution_count": 26,
      "outputs": [
        {
          "output_type": "execute_result",
          "data": {
            "text/html": [
              "<div>\n",
              "<style scoped>\n",
              "    .dataframe tbody tr th:only-of-type {\n",
              "        vertical-align: middle;\n",
              "    }\n",
              "\n",
              "    .dataframe tbody tr th {\n",
              "        vertical-align: top;\n",
              "    }\n",
              "\n",
              "    .dataframe thead th {\n",
              "        text-align: right;\n",
              "    }\n",
              "</style>\n",
              "<table border=\"1\" class=\"dataframe\">\n",
              "  <thead>\n",
              "    <tr style=\"text-align: right;\">\n",
              "      <th></th>\n",
              "      <th>ReturnEarly2020</th>\n",
              "      <th>ReturnLate2020</th>\n",
              "      <th>gsector_10</th>\n",
              "      <th>gsector_15</th>\n",
              "      <th>gsector_20</th>\n",
              "      <th>gsector_25</th>\n",
              "      <th>gsector_30</th>\n",
              "      <th>gsector_35</th>\n",
              "      <th>gsector_40</th>\n",
              "      <th>gsector_45</th>\n",
              "      <th>gsector_50</th>\n",
              "      <th>gsector_55</th>\n",
              "      <th>gsector_60</th>\n",
              "      <th>Price/Book</th>\n",
              "      <th>P/E</th>\n",
              "      <th>P/EBIT</th>\n",
              "      <th>P/SALES</th>\n",
              "    </tr>\n",
              "  </thead>\n",
              "  <tbody>\n",
              "    <tr>\n",
              "      <th>0</th>\n",
              "      <td>-0.603849</td>\n",
              "      <td>1.039410</td>\n",
              "      <td>0</td>\n",
              "      <td>0</td>\n",
              "      <td>1</td>\n",
              "      <td>0</td>\n",
              "      <td>0</td>\n",
              "      <td>0</td>\n",
              "      <td>0</td>\n",
              "      <td>0</td>\n",
              "      <td>0</td>\n",
              "      <td>0</td>\n",
              "      <td>0</td>\n",
              "      <td>1.753683</td>\n",
              "      <td>359.744250</td>\n",
              "      <td>14.602165</td>\n",
              "      <td>0.757610</td>\n",
              "    </tr>\n",
              "    <tr>\n",
              "      <th>1</th>\n",
              "      <td>-0.572734</td>\n",
              "      <td>0.293682</td>\n",
              "      <td>0</td>\n",
              "      <td>0</td>\n",
              "      <td>1</td>\n",
              "      <td>0</td>\n",
              "      <td>0</td>\n",
              "      <td>0</td>\n",
              "      <td>0</td>\n",
              "      <td>0</td>\n",
              "      <td>0</td>\n",
              "      <td>0</td>\n",
              "      <td>0</td>\n",
              "      <td>-31.367242</td>\n",
              "      <td>7.284023</td>\n",
              "      <td>3.313778</td>\n",
              "      <td>0.268329</td>\n",
              "    </tr>\n",
              "    <tr>\n",
              "      <th>2</th>\n",
              "      <td>-0.390339</td>\n",
              "      <td>0.490365</td>\n",
              "      <td>0</td>\n",
              "      <td>0</td>\n",
              "      <td>1</td>\n",
              "      <td>0</td>\n",
              "      <td>0</td>\n",
              "      <td>0</td>\n",
              "      <td>0</td>\n",
              "      <td>0</td>\n",
              "      <td>0</td>\n",
              "      <td>0</td>\n",
              "      <td>0</td>\n",
              "      <td>1.394434</td>\n",
              "      <td>15.200171</td>\n",
              "      <td>13.716717</td>\n",
              "      <td>0.787288</td>\n",
              "    </tr>\n",
              "    <tr>\n",
              "      <th>3</th>\n",
              "      <td>-0.150483</td>\n",
              "      <td>0.086464</td>\n",
              "      <td>0</td>\n",
              "      <td>0</td>\n",
              "      <td>0</td>\n",
              "      <td>0</td>\n",
              "      <td>0</td>\n",
              "      <td>0</td>\n",
              "      <td>0</td>\n",
              "      <td>0</td>\n",
              "      <td>0</td>\n",
              "      <td>1</td>\n",
              "      <td>0</td>\n",
              "      <td>1.861908</td>\n",
              "      <td>18.783195</td>\n",
              "      <td>15.047576</td>\n",
              "      <td>2.912924</td>\n",
              "    </tr>\n",
              "    <tr>\n",
              "      <th>4</th>\n",
              "      <td>-0.087773</td>\n",
              "      <td>0.402724</td>\n",
              "      <td>0</td>\n",
              "      <td>0</td>\n",
              "      <td>0</td>\n",
              "      <td>0</td>\n",
              "      <td>0</td>\n",
              "      <td>1</td>\n",
              "      <td>0</td>\n",
              "      <td>0</td>\n",
              "      <td>0</td>\n",
              "      <td>0</td>\n",
              "      <td>0</td>\n",
              "      <td>4.924441</td>\n",
              "      <td>41.521836</td>\n",
              "      <td>30.369175</td>\n",
              "      <td>4.798490</td>\n",
              "    </tr>\n",
              "  </tbody>\n",
              "</table>\n",
              "</div>"
            ],
            "text/plain": [
              "   ReturnEarly2020  ReturnLate2020  gsector_10  ...         P/E     P/EBIT   P/SALES\n",
              "0        -0.603849        1.039410           0  ...  359.744250  14.602165  0.757610\n",
              "1        -0.572734        0.293682           0  ...    7.284023   3.313778  0.268329\n",
              "2        -0.390339        0.490365           0  ...   15.200171  13.716717  0.787288\n",
              "3        -0.150483        0.086464           0  ...   18.783195  15.047576  2.912924\n",
              "4        -0.087773        0.402724           0  ...   41.521836  30.369175  4.798490\n",
              "\n",
              "[5 rows x 17 columns]"
            ]
          },
          "metadata": {
            "tags": []
          },
          "execution_count": 26
        }
      ]
    },
    {
      "cell_type": "markdown",
      "metadata": {
        "id": "1550N7NKn25N"
      },
      "source": [
        "### Early2020"
      ]
    },
    {
      "cell_type": "code",
      "metadata": {
        "colab": {
          "base_uri": "https://localhost:8080/",
          "height": 772
        },
        "id": "2-XzTZrSnoaO",
        "outputId": "ae29aef9-7c6f-4530-b951-65e8216b0e3b"
      },
      "source": [
        "# define x as a subset of original dataframe\n",
        "x = df_gsector_ratio.loc[:,~df_gsector_ratio.columns.str.contains('Return')]\n",
        "# define y as a series\n",
        "y = df_gsector_ratio['ReturnEarly2020']\n",
        "# Add a constant\n",
        "x = sm.add_constant(x)\n",
        "# pass x as a dataframe, while pass y as a series\n",
        "sm.OLS(y, x).fit().summary()"
      ],
      "execution_count": 27,
      "outputs": [
        {
          "output_type": "execute_result",
          "data": {
            "text/html": [
              "<table class=\"simpletable\">\n",
              "<caption>OLS Regression Results</caption>\n",
              "<tr>\n",
              "  <th>Dep. Variable:</th>     <td>ReturnEarly2020</td> <th>  R-squared:         </th> <td>   0.129</td>\n",
              "</tr>\n",
              "<tr>\n",
              "  <th>Model:</th>                   <td>OLS</td>       <th>  Adj. R-squared:    </th> <td>   0.125</td>\n",
              "</tr>\n",
              "<tr>\n",
              "  <th>Method:</th>             <td>Least Squares</td>  <th>  F-statistic:       </th> <td>   27.42</td>\n",
              "</tr>\n",
              "<tr>\n",
              "  <th>Date:</th>             <td>Wed, 07 Jul 2021</td> <th>  Prob (F-statistic):</th> <td>6.03e-68</td>\n",
              "</tr>\n",
              "<tr>\n",
              "  <th>Time:</th>                 <td>00:21:51</td>     <th>  Log-Likelihood:    </th> <td> -492.42</td>\n",
              "</tr>\n",
              "<tr>\n",
              "  <th>No. Observations:</th>      <td>  2599</td>      <th>  AIC:               </th> <td>   1015.</td>\n",
              "</tr>\n",
              "<tr>\n",
              "  <th>Df Residuals:</th>          <td>  2584</td>      <th>  BIC:               </th> <td>   1103.</td>\n",
              "</tr>\n",
              "<tr>\n",
              "  <th>Df Model:</th>              <td>    14</td>      <th>                     </th>     <td> </td>   \n",
              "</tr>\n",
              "<tr>\n",
              "  <th>Covariance Type:</th>      <td>nonrobust</td>    <th>                     </th>     <td> </td>   \n",
              "</tr>\n",
              "</table>\n",
              "<table class=\"simpletable\">\n",
              "<tr>\n",
              "       <td></td>         <th>coef</th>     <th>std err</th>      <th>t</th>      <th>P>|t|</th>  <th>[0.025</th>    <th>0.975]</th>  \n",
              "</tr>\n",
              "<tr>\n",
              "  <th>const</th>      <td>   -0.2852</td> <td>    0.007</td> <td>  -40.962</td> <td> 0.000</td> <td>   -0.299</td> <td>   -0.272</td>\n",
              "</tr>\n",
              "<tr>\n",
              "  <th>gsector_10</th> <td>   -0.3016</td> <td>    0.027</td> <td>  -11.085</td> <td> 0.000</td> <td>   -0.355</td> <td>   -0.248</td>\n",
              "</tr>\n",
              "<tr>\n",
              "  <th>gsector_15</th> <td>   -0.0724</td> <td>    0.025</td> <td>   -2.881</td> <td> 0.004</td> <td>   -0.122</td> <td>   -0.023</td>\n",
              "</tr>\n",
              "<tr>\n",
              "  <th>gsector_20</th> <td>   -0.0459</td> <td>    0.015</td> <td>   -2.992</td> <td> 0.003</td> <td>   -0.076</td> <td>   -0.016</td>\n",
              "</tr>\n",
              "<tr>\n",
              "  <th>gsector_25</th> <td>   -0.1377</td> <td>    0.017</td> <td>   -8.286</td> <td> 0.000</td> <td>   -0.170</td> <td>   -0.105</td>\n",
              "</tr>\n",
              "<tr>\n",
              "  <th>gsector_30</th> <td>    0.0792</td> <td>    0.026</td> <td>    3.031</td> <td> 0.002</td> <td>    0.028</td> <td>    0.131</td>\n",
              "</tr>\n",
              "<tr>\n",
              "  <th>gsector_35</th> <td>    0.1461</td> <td>    0.015</td> <td>    9.475</td> <td> 0.000</td> <td>    0.116</td> <td>    0.176</td>\n",
              "</tr>\n",
              "<tr>\n",
              "  <th>gsector_40</th> <td>   -0.0674</td> <td>    0.014</td> <td>   -4.948</td> <td> 0.000</td> <td>   -0.094</td> <td>   -0.041</td>\n",
              "</tr>\n",
              "<tr>\n",
              "  <th>gsector_45</th> <td>    0.0508</td> <td>    0.016</td> <td>    3.151</td> <td> 0.002</td> <td>    0.019</td> <td>    0.082</td>\n",
              "</tr>\n",
              "<tr>\n",
              "  <th>gsector_50</th> <td>   -0.0116</td> <td>    0.028</td> <td>   -0.412</td> <td> 0.680</td> <td>   -0.067</td> <td>    0.044</td>\n",
              "</tr>\n",
              "<tr>\n",
              "  <th>gsector_55</th> <td>    0.1312</td> <td>    0.032</td> <td>    4.044</td> <td> 0.000</td> <td>    0.068</td> <td>    0.195</td>\n",
              "</tr>\n",
              "<tr>\n",
              "  <th>gsector_60</th> <td>   -0.0559</td> <td>    0.021</td> <td>   -2.616</td> <td> 0.009</td> <td>   -0.098</td> <td>   -0.014</td>\n",
              "</tr>\n",
              "<tr>\n",
              "  <th>Price/Book</th> <td>    0.0020</td> <td>    0.001</td> <td>    3.167</td> <td> 0.002</td> <td>    0.001</td> <td>    0.003</td>\n",
              "</tr>\n",
              "<tr>\n",
              "  <th>P/E</th>        <td>    0.0001</td> <td> 7.23e-05</td> <td>    1.570</td> <td> 0.117</td> <td>-2.83e-05</td> <td>    0.000</td>\n",
              "</tr>\n",
              "<tr>\n",
              "  <th>P/EBIT</th>     <td> 6.401e-05</td> <td>    0.000</td> <td>    0.635</td> <td> 0.526</td> <td>   -0.000</td> <td>    0.000</td>\n",
              "</tr>\n",
              "<tr>\n",
              "  <th>P/SALES</th>    <td> 7.752e-05</td> <td>    0.000</td> <td>    0.714</td> <td> 0.475</td> <td>   -0.000</td> <td>    0.000</td>\n",
              "</tr>\n",
              "</table>\n",
              "<table class=\"simpletable\">\n",
              "<tr>\n",
              "  <th>Omnibus:</th>       <td>4195.976</td> <th>  Durbin-Watson:     </th>  <td>   1.942</td>  \n",
              "</tr>\n",
              "<tr>\n",
              "  <th>Prob(Omnibus):</th>  <td> 0.000</td>  <th>  Jarque-Bera (JB):  </th> <td>4920764.797</td>\n",
              "</tr>\n",
              "<tr>\n",
              "  <th>Skew:</th>           <td>10.085</td>  <th>  Prob(JB):          </th>  <td>    0.00</td>  \n",
              "</tr>\n",
              "<tr>\n",
              "  <th>Kurtosis:</th>       <td>215.210</td> <th>  Cond. No.          </th>  <td>1.62e+17</td>  \n",
              "</tr>\n",
              "</table><br/><br/>Warnings:<br/>[1] Standard Errors assume that the covariance matrix of the errors is correctly specified.<br/>[2] The smallest eigenvalue is 7.3e-28. This might indicate that there are<br/>strong multicollinearity problems or that the design matrix is singular."
            ],
            "text/plain": [
              "<class 'statsmodels.iolib.summary.Summary'>\n",
              "\"\"\"\n",
              "                            OLS Regression Results                            \n",
              "==============================================================================\n",
              "Dep. Variable:        ReturnEarly2020   R-squared:                       0.129\n",
              "Model:                            OLS   Adj. R-squared:                  0.125\n",
              "Method:                 Least Squares   F-statistic:                     27.42\n",
              "Date:                Wed, 07 Jul 2021   Prob (F-statistic):           6.03e-68\n",
              "Time:                        00:21:51   Log-Likelihood:                -492.42\n",
              "No. Observations:                2599   AIC:                             1015.\n",
              "Df Residuals:                    2584   BIC:                             1103.\n",
              "Df Model:                          14                                         \n",
              "Covariance Type:            nonrobust                                         \n",
              "==============================================================================\n",
              "                 coef    std err          t      P>|t|      [0.025      0.975]\n",
              "------------------------------------------------------------------------------\n",
              "const         -0.2852      0.007    -40.962      0.000      -0.299      -0.272\n",
              "gsector_10    -0.3016      0.027    -11.085      0.000      -0.355      -0.248\n",
              "gsector_15    -0.0724      0.025     -2.881      0.004      -0.122      -0.023\n",
              "gsector_20    -0.0459      0.015     -2.992      0.003      -0.076      -0.016\n",
              "gsector_25    -0.1377      0.017     -8.286      0.000      -0.170      -0.105\n",
              "gsector_30     0.0792      0.026      3.031      0.002       0.028       0.131\n",
              "gsector_35     0.1461      0.015      9.475      0.000       0.116       0.176\n",
              "gsector_40    -0.0674      0.014     -4.948      0.000      -0.094      -0.041\n",
              "gsector_45     0.0508      0.016      3.151      0.002       0.019       0.082\n",
              "gsector_50    -0.0116      0.028     -0.412      0.680      -0.067       0.044\n",
              "gsector_55     0.1312      0.032      4.044      0.000       0.068       0.195\n",
              "gsector_60    -0.0559      0.021     -2.616      0.009      -0.098      -0.014\n",
              "Price/Book     0.0020      0.001      3.167      0.002       0.001       0.003\n",
              "P/E            0.0001   7.23e-05      1.570      0.117   -2.83e-05       0.000\n",
              "P/EBIT      6.401e-05      0.000      0.635      0.526      -0.000       0.000\n",
              "P/SALES     7.752e-05      0.000      0.714      0.475      -0.000       0.000\n",
              "==============================================================================\n",
              "Omnibus:                     4195.976   Durbin-Watson:                   1.942\n",
              "Prob(Omnibus):                  0.000   Jarque-Bera (JB):          4920764.797\n",
              "Skew:                          10.085   Prob(JB):                         0.00\n",
              "Kurtosis:                     215.210   Cond. No.                     1.62e+17\n",
              "==============================================================================\n",
              "\n",
              "Warnings:\n",
              "[1] Standard Errors assume that the covariance matrix of the errors is correctly specified.\n",
              "[2] The smallest eigenvalue is 7.3e-28. This might indicate that there are\n",
              "strong multicollinearity problems or that the design matrix is singular.\n",
              "\"\"\""
            ]
          },
          "metadata": {
            "tags": []
          },
          "execution_count": 27
        }
      ]
    },
    {
      "cell_type": "markdown",
      "metadata": {
        "id": "z_9ffNJkWHta"
      },
      "source": [
        "After combining four industry ratios, the adjusted R square increased slightly, from 0.116 to 0.125. So explanatory power of regression on ReturnEarly2020 only increased 0.09. \n",
        "\n",
        "Apart from that, It worth noting that, only price/book ratio is statistically significant, the p-value of which is 0.002. The stock return in early 2020 would increase 0.002 when price/book ratio increase by 1."
      ]
    },
    {
      "cell_type": "markdown",
      "metadata": {
        "id": "GnnYt6IzoMkS"
      },
      "source": [
        "### Late2020"
      ]
    },
    {
      "cell_type": "code",
      "metadata": {
        "colab": {
          "base_uri": "https://localhost:8080/",
          "height": 772
        },
        "id": "LIGXtvKynocr",
        "outputId": "e9185485-7678-4367-d3aa-46a5baed4ff7"
      },
      "source": [
        "# define x as a subset of original dataframe\n",
        "x = df_gsector_ratio.loc[:,~df_gsector_ratio.columns.str.contains('Return')]\n",
        "# define y as a series\n",
        "y = df_gsector_ratio['ReturnLate2020']\n",
        "# Add a constant\n",
        "x = sm.add_constant(x)\n",
        "# pass x as a dataframe, while pass y as a series\n",
        "sm.OLS(y, x).fit().summary()"
      ],
      "execution_count": 28,
      "outputs": [
        {
          "output_type": "execute_result",
          "data": {
            "text/html": [
              "<table class=\"simpletable\">\n",
              "<caption>OLS Regression Results</caption>\n",
              "<tr>\n",
              "  <th>Dep. Variable:</th>     <td>ReturnLate2020</td>  <th>  R-squared:         </th> <td>   0.107</td>\n",
              "</tr>\n",
              "<tr>\n",
              "  <th>Model:</th>                   <td>OLS</td>       <th>  Adj. R-squared:    </th> <td>   0.102</td>\n",
              "</tr>\n",
              "<tr>\n",
              "  <th>Method:</th>             <td>Least Squares</td>  <th>  F-statistic:       </th> <td>   22.06</td>\n",
              "</tr>\n",
              "<tr>\n",
              "  <th>Date:</th>             <td>Wed, 07 Jul 2021</td> <th>  Prob (F-statistic):</th> <td>4.46e-54</td>\n",
              "</tr>\n",
              "<tr>\n",
              "  <th>Time:</th>                 <td>00:27:06</td>     <th>  Log-Likelihood:    </th> <td> -3727.0</td>\n",
              "</tr>\n",
              "<tr>\n",
              "  <th>No. Observations:</th>      <td>  2599</td>      <th>  AIC:               </th> <td>   7484.</td>\n",
              "</tr>\n",
              "<tr>\n",
              "  <th>Df Residuals:</th>          <td>  2584</td>      <th>  BIC:               </th> <td>   7572.</td>\n",
              "</tr>\n",
              "<tr>\n",
              "  <th>Df Model:</th>              <td>    14</td>      <th>                     </th>     <td> </td>   \n",
              "</tr>\n",
              "<tr>\n",
              "  <th>Covariance Type:</th>      <td>nonrobust</td>    <th>                     </th>     <td> </td>   \n",
              "</tr>\n",
              "</table>\n",
              "<table class=\"simpletable\">\n",
              "<tr>\n",
              "       <td></td>         <th>coef</th>     <th>std err</th>      <th>t</th>      <th>P>|t|</th>  <th>[0.025</th>    <th>0.975]</th>  \n",
              "</tr>\n",
              "<tr>\n",
              "  <th>const</th>      <td>    0.7153</td> <td>    0.024</td> <td>   29.597</td> <td> 0.000</td> <td>    0.668</td> <td>    0.763</td>\n",
              "</tr>\n",
              "<tr>\n",
              "  <th>gsector_10</th> <td>    0.3069</td> <td>    0.094</td> <td>    3.249</td> <td> 0.001</td> <td>    0.122</td> <td>    0.492</td>\n",
              "</tr>\n",
              "<tr>\n",
              "  <th>gsector_15</th> <td>    0.1755</td> <td>    0.087</td> <td>    2.013</td> <td> 0.044</td> <td>    0.005</td> <td>    0.346</td>\n",
              "</tr>\n",
              "<tr>\n",
              "  <th>gsector_20</th> <td>    0.1146</td> <td>    0.053</td> <td>    2.151</td> <td> 0.032</td> <td>    0.010</td> <td>    0.219</td>\n",
              "</tr>\n",
              "<tr>\n",
              "  <th>gsector_25</th> <td>    0.8465</td> <td>    0.058</td> <td>   14.674</td> <td> 0.000</td> <td>    0.733</td> <td>    0.960</td>\n",
              "</tr>\n",
              "<tr>\n",
              "  <th>gsector_30</th> <td>   -0.1825</td> <td>    0.091</td> <td>   -2.011</td> <td> 0.044</td> <td>   -0.360</td> <td>   -0.005</td>\n",
              "</tr>\n",
              "<tr>\n",
              "  <th>gsector_35</th> <td>    0.0282</td> <td>    0.054</td> <td>    0.527</td> <td> 0.599</td> <td>   -0.077</td> <td>    0.133</td>\n",
              "</tr>\n",
              "<tr>\n",
              "  <th>gsector_40</th> <td>   -0.1990</td> <td>    0.047</td> <td>   -4.207</td> <td> 0.000</td> <td>   -0.292</td> <td>   -0.106</td>\n",
              "</tr>\n",
              "<tr>\n",
              "  <th>gsector_45</th> <td>    0.3009</td> <td>    0.056</td> <td>    5.375</td> <td> 0.000</td> <td>    0.191</td> <td>    0.411</td>\n",
              "</tr>\n",
              "<tr>\n",
              "  <th>gsector_50</th> <td>    0.0266</td> <td>    0.098</td> <td>    0.271</td> <td> 0.786</td> <td>   -0.166</td> <td>    0.219</td>\n",
              "</tr>\n",
              "<tr>\n",
              "  <th>gsector_55</th> <td>   -0.4983</td> <td>    0.113</td> <td>   -4.425</td> <td> 0.000</td> <td>   -0.719</td> <td>   -0.277</td>\n",
              "</tr>\n",
              "<tr>\n",
              "  <th>gsector_60</th> <td>   -0.2041</td> <td>    0.074</td> <td>   -2.754</td> <td> 0.006</td> <td>   -0.349</td> <td>   -0.059</td>\n",
              "</tr>\n",
              "<tr>\n",
              "  <th>Price/Book</th> <td>    0.0006</td> <td>    0.002</td> <td>    0.262</td> <td> 0.793</td> <td>   -0.004</td> <td>    0.005</td>\n",
              "</tr>\n",
              "<tr>\n",
              "  <th>P/E</th>        <td>   -0.0007</td> <td>    0.000</td> <td>   -2.709</td> <td> 0.007</td> <td>   -0.001</td> <td>   -0.000</td>\n",
              "</tr>\n",
              "<tr>\n",
              "  <th>P/EBIT</th>     <td>   -0.0013</td> <td>    0.000</td> <td>   -3.654</td> <td> 0.000</td> <td>   -0.002</td> <td>   -0.001</td>\n",
              "</tr>\n",
              "<tr>\n",
              "  <th>P/SALES</th>    <td>    0.0007</td> <td>    0.000</td> <td>    1.977</td> <td> 0.048</td> <td> 5.94e-06</td> <td>    0.001</td>\n",
              "</tr>\n",
              "</table>\n",
              "<table class=\"simpletable\">\n",
              "<tr>\n",
              "  <th>Omnibus:</th>       <td>2858.326</td> <th>  Durbin-Watson:     </th>  <td>   1.943</td> \n",
              "</tr>\n",
              "<tr>\n",
              "  <th>Prob(Omnibus):</th>  <td> 0.000</td>  <th>  Jarque-Bera (JB):  </th> <td>356865.732</td>\n",
              "</tr>\n",
              "<tr>\n",
              "  <th>Skew:</th>           <td> 5.365</td>  <th>  Prob(JB):          </th>  <td>    0.00</td> \n",
              "</tr>\n",
              "<tr>\n",
              "  <th>Kurtosis:</th>       <td>59.394</td>  <th>  Cond. No.          </th>  <td>1.62e+17</td> \n",
              "</tr>\n",
              "</table><br/><br/>Warnings:<br/>[1] Standard Errors assume that the covariance matrix of the errors is correctly specified.<br/>[2] The smallest eigenvalue is 7.3e-28. This might indicate that there are<br/>strong multicollinearity problems or that the design matrix is singular."
            ],
            "text/plain": [
              "<class 'statsmodels.iolib.summary.Summary'>\n",
              "\"\"\"\n",
              "                            OLS Regression Results                            \n",
              "==============================================================================\n",
              "Dep. Variable:         ReturnLate2020   R-squared:                       0.107\n",
              "Model:                            OLS   Adj. R-squared:                  0.102\n",
              "Method:                 Least Squares   F-statistic:                     22.06\n",
              "Date:                Wed, 07 Jul 2021   Prob (F-statistic):           4.46e-54\n",
              "Time:                        00:27:06   Log-Likelihood:                -3727.0\n",
              "No. Observations:                2599   AIC:                             7484.\n",
              "Df Residuals:                    2584   BIC:                             7572.\n",
              "Df Model:                          14                                         \n",
              "Covariance Type:            nonrobust                                         \n",
              "==============================================================================\n",
              "                 coef    std err          t      P>|t|      [0.025      0.975]\n",
              "------------------------------------------------------------------------------\n",
              "const          0.7153      0.024     29.597      0.000       0.668       0.763\n",
              "gsector_10     0.3069      0.094      3.249      0.001       0.122       0.492\n",
              "gsector_15     0.1755      0.087      2.013      0.044       0.005       0.346\n",
              "gsector_20     0.1146      0.053      2.151      0.032       0.010       0.219\n",
              "gsector_25     0.8465      0.058     14.674      0.000       0.733       0.960\n",
              "gsector_30    -0.1825      0.091     -2.011      0.044      -0.360      -0.005\n",
              "gsector_35     0.0282      0.054      0.527      0.599      -0.077       0.133\n",
              "gsector_40    -0.1990      0.047     -4.207      0.000      -0.292      -0.106\n",
              "gsector_45     0.3009      0.056      5.375      0.000       0.191       0.411\n",
              "gsector_50     0.0266      0.098      0.271      0.786      -0.166       0.219\n",
              "gsector_55    -0.4983      0.113     -4.425      0.000      -0.719      -0.277\n",
              "gsector_60    -0.2041      0.074     -2.754      0.006      -0.349      -0.059\n",
              "Price/Book     0.0006      0.002      0.262      0.793      -0.004       0.005\n",
              "P/E           -0.0007      0.000     -2.709      0.007      -0.001      -0.000\n",
              "P/EBIT        -0.0013      0.000     -3.654      0.000      -0.002      -0.001\n",
              "P/SALES        0.0007      0.000      1.977      0.048    5.94e-06       0.001\n",
              "==============================================================================\n",
              "Omnibus:                     2858.326   Durbin-Watson:                   1.943\n",
              "Prob(Omnibus):                  0.000   Jarque-Bera (JB):           356865.732\n",
              "Skew:                           5.365   Prob(JB):                         0.00\n",
              "Kurtosis:                      59.394   Cond. No.                     1.62e+17\n",
              "==============================================================================\n",
              "\n",
              "Warnings:\n",
              "[1] Standard Errors assume that the covariance matrix of the errors is correctly specified.\n",
              "[2] The smallest eigenvalue is 7.3e-28. This might indicate that there are\n",
              "strong multicollinearity problems or that the design matrix is singular.\n",
              "\"\"\""
            ]
          },
          "metadata": {
            "tags": []
          },
          "execution_count": 28
        }
      ]
    },
    {
      "cell_type": "markdown",
      "metadata": {
        "id": "7DlCaOUFXK7U"
      },
      "source": [
        "After combining four industry ratios, the adjusted R square increased from 0.091 to 0.102. So the explanatory power of regression on ReturnLate2020 increased slightly. \n",
        "\n",
        "Apart from that, p-value of price/book is 0.793, which is not statistically significant.\n",
        "\n",
        "The p-value of P/E ratio is 0.007, which is statistically significant, if stock return in late 2020 decreased by 0.0007, P/E ratio would incread by 1. \n",
        "\n",
        "P-value of P/EBIT is 0.000, which is statistically significant, if stock return in late 2020 decreased by 0.0013, P/EBIT ratio would incread by 1. \n",
        "\n",
        "P-value of P/SALES is 0.048, which is statistically significant, if stock return in late 2020 increased by 0.0007, P/SALES ratio would incread by 1. "
      ]
    },
    {
      "cell_type": "markdown",
      "metadata": {
        "id": "CKx39TBciIZm"
      },
      "source": [
        "# **SIC Analysis**"
      ]
    },
    {
      "cell_type": "markdown",
      "metadata": {
        "id": "uPDjKxu8iPtR"
      },
      "source": [
        "### Create Industry Indicator (category) variables for the 24 Industry categories based on SIC"
      ]
    },
    {
      "cell_type": "code",
      "metadata": {
        "colab": {
          "base_uri": "https://localhost:8080/",
          "height": 204
        },
        "id": "2x467bKw2WWK",
        "outputId": "84ac637c-944c-4b12-8597-7a57da47bdbc"
      },
      "source": [
        "df_sic = df[['tic','sic','ReturnEarly2020','ReturnLate2020']]\n",
        "df_sic.head()"
      ],
      "execution_count": 55,
      "outputs": [
        {
          "output_type": "execute_result",
          "data": {
            "text/html": [
              "<div>\n",
              "<style scoped>\n",
              "    .dataframe tbody tr th:only-of-type {\n",
              "        vertical-align: middle;\n",
              "    }\n",
              "\n",
              "    .dataframe tbody tr th {\n",
              "        vertical-align: top;\n",
              "    }\n",
              "\n",
              "    .dataframe thead th {\n",
              "        text-align: right;\n",
              "    }\n",
              "</style>\n",
              "<table border=\"1\" class=\"dataframe\">\n",
              "  <thead>\n",
              "    <tr style=\"text-align: right;\">\n",
              "      <th></th>\n",
              "      <th>tic</th>\n",
              "      <th>sic</th>\n",
              "      <th>ReturnEarly2020</th>\n",
              "      <th>ReturnLate2020</th>\n",
              "    </tr>\n",
              "  </thead>\n",
              "  <tbody>\n",
              "    <tr>\n",
              "      <th>0</th>\n",
              "      <td>AIR</td>\n",
              "      <td>5080</td>\n",
              "      <td>-0.603849</td>\n",
              "      <td>1.039410</td>\n",
              "    </tr>\n",
              "    <tr>\n",
              "      <th>1</th>\n",
              "      <td>AAL</td>\n",
              "      <td>4512</td>\n",
              "      <td>-0.572734</td>\n",
              "      <td>0.293682</td>\n",
              "    </tr>\n",
              "    <tr>\n",
              "      <th>2</th>\n",
              "      <td>CECE</td>\n",
              "      <td>3564</td>\n",
              "      <td>-0.390339</td>\n",
              "      <td>0.490365</td>\n",
              "    </tr>\n",
              "    <tr>\n",
              "      <th>3</th>\n",
              "      <td>PNW</td>\n",
              "      <td>4911</td>\n",
              "      <td>-0.150483</td>\n",
              "      <td>0.086464</td>\n",
              "    </tr>\n",
              "    <tr>\n",
              "      <th>4</th>\n",
              "      <td>ABT</td>\n",
              "      <td>3845</td>\n",
              "      <td>-0.087773</td>\n",
              "      <td>0.402724</td>\n",
              "    </tr>\n",
              "  </tbody>\n",
              "</table>\n",
              "</div>"
            ],
            "text/plain": [
              "    tic   sic  ReturnEarly2020  ReturnLate2020\n",
              "0   AIR  5080        -0.603849        1.039410\n",
              "1   AAL  4512        -0.572734        0.293682\n",
              "2  CECE  3564        -0.390339        0.490365\n",
              "3   PNW  4911        -0.150483        0.086464\n",
              "4   ABT  3845        -0.087773        0.402724"
            ]
          },
          "metadata": {
            "tags": []
          },
          "execution_count": 55
        }
      ]
    },
    {
      "cell_type": "markdown",
      "metadata": {
        "id": "JjvmrvUvYEgK"
      },
      "source": [
        "### We need to categorize the sic groups into main groups"
      ]
    },
    {
      "cell_type": "code",
      "metadata": {
        "id": "jiQBWJg_41a3"
      },
      "source": [
        "def sic_cate(sic):\n",
        "  if sic >= 100 and sic <= 999:\n",
        "    return '0100-0999'\n",
        "  elif sic >= 1000 and sic <=1499:\n",
        "    return '1000-1499'\n",
        "  elif sic >= 1500 and sic <= 1799:\n",
        "    return '1500-1799'\n",
        "  elif sic >= 1800 and sic <= 1999:\n",
        "    return '1800-1999'\n",
        "  elif sic >= 2000 and sic <= 3999:\n",
        "    return '2000-3999'\n",
        "  elif sic >= 4000 and sic <= 4999:\n",
        "    return '4000-4999'\n",
        "  elif sic >= 5000 and sic <= 5199:\n",
        "    return '5000-5199'\n",
        "  elif sic >= 5200 and sic <= 5999:\n",
        "    return '5200-5999'\n",
        "  elif sic >= 6000 and sic <= 6799:\n",
        "    return '6000-6799'\n",
        "  elif sic >= 7000 and sic <= 8999:\n",
        "    return '7000-8999'\n",
        "  elif sic >= 9100 and sic <= 9729:\n",
        "    return '9100-9729'\n",
        "  elif sic >= 9900 and sic <= 9999:\n",
        "    return '9900-9999'"
      ],
      "execution_count": 56,
      "outputs": []
    },
    {
      "cell_type": "code",
      "metadata": {
        "colab": {
          "base_uri": "https://localhost:8080/",
          "height": 326
        },
        "id": "Atgya_sM47Xh",
        "outputId": "121165de-99ce-4223-f5c7-df2de58b0a2c"
      },
      "source": [
        "df_sic['sic_category'] = df['sic'].apply(sic_cate)\n",
        "df_sic.head()"
      ],
      "execution_count": 57,
      "outputs": [
        {
          "output_type": "stream",
          "text": [
            "/usr/local/lib/python3.7/dist-packages/ipykernel_launcher.py:1: SettingWithCopyWarning: \n",
            "A value is trying to be set on a copy of a slice from a DataFrame.\n",
            "Try using .loc[row_indexer,col_indexer] = value instead\n",
            "\n",
            "See the caveats in the documentation: https://pandas.pydata.org/pandas-docs/stable/user_guide/indexing.html#returning-a-view-versus-a-copy\n",
            "  \"\"\"Entry point for launching an IPython kernel.\n"
          ],
          "name": "stderr"
        },
        {
          "output_type": "execute_result",
          "data": {
            "text/html": [
              "<div>\n",
              "<style scoped>\n",
              "    .dataframe tbody tr th:only-of-type {\n",
              "        vertical-align: middle;\n",
              "    }\n",
              "\n",
              "    .dataframe tbody tr th {\n",
              "        vertical-align: top;\n",
              "    }\n",
              "\n",
              "    .dataframe thead th {\n",
              "        text-align: right;\n",
              "    }\n",
              "</style>\n",
              "<table border=\"1\" class=\"dataframe\">\n",
              "  <thead>\n",
              "    <tr style=\"text-align: right;\">\n",
              "      <th></th>\n",
              "      <th>tic</th>\n",
              "      <th>sic</th>\n",
              "      <th>ReturnEarly2020</th>\n",
              "      <th>ReturnLate2020</th>\n",
              "      <th>sic_category</th>\n",
              "    </tr>\n",
              "  </thead>\n",
              "  <tbody>\n",
              "    <tr>\n",
              "      <th>0</th>\n",
              "      <td>AIR</td>\n",
              "      <td>5080</td>\n",
              "      <td>-0.603849</td>\n",
              "      <td>1.039410</td>\n",
              "      <td>5000-5199</td>\n",
              "    </tr>\n",
              "    <tr>\n",
              "      <th>1</th>\n",
              "      <td>AAL</td>\n",
              "      <td>4512</td>\n",
              "      <td>-0.572734</td>\n",
              "      <td>0.293682</td>\n",
              "      <td>4000-4999</td>\n",
              "    </tr>\n",
              "    <tr>\n",
              "      <th>2</th>\n",
              "      <td>CECE</td>\n",
              "      <td>3564</td>\n",
              "      <td>-0.390339</td>\n",
              "      <td>0.490365</td>\n",
              "      <td>2000-3999</td>\n",
              "    </tr>\n",
              "    <tr>\n",
              "      <th>3</th>\n",
              "      <td>PNW</td>\n",
              "      <td>4911</td>\n",
              "      <td>-0.150483</td>\n",
              "      <td>0.086464</td>\n",
              "      <td>4000-4999</td>\n",
              "    </tr>\n",
              "    <tr>\n",
              "      <th>4</th>\n",
              "      <td>ABT</td>\n",
              "      <td>3845</td>\n",
              "      <td>-0.087773</td>\n",
              "      <td>0.402724</td>\n",
              "      <td>2000-3999</td>\n",
              "    </tr>\n",
              "  </tbody>\n",
              "</table>\n",
              "</div>"
            ],
            "text/plain": [
              "    tic   sic  ReturnEarly2020  ReturnLate2020 sic_category\n",
              "0   AIR  5080        -0.603849        1.039410    5000-5199\n",
              "1   AAL  4512        -0.572734        0.293682    4000-4999\n",
              "2  CECE  3564        -0.390339        0.490365    2000-3999\n",
              "3   PNW  4911        -0.150483        0.086464    4000-4999\n",
              "4   ABT  3845        -0.087773        0.402724    2000-3999"
            ]
          },
          "metadata": {
            "tags": []
          },
          "execution_count": 57
        }
      ]
    },
    {
      "cell_type": "code",
      "metadata": {
        "colab": {
          "base_uri": "https://localhost:8080/",
          "height": 326
        },
        "id": "foyHVctDb-wx",
        "outputId": "2990e0a8-32af-4435-fb4d-87d61a63ad63"
      },
      "source": [
        "df_sic.drop(columns='sic',inplace=True)\n",
        "# Get dummies of sic\n",
        "df_sic = pd.get_dummies(df_sic, columns=['sic_category'])\n",
        "df_sic.head()"
      ],
      "execution_count": 58,
      "outputs": [
        {
          "output_type": "stream",
          "text": [
            "/usr/local/lib/python3.7/dist-packages/pandas/core/frame.py:4174: SettingWithCopyWarning: \n",
            "A value is trying to be set on a copy of a slice from a DataFrame\n",
            "\n",
            "See the caveats in the documentation: https://pandas.pydata.org/pandas-docs/stable/user_guide/indexing.html#returning-a-view-versus-a-copy\n",
            "  errors=errors,\n"
          ],
          "name": "stderr"
        },
        {
          "output_type": "execute_result",
          "data": {
            "text/html": [
              "<div>\n",
              "<style scoped>\n",
              "    .dataframe tbody tr th:only-of-type {\n",
              "        vertical-align: middle;\n",
              "    }\n",
              "\n",
              "    .dataframe tbody tr th {\n",
              "        vertical-align: top;\n",
              "    }\n",
              "\n",
              "    .dataframe thead th {\n",
              "        text-align: right;\n",
              "    }\n",
              "</style>\n",
              "<table border=\"1\" class=\"dataframe\">\n",
              "  <thead>\n",
              "    <tr style=\"text-align: right;\">\n",
              "      <th></th>\n",
              "      <th>tic</th>\n",
              "      <th>ReturnEarly2020</th>\n",
              "      <th>ReturnLate2020</th>\n",
              "      <th>sic_category_0100-0999</th>\n",
              "      <th>sic_category_1000-1499</th>\n",
              "      <th>sic_category_1500-1799</th>\n",
              "      <th>sic_category_2000-3999</th>\n",
              "      <th>sic_category_4000-4999</th>\n",
              "      <th>sic_category_5000-5199</th>\n",
              "      <th>sic_category_5200-5999</th>\n",
              "      <th>sic_category_6000-6799</th>\n",
              "      <th>sic_category_7000-8999</th>\n",
              "      <th>sic_category_9900-9999</th>\n",
              "    </tr>\n",
              "  </thead>\n",
              "  <tbody>\n",
              "    <tr>\n",
              "      <th>0</th>\n",
              "      <td>AIR</td>\n",
              "      <td>-0.603849</td>\n",
              "      <td>1.039410</td>\n",
              "      <td>0</td>\n",
              "      <td>0</td>\n",
              "      <td>0</td>\n",
              "      <td>0</td>\n",
              "      <td>0</td>\n",
              "      <td>1</td>\n",
              "      <td>0</td>\n",
              "      <td>0</td>\n",
              "      <td>0</td>\n",
              "      <td>0</td>\n",
              "    </tr>\n",
              "    <tr>\n",
              "      <th>1</th>\n",
              "      <td>AAL</td>\n",
              "      <td>-0.572734</td>\n",
              "      <td>0.293682</td>\n",
              "      <td>0</td>\n",
              "      <td>0</td>\n",
              "      <td>0</td>\n",
              "      <td>0</td>\n",
              "      <td>1</td>\n",
              "      <td>0</td>\n",
              "      <td>0</td>\n",
              "      <td>0</td>\n",
              "      <td>0</td>\n",
              "      <td>0</td>\n",
              "    </tr>\n",
              "    <tr>\n",
              "      <th>2</th>\n",
              "      <td>CECE</td>\n",
              "      <td>-0.390339</td>\n",
              "      <td>0.490365</td>\n",
              "      <td>0</td>\n",
              "      <td>0</td>\n",
              "      <td>0</td>\n",
              "      <td>1</td>\n",
              "      <td>0</td>\n",
              "      <td>0</td>\n",
              "      <td>0</td>\n",
              "      <td>0</td>\n",
              "      <td>0</td>\n",
              "      <td>0</td>\n",
              "    </tr>\n",
              "    <tr>\n",
              "      <th>3</th>\n",
              "      <td>PNW</td>\n",
              "      <td>-0.150483</td>\n",
              "      <td>0.086464</td>\n",
              "      <td>0</td>\n",
              "      <td>0</td>\n",
              "      <td>0</td>\n",
              "      <td>0</td>\n",
              "      <td>1</td>\n",
              "      <td>0</td>\n",
              "      <td>0</td>\n",
              "      <td>0</td>\n",
              "      <td>0</td>\n",
              "      <td>0</td>\n",
              "    </tr>\n",
              "    <tr>\n",
              "      <th>4</th>\n",
              "      <td>ABT</td>\n",
              "      <td>-0.087773</td>\n",
              "      <td>0.402724</td>\n",
              "      <td>0</td>\n",
              "      <td>0</td>\n",
              "      <td>0</td>\n",
              "      <td>1</td>\n",
              "      <td>0</td>\n",
              "      <td>0</td>\n",
              "      <td>0</td>\n",
              "      <td>0</td>\n",
              "      <td>0</td>\n",
              "      <td>0</td>\n",
              "    </tr>\n",
              "  </tbody>\n",
              "</table>\n",
              "</div>"
            ],
            "text/plain": [
              "    tic  ReturnEarly2020  ...  sic_category_7000-8999  sic_category_9900-9999\n",
              "0   AIR        -0.603849  ...                       0                       0\n",
              "1   AAL        -0.572734  ...                       0                       0\n",
              "2  CECE        -0.390339  ...                       0                       0\n",
              "3   PNW        -0.150483  ...                       0                       0\n",
              "4   ABT        -0.087773  ...                       0                       0\n",
              "\n",
              "[5 rows x 13 columns]"
            ]
          },
          "metadata": {
            "tags": []
          },
          "execution_count": 58
        }
      ]
    },
    {
      "cell_type": "code",
      "metadata": {
        "id": "nzXzPwnJb-zp"
      },
      "source": [
        "# Create a list of  \n",
        "sic = (df_sic.loc[:,df_sic.columns.str.contains('sic')]).columns.to_list()\n",
        "\n",
        "# Calculate average stock return of each group\n",
        "avg_late_return3 = []\n",
        "avg_early_return3 = []\n",
        "a = [0]*len(sic)\n",
        "for i in range(len(a)):\n",
        "  a[i] = df_sic[df_sic[sic[i]] == 1]\n",
        "  avg_late = sum(a[i]['ReturnLate2020'])/a[i].shape[0]\n",
        "  avg_early = sum(a[i]['ReturnEarly2020'])/a[i].shape[0]\n",
        "  avg_late_return3.append(avg_late)\n",
        "  avg_early_return3.append(avg_early)"
      ],
      "execution_count": 59,
      "outputs": []
    },
    {
      "cell_type": "code",
      "metadata": {
        "colab": {
          "base_uri": "https://localhost:8080/",
          "height": 359
        },
        "id": "NJjubUmnb-2I",
        "outputId": "9924a018-6e5e-4c42-e7c8-6f3449b7fd5f"
      },
      "source": [
        "# Put all results into dataframe\n",
        "avg_return_sic = pd.DataFrame(\n",
        "    {'sic': sic,\n",
        "     'avg_late_return': avg_late_return3,\n",
        "     'avg_early_return': avg_early_return3\n",
        "    })\n",
        "avg_return_sic"
      ],
      "execution_count": 61,
      "outputs": [
        {
          "output_type": "execute_result",
          "data": {
            "text/html": [
              "<div>\n",
              "<style scoped>\n",
              "    .dataframe tbody tr th:only-of-type {\n",
              "        vertical-align: middle;\n",
              "    }\n",
              "\n",
              "    .dataframe tbody tr th {\n",
              "        vertical-align: top;\n",
              "    }\n",
              "\n",
              "    .dataframe thead th {\n",
              "        text-align: right;\n",
              "    }\n",
              "</style>\n",
              "<table border=\"1\" class=\"dataframe\">\n",
              "  <thead>\n",
              "    <tr style=\"text-align: right;\">\n",
              "      <th></th>\n",
              "      <th>sic</th>\n",
              "      <th>avg_late_return</th>\n",
              "      <th>avg_early_return</th>\n",
              "    </tr>\n",
              "  </thead>\n",
              "  <tbody>\n",
              "    <tr>\n",
              "      <th>0</th>\n",
              "      <td>sic_category_0100-0999</td>\n",
              "      <td>0.157886</td>\n",
              "      <td>-0.184881</td>\n",
              "    </tr>\n",
              "    <tr>\n",
              "      <th>1</th>\n",
              "      <td>sic_category_1000-1499</td>\n",
              "      <td>1.243543</td>\n",
              "      <td>-0.604631</td>\n",
              "    </tr>\n",
              "    <tr>\n",
              "      <th>2</th>\n",
              "      <td>sic_category_1500-1799</td>\n",
              "      <td>1.117741</td>\n",
              "      <td>-0.363957</td>\n",
              "    </tr>\n",
              "    <tr>\n",
              "      <th>3</th>\n",
              "      <td>sic_category_2000-3999</td>\n",
              "      <td>0.889861</td>\n",
              "      <td>-0.245908</td>\n",
              "    </tr>\n",
              "    <tr>\n",
              "      <th>4</th>\n",
              "      <td>sic_category_4000-4999</td>\n",
              "      <td>0.458229</td>\n",
              "      <td>-0.249150</td>\n",
              "    </tr>\n",
              "    <tr>\n",
              "      <th>5</th>\n",
              "      <td>sic_category_5000-5199</td>\n",
              "      <td>0.755734</td>\n",
              "      <td>-0.320072</td>\n",
              "    </tr>\n",
              "    <tr>\n",
              "      <th>6</th>\n",
              "      <td>sic_category_5200-5999</td>\n",
              "      <td>1.525524</td>\n",
              "      <td>-0.384014</td>\n",
              "    </tr>\n",
              "    <tr>\n",
              "      <th>7</th>\n",
              "      <td>sic_category_6000-6799</td>\n",
              "      <td>0.487499</td>\n",
              "      <td>-0.342094</td>\n",
              "    </tr>\n",
              "    <tr>\n",
              "      <th>8</th>\n",
              "      <td>sic_category_7000-8999</td>\n",
              "      <td>0.964493</td>\n",
              "      <td>-0.241631</td>\n",
              "    </tr>\n",
              "    <tr>\n",
              "      <th>9</th>\n",
              "      <td>sic_category_9900-9999</td>\n",
              "      <td>0.353783</td>\n",
              "      <td>-0.288459</td>\n",
              "    </tr>\n",
              "  </tbody>\n",
              "</table>\n",
              "</div>"
            ],
            "text/plain": [
              "                      sic  avg_late_return  avg_early_return\n",
              "0  sic_category_0100-0999         0.157886         -0.184881\n",
              "1  sic_category_1000-1499         1.243543         -0.604631\n",
              "2  sic_category_1500-1799         1.117741         -0.363957\n",
              "3  sic_category_2000-3999         0.889861         -0.245908\n",
              "4  sic_category_4000-4999         0.458229         -0.249150\n",
              "5  sic_category_5000-5199         0.755734         -0.320072\n",
              "6  sic_category_5200-5999         1.525524         -0.384014\n",
              "7  sic_category_6000-6799         0.487499         -0.342094\n",
              "8  sic_category_7000-8999         0.964493         -0.241631\n",
              "9  sic_category_9900-9999         0.353783         -0.288459"
            ]
          },
          "metadata": {
            "tags": []
          },
          "execution_count": 61
        }
      ]
    },
    {
      "cell_type": "markdown",
      "metadata": {
        "id": "8UDScY2zYRaq"
      },
      "source": [
        "We can see that all of the stock returns among 10 sic groupa in early 2020 are negative values. This is because that people didn't realize what would be going on and how terrible the covid-19 is, such as stay-at-home orders and\n",
        "quarantine requirements. So all the groups have suffered a lot, and the stock return dropped sharply, average value of return in the different groups are negative.\n",
        "\n",
        "Also it worth noting that all of the average stock returns are positive values. This is because global economy was reviving during the late 2020."
      ]
    },
    {
      "cell_type": "markdown",
      "metadata": {
        "id": "zDBbWkd9628M"
      },
      "source": [
        "### The highest stock return for early 2020"
      ]
    },
    {
      "cell_type": "code",
      "metadata": {
        "colab": {
          "base_uri": "https://localhost:8080/",
          "height": 681
        },
        "id": "P1BuHCfLy83O",
        "outputId": "f7a8f709-3c43-4958-d72d-a04c353c307a"
      },
      "source": [
        "sns.set(rc = {'figure.figsize':(10,6)})\n",
        "chart1 = sns.barplot(x='sic',y='avg_early_return',data=avg_return_sic,color='red')\n",
        "chart1.set_xticklabels(chart1.get_xticklabels(), rotation=45)"
      ],
      "execution_count": 62,
      "outputs": [
        {
          "output_type": "execute_result",
          "data": {
            "text/plain": [
              "[Text(0, 0, 'sic_category_0100-0999'),\n",
              " Text(0, 0, 'sic_category_1000-1499'),\n",
              " Text(0, 0, 'sic_category_1500-1799'),\n",
              " Text(0, 0, 'sic_category_2000-3999'),\n",
              " Text(0, 0, 'sic_category_4000-4999'),\n",
              " Text(0, 0, 'sic_category_5000-5199'),\n",
              " Text(0, 0, 'sic_category_5200-5999'),\n",
              " Text(0, 0, 'sic_category_6000-6799'),\n",
              " Text(0, 0, 'sic_category_7000-8999'),\n",
              " Text(0, 0, 'sic_category_9900-9999')]"
            ]
          },
          "metadata": {
            "tags": []
          },
          "execution_count": 62
        },
        {
          "output_type": "display_data",
          "data": {
            "image/png": "[encoded data removed]",
            "text/plain": [
              "<Figure size 720x432 with 1 Axes>"
            ]
          },
          "metadata": {
            "tags": []
          }
        }
      ]
    },
    {
      "cell_type": "code",
      "metadata": {
        "colab": {
          "base_uri": "https://localhost:8080/",
          "height": 660
        },
        "id": "sNx7xdzwzh8p",
        "outputId": "1d3c327e-6517-4f78-a0bb-5025715b8926"
      },
      "source": [
        "sns.set(rc = {'figure.figsize':(10,6)})\n",
        "chart1 = sns.barplot(x='sic',y='avg_late_return',data=avg_return_sic,color='blue')\n",
        "chart1.set_xticklabels(chart1.get_xticklabels(), rotation=45)"
      ],
      "execution_count": 63,
      "outputs": [
        {
          "output_type": "execute_result",
          "data": {
            "text/plain": [
              "[Text(0, 0, 'sic_category_0100-0999'),\n",
              " Text(0, 0, 'sic_category_1000-1499'),\n",
              " Text(0, 0, 'sic_category_1500-1799'),\n",
              " Text(0, 0, 'sic_category_2000-3999'),\n",
              " Text(0, 0, 'sic_category_4000-4999'),\n",
              " Text(0, 0, 'sic_category_5000-5199'),\n",
              " Text(0, 0, 'sic_category_5200-5999'),\n",
              " Text(0, 0, 'sic_category_6000-6799'),\n",
              " Text(0, 0, 'sic_category_7000-8999'),\n",
              " Text(0, 0, 'sic_category_9900-9999')]"
            ]
          },
          "metadata": {
            "tags": []
          },
          "execution_count": 63
        },
        {
          "output_type": "display_data",
          "data": {
            "image/png": "[encoded data removed]",
            "text/plain": [
              "<Figure size 720x432 with 1 Axes>"
            ]
          },
          "metadata": {
            "tags": []
          }
        }
      ]
    },
    {
      "cell_type": "code",
      "metadata": {
        "id": "gkPYBL2KzLfv"
      },
      "source": [
        "sns.set(rc = {'figure.figsize':(10,6)})\n",
        "chart1 = sns.barplot(x='sic',y='avg_early_return',data=avg_return_sic,color='red')\n",
        "chart1.set_xticklabels(chart1.get_xticklabels(), rotation=45)"
      ],
      "execution_count": null,
      "outputs": []
    },
    {
      "cell_type": "code",
      "metadata": {
        "colab": {
          "base_uri": "https://localhost:8080/",
          "height": 185
        },
        "id": "qEw_xlQ-6uHK",
        "outputId": "62e170c6-9f0c-44bf-a5c4-05197a4e763a"
      },
      "source": [
        "return_high = avg_return3[avg_return3.avg_early_return == avg_return3.avg_early_return.max()]\n",
        "return_high.drop(columns='avg_late_return',inplace=True)\n",
        "return_high"
      ],
      "execution_count": 12,
      "outputs": [
        {
          "output_type": "stream",
          "text": [
            "/usr/local/lib/python3.7/dist-packages/pandas/core/frame.py:4174: SettingWithCopyWarning: \n",
            "A value is trying to be set on a copy of a slice from a DataFrame\n",
            "\n",
            "See the caveats in the documentation: https://pandas.pydata.org/pandas-docs/stable/user_guide/indexing.html#returning-a-view-versus-a-copy\n",
            "  errors=errors,\n"
          ],
          "name": "stderr"
        },
        {
          "output_type": "execute_result",
          "data": {
            "text/html": [
              "<div>\n",
              "<style scoped>\n",
              "    .dataframe tbody tr th:only-of-type {\n",
              "        vertical-align: middle;\n",
              "    }\n",
              "\n",
              "    .dataframe tbody tr th {\n",
              "        vertical-align: top;\n",
              "    }\n",
              "\n",
              "    .dataframe thead th {\n",
              "        text-align: right;\n",
              "    }\n",
              "</style>\n",
              "<table border=\"1\" class=\"dataframe\">\n",
              "  <thead>\n",
              "    <tr style=\"text-align: right;\">\n",
              "      <th></th>\n",
              "      <th>sic</th>\n",
              "      <th>avg_early_return</th>\n",
              "    </tr>\n",
              "  </thead>\n",
              "  <tbody>\n",
              "    <tr>\n",
              "      <th>0</th>\n",
              "      <td>sic_category_0100-0999</td>\n",
              "      <td>-0.184881</td>\n",
              "    </tr>\n",
              "  </tbody>\n",
              "</table>\n",
              "</div>"
            ],
            "text/plain": [
              "                      sic  avg_early_return\n",
              "0  sic_category_0100-0999         -0.184881"
            ]
          },
          "metadata": {
            "tags": []
          },
          "execution_count": 12
        }
      ]
    },
    {
      "cell_type": "markdown",
      "metadata": {
        "id": "K4Jkk08dY3pd"
      },
      "source": [
        "The industry that has the highest stock return in early 2020 is sic01-09, which is agriculture, forestry and fishing. The average stock return is -0.184881. In sharp contrast to many other industries, livestocks forestry and crops has been generally exempted from major COVID-19-related restrictions. These types of work do not require many people gathering, so the business runs smothly relativily compared to other industries which require a bunch of people working together."
      ]
    },
    {
      "cell_type": "markdown",
      "metadata": {
        "id": "cGVboiPl7Fma"
      },
      "source": [
        "### The lowest stock return for early 2020"
      ]
    },
    {
      "cell_type": "code",
      "metadata": {
        "colab": {
          "base_uri": "https://localhost:8080/",
          "height": 185
        },
        "id": "CAEyHleQ6uJt",
        "outputId": "4e7d3fdb-4fee-4b46-e76d-d9b1daefcbe5"
      },
      "source": [
        "return_low = avg_return3[avg_return3.avg_early_return == avg_return3.avg_early_return.min()]\n",
        "return_low.drop(columns='avg_late_return',inplace=True)\n",
        "return_low"
      ],
      "execution_count": 14,
      "outputs": [
        {
          "output_type": "stream",
          "text": [
            "/usr/local/lib/python3.7/dist-packages/pandas/core/frame.py:4174: SettingWithCopyWarning: \n",
            "A value is trying to be set on a copy of a slice from a DataFrame\n",
            "\n",
            "See the caveats in the documentation: https://pandas.pydata.org/pandas-docs/stable/user_guide/indexing.html#returning-a-view-versus-a-copy\n",
            "  errors=errors,\n"
          ],
          "name": "stderr"
        },
        {
          "output_type": "execute_result",
          "data": {
            "text/html": [
              "<div>\n",
              "<style scoped>\n",
              "    .dataframe tbody tr th:only-of-type {\n",
              "        vertical-align: middle;\n",
              "    }\n",
              "\n",
              "    .dataframe tbody tr th {\n",
              "        vertical-align: top;\n",
              "    }\n",
              "\n",
              "    .dataframe thead th {\n",
              "        text-align: right;\n",
              "    }\n",
              "</style>\n",
              "<table border=\"1\" class=\"dataframe\">\n",
              "  <thead>\n",
              "    <tr style=\"text-align: right;\">\n",
              "      <th></th>\n",
              "      <th>sic</th>\n",
              "      <th>avg_early_return</th>\n",
              "    </tr>\n",
              "  </thead>\n",
              "  <tbody>\n",
              "    <tr>\n",
              "      <th>1</th>\n",
              "      <td>sic_category_1000-1499</td>\n",
              "      <td>-0.604631</td>\n",
              "    </tr>\n",
              "  </tbody>\n",
              "</table>\n",
              "</div>"
            ],
            "text/plain": [
              "                      sic  avg_early_return\n",
              "1  sic_category_1000-1499         -0.604631"
            ]
          },
          "metadata": {
            "tags": []
          },
          "execution_count": 14
        }
      ]
    },
    {
      "cell_type": "markdown",
      "metadata": {
        "id": "iA_kK8XmaxJf"
      },
      "source": [
        "The industry that has the lowest stock return in early2020 is sic10-14 which is mining industry. The average stock return is -0.604631. The impact of COVID-19 on mining is huge. Oil prices are dropping due to failed agreements on production cuts and the need for chemicals and refined products is slowing from industrial slow-downs and travel restrictions during the global pandemic. Also there was a oil price war between Russia and Saudi Arabia, which have a severe impact on stock market of the United States. So this lowest stock return during early 2020 in oil, gas and consumable fules industry is reasonable."
      ]
    },
    {
      "cell_type": "markdown",
      "metadata": {
        "id": "GK556fIt7ILZ"
      },
      "source": [
        "### The highest stock return for late 2020"
      ]
    },
    {
      "cell_type": "code",
      "metadata": {
        "colab": {
          "base_uri": "https://localhost:8080/",
          "height": 185
        },
        "id": "xeCb0BUJ6uML",
        "outputId": "1e93269b-0830-446a-d6e3-f5ef09e839c7"
      },
      "source": [
        "return_high = avg_return3[avg_return3.avg_late_return == avg_return3.avg_late_return.max()]\n",
        "return_high.drop(columns='avg_early_return',inplace=True)\n",
        "return_high"
      ],
      "execution_count": 15,
      "outputs": [
        {
          "output_type": "stream",
          "text": [
            "/usr/local/lib/python3.7/dist-packages/pandas/core/frame.py:4174: SettingWithCopyWarning: \n",
            "A value is trying to be set on a copy of a slice from a DataFrame\n",
            "\n",
            "See the caveats in the documentation: https://pandas.pydata.org/pandas-docs/stable/user_guide/indexing.html#returning-a-view-versus-a-copy\n",
            "  errors=errors,\n"
          ],
          "name": "stderr"
        },
        {
          "output_type": "execute_result",
          "data": {
            "text/html": [
              "<div>\n",
              "<style scoped>\n",
              "    .dataframe tbody tr th:only-of-type {\n",
              "        vertical-align: middle;\n",
              "    }\n",
              "\n",
              "    .dataframe tbody tr th {\n",
              "        vertical-align: top;\n",
              "    }\n",
              "\n",
              "    .dataframe thead th {\n",
              "        text-align: right;\n",
              "    }\n",
              "</style>\n",
              "<table border=\"1\" class=\"dataframe\">\n",
              "  <thead>\n",
              "    <tr style=\"text-align: right;\">\n",
              "      <th></th>\n",
              "      <th>sic</th>\n",
              "      <th>avg_late_return</th>\n",
              "    </tr>\n",
              "  </thead>\n",
              "  <tbody>\n",
              "    <tr>\n",
              "      <th>6</th>\n",
              "      <td>sic_category_5200-5999</td>\n",
              "      <td>1.525524</td>\n",
              "    </tr>\n",
              "  </tbody>\n",
              "</table>\n",
              "</div>"
            ],
            "text/plain": [
              "                      sic  avg_late_return\n",
              "6  sic_category_5200-5999         1.525524"
            ]
          },
          "metadata": {
            "tags": []
          },
          "execution_count": 15
        }
      ]
    },
    {
      "cell_type": "markdown",
      "metadata": {
        "id": "ai1JhYhGhZ2U"
      },
      "source": [
        "The retail trade has the highest stock return in late 2020. The retail trade includes Building Materials, Hardware, Garden Supply, and Mobile Home Dealers, general mechandise stores, food stores, automotive dealers, apparel and accesory store, Home Furniture, Furnishings, and Equipment Stores, eating and driking places and miscellaneous retail. The reason could be as follows: Because of the stay-home requirement, we spent more time staying at home, which may increase the need of household durables and some other related products."
      ]
    },
    {
      "cell_type": "markdown",
      "metadata": {
        "id": "wRPcJGQ17RXS"
      },
      "source": [
        "### The lowest stock return for late 2020"
      ]
    },
    {
      "cell_type": "code",
      "metadata": {
        "colab": {
          "base_uri": "https://localhost:8080/",
          "height": 185
        },
        "id": "iUQplFh17Vc6",
        "outputId": "5ce590b8-0704-4b06-ed29-9478d454c5c0"
      },
      "source": [
        "return_low = avg_return3[avg_return3.avg_late_return == avg_return3.avg_late_return.min()]\n",
        "return_low.drop(columns='avg_early_return',inplace=True)\n",
        "return_low"
      ],
      "execution_count": 16,
      "outputs": [
        {
          "output_type": "stream",
          "text": [
            "/usr/local/lib/python3.7/dist-packages/pandas/core/frame.py:4174: SettingWithCopyWarning: \n",
            "A value is trying to be set on a copy of a slice from a DataFrame\n",
            "\n",
            "See the caveats in the documentation: https://pandas.pydata.org/pandas-docs/stable/user_guide/indexing.html#returning-a-view-versus-a-copy\n",
            "  errors=errors,\n"
          ],
          "name": "stderr"
        },
        {
          "output_type": "execute_result",
          "data": {
            "text/html": [
              "<div>\n",
              "<style scoped>\n",
              "    .dataframe tbody tr th:only-of-type {\n",
              "        vertical-align: middle;\n",
              "    }\n",
              "\n",
              "    .dataframe tbody tr th {\n",
              "        vertical-align: top;\n",
              "    }\n",
              "\n",
              "    .dataframe thead th {\n",
              "        text-align: right;\n",
              "    }\n",
              "</style>\n",
              "<table border=\"1\" class=\"dataframe\">\n",
              "  <thead>\n",
              "    <tr style=\"text-align: right;\">\n",
              "      <th></th>\n",
              "      <th>sic</th>\n",
              "      <th>avg_late_return</th>\n",
              "    </tr>\n",
              "  </thead>\n",
              "  <tbody>\n",
              "    <tr>\n",
              "      <th>0</th>\n",
              "      <td>sic_category_0100-0999</td>\n",
              "      <td>0.157886</td>\n",
              "    </tr>\n",
              "  </tbody>\n",
              "</table>\n",
              "</div>"
            ],
            "text/plain": [
              "                      sic  avg_late_return\n",
              "0  sic_category_0100-0999         0.157886"
            ]
          },
          "metadata": {
            "tags": []
          },
          "execution_count": 16
        }
      ]
    },
    {
      "cell_type": "markdown",
      "metadata": {
        "id": "TvFHzrwvhaY4"
      },
      "source": [
        "The industry that has the lowest stock return in late 2020 is sic01-09, which is agriculture, forestry and fishing. The average stock return is 0.157886. As restaurants and schools still closed in late 2020, overall demand for agriculture product showed a decline in the U.S. "
      ]
    },
    {
      "cell_type": "markdown",
      "metadata": {
        "id": "F3GTbckV7fAE"
      },
      "source": [
        "### Run fixed effect regressions (using industry fixed effects) to explain both ReturnEarly2020"
      ]
    },
    {
      "cell_type": "markdown",
      "metadata": {
        "id": "ZvQArZ3U7f7M"
      },
      "source": [
        "### Early2020"
      ]
    },
    {
      "cell_type": "code",
      "metadata": {
        "colab": {
          "base_uri": "https://localhost:8080/",
          "height": 612
        },
        "id": "qYQ1Wjmd7hqk",
        "outputId": "5bed17de-44b7-4087-aecb-d7233dc74765"
      },
      "source": [
        "# define x as a subset of original dataframe\n",
        "x = df_sic.loc[:,df_sic.columns.str.contains('sic')]\n",
        "# define y as a series of ReturnEarly2020\n",
        "y = df['ReturnEarly2020']\n",
        "# pass x as a dataframe, while pass y as a series\n",
        "sm.OLS(y, x).fit().summary()"
      ],
      "execution_count": 17,
      "outputs": [
        {
          "output_type": "execute_result",
          "data": {
            "text/html": [
              "<table class=\"simpletable\">\n",
              "<caption>OLS Regression Results</caption>\n",
              "<tr>\n",
              "  <th>Dep. Variable:</th>     <td>ReturnEarly2020</td> <th>  R-squared:         </th> <td>   0.054</td>\n",
              "</tr>\n",
              "<tr>\n",
              "  <th>Model:</th>                   <td>OLS</td>       <th>  Adj. R-squared:    </th> <td>   0.051</td>\n",
              "</tr>\n",
              "<tr>\n",
              "  <th>Method:</th>             <td>Least Squares</td>  <th>  F-statistic:       </th> <td>   16.91</td>\n",
              "</tr>\n",
              "<tr>\n",
              "  <th>Date:</th>             <td>Wed, 07 Jul 2021</td> <th>  Prob (F-statistic):</th> <td>2.06e-27</td>\n",
              "</tr>\n",
              "<tr>\n",
              "  <th>Time:</th>                 <td>05:06:14</td>     <th>  Log-Likelihood:    </th> <td> -613.07</td>\n",
              "</tr>\n",
              "<tr>\n",
              "  <th>No. Observations:</th>      <td>  2666</td>      <th>  AIC:               </th> <td>   1246.</td>\n",
              "</tr>\n",
              "<tr>\n",
              "  <th>Df Residuals:</th>          <td>  2656</td>      <th>  BIC:               </th> <td>   1305.</td>\n",
              "</tr>\n",
              "<tr>\n",
              "  <th>Df Model:</th>              <td>     9</td>      <th>                     </th>     <td> </td>   \n",
              "</tr>\n",
              "<tr>\n",
              "  <th>Covariance Type:</th>      <td>nonrobust</td>    <th>                     </th>     <td> </td>   \n",
              "</tr>\n",
              "</table>\n",
              "<table class=\"simpletable\">\n",
              "<tr>\n",
              "             <td></td>               <th>coef</th>     <th>std err</th>      <th>t</th>      <th>P>|t|</th>  <th>[0.025</th>    <th>0.975]</th>  \n",
              "</tr>\n",
              "<tr>\n",
              "  <th>sic_category_0100-0999</th> <td>   -0.1849</td> <td>    0.115</td> <td>   -1.603</td> <td> 0.109</td> <td>   -0.411</td> <td>    0.041</td>\n",
              "</tr>\n",
              "<tr>\n",
              "  <th>sic_category_1000-1499</th> <td>   -0.6046</td> <td>    0.035</td> <td>  -17.162</td> <td> 0.000</td> <td>   -0.674</td> <td>   -0.536</td>\n",
              "</tr>\n",
              "<tr>\n",
              "  <th>sic_category_1500-1799</th> <td>   -0.3640</td> <td>    0.051</td> <td>   -7.157</td> <td> 0.000</td> <td>   -0.464</td> <td>   -0.264</td>\n",
              "</tr>\n",
              "<tr>\n",
              "  <th>sic_category_2000-3999</th> <td>   -0.2459</td> <td>    0.009</td> <td>  -25.917</td> <td> 0.000</td> <td>   -0.265</td> <td>   -0.227</td>\n",
              "</tr>\n",
              "<tr>\n",
              "  <th>sic_category_4000-4999</th> <td>   -0.2491</td> <td>    0.022</td> <td>  -11.577</td> <td> 0.000</td> <td>   -0.291</td> <td>   -0.207</td>\n",
              "</tr>\n",
              "<tr>\n",
              "  <th>sic_category_5000-5199</th> <td>   -0.3201</td> <td>    0.038</td> <td>   -8.392</td> <td> 0.000</td> <td>   -0.395</td> <td>   -0.245</td>\n",
              "</tr>\n",
              "<tr>\n",
              "  <th>sic_category_5200-5999</th> <td>   -0.3840</td> <td>    0.026</td> <td>  -14.786</td> <td> 0.000</td> <td>   -0.435</td> <td>   -0.333</td>\n",
              "</tr>\n",
              "<tr>\n",
              "  <th>sic_category_6000-6799</th> <td>   -0.3421</td> <td>    0.012</td> <td>  -29.474</td> <td> 0.000</td> <td>   -0.365</td> <td>   -0.319</td>\n",
              "</tr>\n",
              "<tr>\n",
              "  <th>sic_category_7000-8999</th> <td>   -0.2416</td> <td>    0.015</td> <td>  -16.172</td> <td> 0.000</td> <td>   -0.271</td> <td>   -0.212</td>\n",
              "</tr>\n",
              "<tr>\n",
              "  <th>sic_category_9900-9999</th> <td>   -0.2885</td> <td>    0.176</td> <td>   -1.638</td> <td> 0.102</td> <td>   -0.634</td> <td>    0.057</td>\n",
              "</tr>\n",
              "</table>\n",
              "<table class=\"simpletable\">\n",
              "<tr>\n",
              "  <th>Omnibus:</th>       <td>4106.204</td> <th>  Durbin-Watson:     </th>  <td>   1.929</td>  \n",
              "</tr>\n",
              "<tr>\n",
              "  <th>Prob(Omnibus):</th>  <td> 0.000</td>  <th>  Jarque-Bera (JB):  </th> <td>3959078.759</td>\n",
              "</tr>\n",
              "<tr>\n",
              "  <th>Skew:</th>           <td> 9.201</td>  <th>  Prob(JB):          </th>  <td>    0.00</td>  \n",
              "</tr>\n",
              "<tr>\n",
              "  <th>Kurtosis:</th>       <td>190.888</td> <th>  Cond. No.          </th>  <td>    18.6</td>  \n",
              "</tr>\n",
              "</table><br/><br/>Warnings:<br/>[1] Standard Errors assume that the covariance matrix of the errors is correctly specified."
            ],
            "text/plain": [
              "<class 'statsmodels.iolib.summary.Summary'>\n",
              "\"\"\"\n",
              "                            OLS Regression Results                            \n",
              "==============================================================================\n",
              "Dep. Variable:        ReturnEarly2020   R-squared:                       0.054\n",
              "Model:                            OLS   Adj. R-squared:                  0.051\n",
              "Method:                 Least Squares   F-statistic:                     16.91\n",
              "Date:                Wed, 07 Jul 2021   Prob (F-statistic):           2.06e-27\n",
              "Time:                        05:06:14   Log-Likelihood:                -613.07\n",
              "No. Observations:                2666   AIC:                             1246.\n",
              "Df Residuals:                    2656   BIC:                             1305.\n",
              "Df Model:                           9                                         \n",
              "Covariance Type:            nonrobust                                         \n",
              "==========================================================================================\n",
              "                             coef    std err          t      P>|t|      [0.025      0.975]\n",
              "------------------------------------------------------------------------------------------\n",
              "sic_category_0100-0999    -0.1849      0.115     -1.603      0.109      -0.411       0.041\n",
              "sic_category_1000-1499    -0.6046      0.035    -17.162      0.000      -0.674      -0.536\n",
              "sic_category_1500-1799    -0.3640      0.051     -7.157      0.000      -0.464      -0.264\n",
              "sic_category_2000-3999    -0.2459      0.009    -25.917      0.000      -0.265      -0.227\n",
              "sic_category_4000-4999    -0.2491      0.022    -11.577      0.000      -0.291      -0.207\n",
              "sic_category_5000-5199    -0.3201      0.038     -8.392      0.000      -0.395      -0.245\n",
              "sic_category_5200-5999    -0.3840      0.026    -14.786      0.000      -0.435      -0.333\n",
              "sic_category_6000-6799    -0.3421      0.012    -29.474      0.000      -0.365      -0.319\n",
              "sic_category_7000-8999    -0.2416      0.015    -16.172      0.000      -0.271      -0.212\n",
              "sic_category_9900-9999    -0.2885      0.176     -1.638      0.102      -0.634       0.057\n",
              "==============================================================================\n",
              "Omnibus:                     4106.204   Durbin-Watson:                   1.929\n",
              "Prob(Omnibus):                  0.000   Jarque-Bera (JB):          3959078.759\n",
              "Skew:                           9.201   Prob(JB):                         0.00\n",
              "Kurtosis:                     190.888   Cond. No.                         18.6\n",
              "==============================================================================\n",
              "\n",
              "Warnings:\n",
              "[1] Standard Errors assume that the covariance matrix of the errors is correctly specified.\n",
              "\"\"\""
            ]
          },
          "metadata": {
            "tags": []
          },
          "execution_count": 17
        }
      ]
    },
    {
      "cell_type": "markdown",
      "metadata": {
        "id": "2dnEoty5XHRu"
      },
      "source": [
        "From the output above we can see that all industry are statistically significant except for sic_category_0100-0999 and sic_category_9900-9999, which is the agriculture, forestry and fishing and public administration. It can be interpreted that pademic have severe negative influence on almost all the industries but slightly or no influence on agriculture, forestry and fishing and public administration.\n",
        "The coefficients of each industry indicate the average return in early 2020 of these industries. For example, the coefficient of sic_category_1000-1499 is -0.6046, which means that average stock return of sic_category_1000-1499 is -0.6046 in early 2020."
      ]
    },
    {
      "cell_type": "markdown",
      "metadata": {
        "id": "558-XJtR7tI5"
      },
      "source": [
        "### Late2020"
      ]
    },
    {
      "cell_type": "code",
      "metadata": {
        "colab": {
          "base_uri": "https://localhost:8080/",
          "height": 612
        },
        "id": "nWMnP63v7htB",
        "outputId": "394cb046-175e-4508-c8ac-2f1622e9c277"
      },
      "source": [
        "# define x as a subset of original dataframe\n",
        "x = df_sic.loc[:,df_sic.columns.str.contains('sic')]\n",
        "# define y as a series of ReturnLate2020\n",
        "y = df['ReturnLate2020']\n",
        "\n",
        "# pass x as a dataframe, while pass y as a series\n",
        "sm.OLS(y, x).fit().summary()"
      ],
      "execution_count": 148,
      "outputs": [
        {
          "output_type": "execute_result",
          "data": {
            "text/html": [
              "<table class=\"simpletable\">\n",
              "<caption>OLS Regression Results</caption>\n",
              "<tr>\n",
              "  <th>Dep. Variable:</th>     <td>ReturnLate2020</td>  <th>  R-squared:         </th> <td>   0.067</td>\n",
              "</tr>\n",
              "<tr>\n",
              "  <th>Model:</th>                   <td>OLS</td>       <th>  Adj. R-squared:    </th> <td>   0.064</td>\n",
              "</tr>\n",
              "<tr>\n",
              "  <th>Method:</th>             <td>Least Squares</td>  <th>  F-statistic:       </th> <td>   21.11</td>\n",
              "</tr>\n",
              "<tr>\n",
              "  <th>Date:</th>             <td>Tue, 06 Jul 2021</td> <th>  Prob (F-statistic):</th> <td>8.49e-35</td>\n",
              "</tr>\n",
              "<tr>\n",
              "  <th>Time:</th>                 <td>03:49:17</td>     <th>  Log-Likelihood:    </th> <td> -3880.5</td>\n",
              "</tr>\n",
              "<tr>\n",
              "  <th>No. Observations:</th>      <td>  2666</td>      <th>  AIC:               </th> <td>   7781.</td>\n",
              "</tr>\n",
              "<tr>\n",
              "  <th>Df Residuals:</th>          <td>  2656</td>      <th>  BIC:               </th> <td>   7840.</td>\n",
              "</tr>\n",
              "<tr>\n",
              "  <th>Df Model:</th>              <td>     9</td>      <th>                     </th>     <td> </td>   \n",
              "</tr>\n",
              "<tr>\n",
              "  <th>Covariance Type:</th>      <td>nonrobust</td>    <th>                     </th>     <td> </td>   \n",
              "</tr>\n",
              "</table>\n",
              "<table class=\"simpletable\">\n",
              "<tr>\n",
              "             <td></td>               <th>coef</th>     <th>std err</th>      <th>t</th>      <th>P>|t|</th>  <th>[0.025</th>    <th>0.975]</th>  \n",
              "</tr>\n",
              "<tr>\n",
              "  <th>sic_category_0100-0999</th> <td>    0.1579</td> <td>    0.393</td> <td>    0.402</td> <td> 0.688</td> <td>   -0.612</td> <td>    0.928</td>\n",
              "</tr>\n",
              "<tr>\n",
              "  <th>sic_category_1000-1499</th> <td>    1.2435</td> <td>    0.120</td> <td>   10.363</td> <td> 0.000</td> <td>    1.008</td> <td>    1.479</td>\n",
              "</tr>\n",
              "<tr>\n",
              "  <th>sic_category_1500-1799</th> <td>    1.1177</td> <td>    0.173</td> <td>    6.453</td> <td> 0.000</td> <td>    0.778</td> <td>    1.457</td>\n",
              "</tr>\n",
              "<tr>\n",
              "  <th>sic_category_2000-3999</th> <td>    0.8899</td> <td>    0.032</td> <td>   27.533</td> <td> 0.000</td> <td>    0.826</td> <td>    0.953</td>\n",
              "</tr>\n",
              "<tr>\n",
              "  <th>sic_category_4000-4999</th> <td>    0.4582</td> <td>    0.073</td> <td>    6.251</td> <td> 0.000</td> <td>    0.314</td> <td>    0.602</td>\n",
              "</tr>\n",
              "<tr>\n",
              "  <th>sic_category_5000-5199</th> <td>    0.7557</td> <td>    0.130</td> <td>    5.817</td> <td> 0.000</td> <td>    0.501</td> <td>    1.010</td>\n",
              "</tr>\n",
              "<tr>\n",
              "  <th>sic_category_5200-5999</th> <td>    1.5255</td> <td>    0.088</td> <td>   17.244</td> <td> 0.000</td> <td>    1.352</td> <td>    1.699</td>\n",
              "</tr>\n",
              "<tr>\n",
              "  <th>sic_category_6000-6799</th> <td>    0.4875</td> <td>    0.040</td> <td>   12.331</td> <td> 0.000</td> <td>    0.410</td> <td>    0.565</td>\n",
              "</tr>\n",
              "<tr>\n",
              "  <th>sic_category_7000-8999</th> <td>    0.9645</td> <td>    0.051</td> <td>   18.951</td> <td> 0.000</td> <td>    0.865</td> <td>    1.064</td>\n",
              "</tr>\n",
              "<tr>\n",
              "  <th>sic_category_9900-9999</th> <td>    0.3538</td> <td>    0.600</td> <td>    0.590</td> <td> 0.555</td> <td>   -0.823</td> <td>    1.530</td>\n",
              "</tr>\n",
              "</table>\n",
              "<table class=\"simpletable\">\n",
              "<tr>\n",
              "  <th>Omnibus:</th>       <td>2908.523</td> <th>  Durbin-Watson:     </th>  <td>   1.945</td> \n",
              "</tr>\n",
              "<tr>\n",
              "  <th>Prob(Omnibus):</th>  <td> 0.000</td>  <th>  Jarque-Bera (JB):  </th> <td>362904.329</td>\n",
              "</tr>\n",
              "<tr>\n",
              "  <th>Skew:</th>           <td> 5.290</td>  <th>  Prob(JB):          </th>  <td>    0.00</td> \n",
              "</tr>\n",
              "<tr>\n",
              "  <th>Kurtosis:</th>       <td>59.169</td>  <th>  Cond. No.          </th>  <td>    18.6</td> \n",
              "</tr>\n",
              "</table><br/><br/>Warnings:<br/>[1] Standard Errors assume that the covariance matrix of the errors is correctly specified."
            ],
            "text/plain": [
              "<class 'statsmodels.iolib.summary.Summary'>\n",
              "\"\"\"\n",
              "                            OLS Regression Results                            \n",
              "==============================================================================\n",
              "Dep. Variable:         ReturnLate2020   R-squared:                       0.067\n",
              "Model:                            OLS   Adj. R-squared:                  0.064\n",
              "Method:                 Least Squares   F-statistic:                     21.11\n",
              "Date:                Tue, 06 Jul 2021   Prob (F-statistic):           8.49e-35\n",
              "Time:                        03:49:17   Log-Likelihood:                -3880.5\n",
              "No. Observations:                2666   AIC:                             7781.\n",
              "Df Residuals:                    2656   BIC:                             7840.\n",
              "Df Model:                           9                                         \n",
              "Covariance Type:            nonrobust                                         \n",
              "==========================================================================================\n",
              "                             coef    std err          t      P>|t|      [0.025      0.975]\n",
              "------------------------------------------------------------------------------------------\n",
              "sic_category_0100-0999     0.1579      0.393      0.402      0.688      -0.612       0.928\n",
              "sic_category_1000-1499     1.2435      0.120     10.363      0.000       1.008       1.479\n",
              "sic_category_1500-1799     1.1177      0.173      6.453      0.000       0.778       1.457\n",
              "sic_category_2000-3999     0.8899      0.032     27.533      0.000       0.826       0.953\n",
              "sic_category_4000-4999     0.4582      0.073      6.251      0.000       0.314       0.602\n",
              "sic_category_5000-5199     0.7557      0.130      5.817      0.000       0.501       1.010\n",
              "sic_category_5200-5999     1.5255      0.088     17.244      0.000       1.352       1.699\n",
              "sic_category_6000-6799     0.4875      0.040     12.331      0.000       0.410       0.565\n",
              "sic_category_7000-8999     0.9645      0.051     18.951      0.000       0.865       1.064\n",
              "sic_category_9900-9999     0.3538      0.600      0.590      0.555      -0.823       1.530\n",
              "==============================================================================\n",
              "Omnibus:                     2908.523   Durbin-Watson:                   1.945\n",
              "Prob(Omnibus):                  0.000   Jarque-Bera (JB):           362904.329\n",
              "Skew:                           5.290   Prob(JB):                         0.00\n",
              "Kurtosis:                      59.169   Cond. No.                         18.6\n",
              "==============================================================================\n",
              "\n",
              "Warnings:\n",
              "[1] Standard Errors assume that the covariance matrix of the errors is correctly specified.\n",
              "\"\"\""
            ]
          },
          "metadata": {
            "tags": []
          },
          "execution_count": 148
        }
      ]
    },
    {
      "cell_type": "markdown",
      "metadata": {
        "id": "A6-5dnecYNb1"
      },
      "source": [
        "From the output above we can see that all industry is statistically significant except for sic_category_0100-0999 and sic_category_9900-9999, which are the agriculture, forestry and fishing and public administration. It can be interpreted that economic reviving of later pandemic have positive influence on almost all the industries but slightly or no influence on agriculture, forestry and fishing and public administration. \n",
        "The coefficients of each industry indicate the average return in late 2020 of these industries. For example, the coefficient of sic_category_1000-1499 is 1.2435, which means that average stock return of sic_category_1000-1499 is 1.2435 in late 2020."
      ]
    },
    {
      "cell_type": "markdown",
      "metadata": {
        "id": "9RXiMahr7z3y"
      },
      "source": [
        "### Combine the industry fixed effects with other explanatory variables"
      ]
    },
    {
      "cell_type": "code",
      "metadata": {
        "colab": {
          "base_uri": "https://localhost:8080/",
          "height": 241
        },
        "id": "r_vG3SKV7hvi",
        "outputId": "5b556046-ac77-4e88-9588-bdc0c48cea7a"
      },
      "source": [
        "df_sic_ratio = df_sic.merge(assign3,how='inner',left_on='tic',right_on='TICKER')\n",
        "df_sic_ratio.drop(columns=['tic','TICKER'],inplace=True)\n",
        "df_sic_ratio.head()"
      ],
      "execution_count": 23,
      "outputs": [
        {
          "output_type": "execute_result",
          "data": {
            "text/html": [
              "<div>\n",
              "<style scoped>\n",
              "    .dataframe tbody tr th:only-of-type {\n",
              "        vertical-align: middle;\n",
              "    }\n",
              "\n",
              "    .dataframe tbody tr th {\n",
              "        vertical-align: top;\n",
              "    }\n",
              "\n",
              "    .dataframe thead th {\n",
              "        text-align: right;\n",
              "    }\n",
              "</style>\n",
              "<table border=\"1\" class=\"dataframe\">\n",
              "  <thead>\n",
              "    <tr style=\"text-align: right;\">\n",
              "      <th></th>\n",
              "      <th>ReturnEarly2020</th>\n",
              "      <th>ReturnLate2020</th>\n",
              "      <th>sic_category_0100-0999</th>\n",
              "      <th>sic_category_1000-1499</th>\n",
              "      <th>sic_category_1500-1799</th>\n",
              "      <th>sic_category_2000-3999</th>\n",
              "      <th>sic_category_4000-4999</th>\n",
              "      <th>sic_category_5000-5199</th>\n",
              "      <th>sic_category_5200-5999</th>\n",
              "      <th>sic_category_6000-6799</th>\n",
              "      <th>sic_category_7000-8999</th>\n",
              "      <th>sic_category_9900-9999</th>\n",
              "      <th>Price/Book</th>\n",
              "      <th>P/E</th>\n",
              "      <th>P/EBIT</th>\n",
              "      <th>P/SALES</th>\n",
              "    </tr>\n",
              "  </thead>\n",
              "  <tbody>\n",
              "    <tr>\n",
              "      <th>0</th>\n",
              "      <td>-0.603849</td>\n",
              "      <td>1.039410</td>\n",
              "      <td>0</td>\n",
              "      <td>0</td>\n",
              "      <td>0</td>\n",
              "      <td>0</td>\n",
              "      <td>0</td>\n",
              "      <td>1</td>\n",
              "      <td>0</td>\n",
              "      <td>0</td>\n",
              "      <td>0</td>\n",
              "      <td>0</td>\n",
              "      <td>1.753683</td>\n",
              "      <td>359.744250</td>\n",
              "      <td>14.602165</td>\n",
              "      <td>0.757610</td>\n",
              "    </tr>\n",
              "    <tr>\n",
              "      <th>1</th>\n",
              "      <td>-0.572734</td>\n",
              "      <td>0.293682</td>\n",
              "      <td>0</td>\n",
              "      <td>0</td>\n",
              "      <td>0</td>\n",
              "      <td>0</td>\n",
              "      <td>1</td>\n",
              "      <td>0</td>\n",
              "      <td>0</td>\n",
              "      <td>0</td>\n",
              "      <td>0</td>\n",
              "      <td>0</td>\n",
              "      <td>-31.367242</td>\n",
              "      <td>7.284023</td>\n",
              "      <td>3.313778</td>\n",
              "      <td>0.268329</td>\n",
              "    </tr>\n",
              "    <tr>\n",
              "      <th>2</th>\n",
              "      <td>-0.390339</td>\n",
              "      <td>0.490365</td>\n",
              "      <td>0</td>\n",
              "      <td>0</td>\n",
              "      <td>0</td>\n",
              "      <td>1</td>\n",
              "      <td>0</td>\n",
              "      <td>0</td>\n",
              "      <td>0</td>\n",
              "      <td>0</td>\n",
              "      <td>0</td>\n",
              "      <td>0</td>\n",
              "      <td>1.394434</td>\n",
              "      <td>15.200171</td>\n",
              "      <td>13.716717</td>\n",
              "      <td>0.787288</td>\n",
              "    </tr>\n",
              "    <tr>\n",
              "      <th>3</th>\n",
              "      <td>-0.150483</td>\n",
              "      <td>0.086464</td>\n",
              "      <td>0</td>\n",
              "      <td>0</td>\n",
              "      <td>0</td>\n",
              "      <td>0</td>\n",
              "      <td>1</td>\n",
              "      <td>0</td>\n",
              "      <td>0</td>\n",
              "      <td>0</td>\n",
              "      <td>0</td>\n",
              "      <td>0</td>\n",
              "      <td>1.861908</td>\n",
              "      <td>18.783195</td>\n",
              "      <td>15.047576</td>\n",
              "      <td>2.912924</td>\n",
              "    </tr>\n",
              "    <tr>\n",
              "      <th>4</th>\n",
              "      <td>-0.087773</td>\n",
              "      <td>0.402724</td>\n",
              "      <td>0</td>\n",
              "      <td>0</td>\n",
              "      <td>0</td>\n",
              "      <td>1</td>\n",
              "      <td>0</td>\n",
              "      <td>0</td>\n",
              "      <td>0</td>\n",
              "      <td>0</td>\n",
              "      <td>0</td>\n",
              "      <td>0</td>\n",
              "      <td>4.924441</td>\n",
              "      <td>41.521836</td>\n",
              "      <td>30.369175</td>\n",
              "      <td>4.798490</td>\n",
              "    </tr>\n",
              "  </tbody>\n",
              "</table>\n",
              "</div>"
            ],
            "text/plain": [
              "   ReturnEarly2020  ReturnLate2020  ...     P/EBIT   P/SALES\n",
              "0        -0.603849        1.039410  ...  14.602165  0.757610\n",
              "1        -0.572734        0.293682  ...   3.313778  0.268329\n",
              "2        -0.390339        0.490365  ...  13.716717  0.787288\n",
              "3        -0.150483        0.086464  ...  15.047576  2.912924\n",
              "4        -0.087773        0.402724  ...  30.369175  4.798490\n",
              "\n",
              "[5 rows x 16 columns]"
            ]
          },
          "metadata": {
            "tags": []
          },
          "execution_count": 23
        }
      ]
    },
    {
      "cell_type": "markdown",
      "metadata": {
        "id": "O76qrD1C8Bvi"
      },
      "source": [
        "### Early2020"
      ]
    },
    {
      "cell_type": "code",
      "metadata": {
        "colab": {
          "base_uri": "https://localhost:8080/",
          "height": 751
        },
        "id": "WuaMY0gX8DIb",
        "outputId": "d72be4db-f6dc-4a13-a114-33d2ed361e62"
      },
      "source": [
        "# define x as a subset of original dataframe\n",
        "x = df_sic_ratio.loc[:,~df_sic_ratio.columns.str.contains('Return')]\n",
        "# define y as a series\n",
        "y = df_sic_ratio['ReturnEarly2020']\n",
        "# Add a constant\n",
        "x = sm.add_constant(x)\n",
        "# pass x as a dataframe, while pass y as a series\n",
        "sm.OLS(y, x).fit().summary()"
      ],
      "execution_count": 24,
      "outputs": [
        {
          "output_type": "execute_result",
          "data": {
            "text/html": [
              "<table class=\"simpletable\">\n",
              "<caption>OLS Regression Results</caption>\n",
              "<tr>\n",
              "  <th>Dep. Variable:</th>     <td>ReturnEarly2020</td> <th>  R-squared:         </th> <td>   0.066</td>\n",
              "</tr>\n",
              "<tr>\n",
              "  <th>Model:</th>                   <td>OLS</td>       <th>  Adj. R-squared:    </th> <td>   0.062</td>\n",
              "</tr>\n",
              "<tr>\n",
              "  <th>Method:</th>             <td>Least Squares</td>  <th>  F-statistic:       </th> <td>   14.11</td>\n",
              "</tr>\n",
              "<tr>\n",
              "  <th>Date:</th>             <td>Wed, 07 Jul 2021</td> <th>  Prob (F-statistic):</th> <td>5.25e-31</td>\n",
              "</tr>\n",
              "<tr>\n",
              "  <th>Time:</th>                 <td>05:26:26</td>     <th>  Log-Likelihood:    </th> <td> -583.33</td>\n",
              "</tr>\n",
              "<tr>\n",
              "  <th>No. Observations:</th>      <td>  2599</td>      <th>  AIC:               </th> <td>   1195.</td>\n",
              "</tr>\n",
              "<tr>\n",
              "  <th>Df Residuals:</th>          <td>  2585</td>      <th>  BIC:               </th> <td>   1277.</td>\n",
              "</tr>\n",
              "<tr>\n",
              "  <th>Df Model:</th>              <td>    13</td>      <th>                     </th>     <td> </td>   \n",
              "</tr>\n",
              "<tr>\n",
              "  <th>Covariance Type:</th>      <td>nonrobust</td>    <th>                     </th>     <td> </td>   \n",
              "</tr>\n",
              "</table>\n",
              "<table class=\"simpletable\">\n",
              "<tr>\n",
              "             <td></td>               <th>coef</th>     <th>std err</th>      <th>t</th>      <th>P>|t|</th>  <th>[0.025</th>    <th>0.975]</th>  \n",
              "</tr>\n",
              "<tr>\n",
              "  <th>const</th>                  <td>   -0.3040</td> <td>    0.021</td> <td>  -14.789</td> <td> 0.000</td> <td>   -0.344</td> <td>   -0.264</td>\n",
              "</tr>\n",
              "<tr>\n",
              "  <th>sic_category_0100-0999</th> <td>    0.1124</td> <td>    0.106</td> <td>    1.062</td> <td> 0.288</td> <td>   -0.095</td> <td>    0.320</td>\n",
              "</tr>\n",
              "<tr>\n",
              "  <th>sic_category_1000-1499</th> <td>   -0.3149</td> <td>    0.038</td> <td>   -8.260</td> <td> 0.000</td> <td>   -0.390</td> <td>   -0.240</td>\n",
              "</tr>\n",
              "<tr>\n",
              "  <th>sic_category_1500-1799</th> <td>   -0.0633</td> <td>    0.049</td> <td>   -1.290</td> <td> 0.197</td> <td>   -0.159</td> <td>    0.033</td>\n",
              "</tr>\n",
              "<tr>\n",
              "  <th>sic_category_2000-3999</th> <td>    0.0354</td> <td>    0.022</td> <td>    1.581</td> <td> 0.114</td> <td>   -0.009</td> <td>    0.079</td>\n",
              "</tr>\n",
              "<tr>\n",
              "  <th>sic_category_4000-4999</th> <td>    0.0447</td> <td>    0.028</td> <td>    1.592</td> <td> 0.112</td> <td>   -0.010</td> <td>    0.100</td>\n",
              "</tr>\n",
              "<tr>\n",
              "  <th>sic_category_5000-5199</th> <td>   -0.0203</td> <td>    0.040</td> <td>   -0.514</td> <td> 0.607</td> <td>   -0.098</td> <td>    0.057</td>\n",
              "</tr>\n",
              "<tr>\n",
              "  <th>sic_category_5200-5999</th> <td>   -0.0924</td> <td>    0.031</td> <td>   -2.998</td> <td> 0.003</td> <td>   -0.153</td> <td>   -0.032</td>\n",
              "</tr>\n",
              "<tr>\n",
              "  <th>sic_category_6000-6799</th> <td>   -0.0477</td> <td>    0.023</td> <td>   -2.077</td> <td> 0.038</td> <td>   -0.093</td> <td>   -0.003</td>\n",
              "</tr>\n",
              "<tr>\n",
              "  <th>sic_category_7000-8999</th> <td>    0.0379</td> <td>    0.025</td> <td>    1.533</td> <td> 0.125</td> <td>   -0.011</td> <td>    0.086</td>\n",
              "</tr>\n",
              "<tr>\n",
              "  <th>sic_category_9900-9999</th> <td>    0.0042</td> <td>    0.160</td> <td>    0.026</td> <td> 0.979</td> <td>   -0.309</td> <td>    0.318</td>\n",
              "</tr>\n",
              "<tr>\n",
              "  <th>Price/Book</th>             <td>    0.0027</td> <td>    0.001</td> <td>    4.105</td> <td> 0.000</td> <td>    0.001</td> <td>    0.004</td>\n",
              "</tr>\n",
              "<tr>\n",
              "  <th>P/E</th>                    <td>    0.0001</td> <td> 7.48e-05</td> <td>    1.612</td> <td> 0.107</td> <td>-2.61e-05</td> <td>    0.000</td>\n",
              "</tr>\n",
              "<tr>\n",
              "  <th>P/EBIT</th>                 <td>-1.179e-05</td> <td>    0.000</td> <td>   -0.113</td> <td> 0.910</td> <td>   -0.000</td> <td>    0.000</td>\n",
              "</tr>\n",
              "<tr>\n",
              "  <th>P/SALES</th>                <td>    0.0003</td> <td>    0.000</td> <td>    2.628</td> <td> 0.009</td> <td> 7.38e-05</td> <td>    0.001</td>\n",
              "</tr>\n",
              "</table>\n",
              "<table class=\"simpletable\">\n",
              "<tr>\n",
              "  <th>Omnibus:</th>       <td>4075.102</td> <th>  Durbin-Watson:     </th>  <td>   1.939</td>  \n",
              "</tr>\n",
              "<tr>\n",
              "  <th>Prob(Omnibus):</th>  <td> 0.000</td>  <th>  Jarque-Bera (JB):  </th> <td>4184435.107</td>\n",
              "</tr>\n",
              "<tr>\n",
              "  <th>Skew:</th>           <td> 9.524</td>  <th>  Prob(JB):          </th>  <td>    0.00</td>  \n",
              "</tr>\n",
              "<tr>\n",
              "  <th>Kurtosis:</th>       <td>198.647</td> <th>  Cond. No.          </th>  <td>1.33e+17</td>  \n",
              "</tr>\n",
              "</table><br/><br/>Warnings:<br/>[1] Standard Errors assume that the covariance matrix of the errors is correctly specified.<br/>[2] The smallest eigenvalue is 1.09e-27. This might indicate that there are<br/>strong multicollinearity problems or that the design matrix is singular."
            ],
            "text/plain": [
              "<class 'statsmodels.iolib.summary.Summary'>\n",
              "\"\"\"\n",
              "                            OLS Regression Results                            \n",
              "==============================================================================\n",
              "Dep. Variable:        ReturnEarly2020   R-squared:                       0.066\n",
              "Model:                            OLS   Adj. R-squared:                  0.062\n",
              "Method:                 Least Squares   F-statistic:                     14.11\n",
              "Date:                Wed, 07 Jul 2021   Prob (F-statistic):           5.25e-31\n",
              "Time:                        05:26:26   Log-Likelihood:                -583.33\n",
              "No. Observations:                2599   AIC:                             1195.\n",
              "Df Residuals:                    2585   BIC:                             1277.\n",
              "Df Model:                          13                                         \n",
              "Covariance Type:            nonrobust                                         \n",
              "==========================================================================================\n",
              "                             coef    std err          t      P>|t|      [0.025      0.975]\n",
              "------------------------------------------------------------------------------------------\n",
              "const                     -0.3040      0.021    -14.789      0.000      -0.344      -0.264\n",
              "sic_category_0100-0999     0.1124      0.106      1.062      0.288      -0.095       0.320\n",
              "sic_category_1000-1499    -0.3149      0.038     -8.260      0.000      -0.390      -0.240\n",
              "sic_category_1500-1799    -0.0633      0.049     -1.290      0.197      -0.159       0.033\n",
              "sic_category_2000-3999     0.0354      0.022      1.581      0.114      -0.009       0.079\n",
              "sic_category_4000-4999     0.0447      0.028      1.592      0.112      -0.010       0.100\n",
              "sic_category_5000-5199    -0.0203      0.040     -0.514      0.607      -0.098       0.057\n",
              "sic_category_5200-5999    -0.0924      0.031     -2.998      0.003      -0.153      -0.032\n",
              "sic_category_6000-6799    -0.0477      0.023     -2.077      0.038      -0.093      -0.003\n",
              "sic_category_7000-8999     0.0379      0.025      1.533      0.125      -0.011       0.086\n",
              "sic_category_9900-9999     0.0042      0.160      0.026      0.979      -0.309       0.318\n",
              "Price/Book                 0.0027      0.001      4.105      0.000       0.001       0.004\n",
              "P/E                        0.0001   7.48e-05      1.612      0.107   -2.61e-05       0.000\n",
              "P/EBIT                 -1.179e-05      0.000     -0.113      0.910      -0.000       0.000\n",
              "P/SALES                    0.0003      0.000      2.628      0.009    7.38e-05       0.001\n",
              "==============================================================================\n",
              "Omnibus:                     4075.102   Durbin-Watson:                   1.939\n",
              "Prob(Omnibus):                  0.000   Jarque-Bera (JB):          4184435.107\n",
              "Skew:                           9.524   Prob(JB):                         0.00\n",
              "Kurtosis:                     198.647   Cond. No.                     1.33e+17\n",
              "==============================================================================\n",
              "\n",
              "Warnings:\n",
              "[1] Standard Errors assume that the covariance matrix of the errors is correctly specified.\n",
              "[2] The smallest eigenvalue is 1.09e-27. This might indicate that there are\n",
              "strong multicollinearity problems or that the design matrix is singular.\n",
              "\"\"\""
            ]
          },
          "metadata": {
            "tags": []
          },
          "execution_count": 24
        }
      ]
    },
    {
      "cell_type": "markdown",
      "metadata": {
        "id": "Q0_1_lZPZfhS"
      },
      "source": [
        "After combining four industry ratios, the adjusted R square increased slightly, from 0.051 to 0.062. So explanatory power of regression on ReturnEarly2020 only increased 0.11. \n",
        "\n",
        "Apart from that, It worth noting that, only P/E and P/EBIT ratios are statistically insignificant, the p-value of which is 0.107 and 0.91. \n",
        "\n",
        "The P-value of Price/Book and P/Sales are 0.000 and 0.009 respectively. The stock return in early 2020 would increase 0.0027 when price/book ratio increase by 1, and the stock return in early 2020 would increase 0.0003 when price/book ratio increase by 1"
      ]
    },
    {
      "cell_type": "markdown",
      "metadata": {
        "id": "_-n9QTBp8KxD"
      },
      "source": [
        "### Late2020"
      ]
    },
    {
      "cell_type": "code",
      "metadata": {
        "colab": {
          "base_uri": "https://localhost:8080/",
          "height": 751
        },
        "id": "NGgykfdL8L8J",
        "outputId": "c37c3eb6-ae1e-418d-e361-50294329d845"
      },
      "source": [
        "# define x as a subset of original dataframe\n",
        "x = df_sic_ratio.loc[:,~df_sic_ratio.columns.str.contains('Return')]\n",
        "# define y as a series\n",
        "y = df_sic_ratio['ReturnLate2020']\n",
        "# Add a constant\n",
        "x = sm.add_constant(x)\n",
        "# pass x as a dataframe, while pass y as a series\n",
        "sm.OLS(y, x).fit().summary()"
      ],
      "execution_count": 25,
      "outputs": [
        {
          "output_type": "execute_result",
          "data": {
            "text/html": [
              "<table class=\"simpletable\">\n",
              "<caption>OLS Regression Results</caption>\n",
              "<tr>\n",
              "  <th>Dep. Variable:</th>     <td>ReturnLate2020</td>  <th>  R-squared:         </th> <td>   0.078</td>\n",
              "</tr>\n",
              "<tr>\n",
              "  <th>Model:</th>                   <td>OLS</td>       <th>  Adj. R-squared:    </th> <td>   0.073</td>\n",
              "</tr>\n",
              "<tr>\n",
              "  <th>Method:</th>             <td>Least Squares</td>  <th>  F-statistic:       </th> <td>   16.84</td>\n",
              "</tr>\n",
              "<tr>\n",
              "  <th>Date:</th>             <td>Wed, 07 Jul 2021</td> <th>  Prob (F-statistic):</th> <td>8.94e-38</td>\n",
              "</tr>\n",
              "<tr>\n",
              "  <th>Time:</th>                 <td>05:28:13</td>     <th>  Log-Likelihood:    </th> <td> -3768.1</td>\n",
              "</tr>\n",
              "<tr>\n",
              "  <th>No. Observations:</th>      <td>  2599</td>      <th>  AIC:               </th> <td>   7564.</td>\n",
              "</tr>\n",
              "<tr>\n",
              "  <th>Df Residuals:</th>          <td>  2585</td>      <th>  BIC:               </th> <td>   7646.</td>\n",
              "</tr>\n",
              "<tr>\n",
              "  <th>Df Model:</th>              <td>    13</td>      <th>                     </th>     <td> </td>   \n",
              "</tr>\n",
              "<tr>\n",
              "  <th>Covariance Type:</th>      <td>nonrobust</td>    <th>                     </th>     <td> </td>   \n",
              "</tr>\n",
              "</table>\n",
              "<table class=\"simpletable\">\n",
              "<tr>\n",
              "             <td></td>               <th>coef</th>     <th>std err</th>      <th>t</th>      <th>P>|t|</th>  <th>[0.025</th>    <th>0.975]</th>  \n",
              "</tr>\n",
              "<tr>\n",
              "  <th>const</th>                  <td>    0.7411</td> <td>    0.070</td> <td>   10.586</td> <td> 0.000</td> <td>    0.604</td> <td>    0.878</td>\n",
              "</tr>\n",
              "<tr>\n",
              "  <th>sic_category_0100-0999</th> <td>   -0.5661</td> <td>    0.360</td> <td>   -1.571</td> <td> 0.116</td> <td>   -1.273</td> <td>    0.141</td>\n",
              "</tr>\n",
              "<tr>\n",
              "  <th>sic_category_1000-1499</th> <td>    0.5130</td> <td>    0.130</td> <td>    3.952</td> <td> 0.000</td> <td>    0.258</td> <td>    0.767</td>\n",
              "</tr>\n",
              "<tr>\n",
              "  <th>sic_category_1500-1799</th> <td>    0.3911</td> <td>    0.167</td> <td>    2.342</td> <td> 0.019</td> <td>    0.064</td> <td>    0.719</td>\n",
              "</tr>\n",
              "<tr>\n",
              "  <th>sic_category_2000-3999</th> <td>    0.1735</td> <td>    0.076</td> <td>    2.277</td> <td> 0.023</td> <td>    0.024</td> <td>    0.323</td>\n",
              "</tr>\n",
              "<tr>\n",
              "  <th>sic_category_4000-4999</th> <td>   -0.2663</td> <td>    0.096</td> <td>   -2.785</td> <td> 0.005</td> <td>   -0.454</td> <td>   -0.079</td>\n",
              "</tr>\n",
              "<tr>\n",
              "  <th>sic_category_5000-5199</th> <td>    0.0381</td> <td>    0.135</td> <td>    0.283</td> <td> 0.777</td> <td>   -0.226</td> <td>    0.302</td>\n",
              "</tr>\n",
              "<tr>\n",
              "  <th>sic_category_5200-5999</th> <td>    0.8043</td> <td>    0.105</td> <td>    7.664</td> <td> 0.000</td> <td>    0.599</td> <td>    1.010</td>\n",
              "</tr>\n",
              "<tr>\n",
              "  <th>sic_category_6000-6799</th> <td>   -0.2250</td> <td>    0.078</td> <td>   -2.876</td> <td> 0.004</td> <td>   -0.378</td> <td>   -0.072</td>\n",
              "</tr>\n",
              "<tr>\n",
              "  <th>sic_category_7000-8999</th> <td>    0.2347</td> <td>    0.084</td> <td>    2.787</td> <td> 0.005</td> <td>    0.070</td> <td>    0.400</td>\n",
              "</tr>\n",
              "<tr>\n",
              "  <th>sic_category_9900-9999</th> <td>   -0.3561</td> <td>    0.545</td> <td>   -0.654</td> <td> 0.513</td> <td>   -1.424</td> <td>    0.712</td>\n",
              "</tr>\n",
              "<tr>\n",
              "  <th>Price/Book</th>             <td>    0.0002</td> <td>    0.002</td> <td>    0.073</td> <td> 0.942</td> <td>   -0.004</td> <td>    0.005</td>\n",
              "</tr>\n",
              "<tr>\n",
              "  <th>P/E</th>                    <td>   -0.0007</td> <td>    0.000</td> <td>   -2.634</td> <td> 0.008</td> <td>   -0.001</td> <td>   -0.000</td>\n",
              "</tr>\n",
              "<tr>\n",
              "  <th>P/EBIT</th>                 <td>   -0.0011</td> <td>    0.000</td> <td>   -3.201</td> <td> 0.001</td> <td>   -0.002</td> <td>   -0.000</td>\n",
              "</tr>\n",
              "<tr>\n",
              "  <th>P/SALES</th>                <td>    0.0005</td> <td>    0.000</td> <td>    1.441</td> <td> 0.150</td> <td>   -0.000</td> <td>    0.001</td>\n",
              "</tr>\n",
              "</table>\n",
              "<table class=\"simpletable\">\n",
              "<tr>\n",
              "  <th>Omnibus:</th>       <td>2880.247</td> <th>  Durbin-Watson:     </th>  <td>   1.925</td> \n",
              "</tr>\n",
              "<tr>\n",
              "  <th>Prob(Omnibus):</th>  <td> 0.000</td>  <th>  Jarque-Bera (JB):  </th> <td>380172.970</td>\n",
              "</tr>\n",
              "<tr>\n",
              "  <th>Skew:</th>           <td> 5.416</td>  <th>  Prob(JB):          </th>  <td>    0.00</td> \n",
              "</tr>\n",
              "<tr>\n",
              "  <th>Kurtosis:</th>       <td>61.252</td>  <th>  Cond. No.          </th>  <td>1.33e+17</td> \n",
              "</tr>\n",
              "</table><br/><br/>Warnings:<br/>[1] Standard Errors assume that the covariance matrix of the errors is correctly specified.<br/>[2] The smallest eigenvalue is 1.09e-27. This might indicate that there are<br/>strong multicollinearity problems or that the design matrix is singular."
            ],
            "text/plain": [
              "<class 'statsmodels.iolib.summary.Summary'>\n",
              "\"\"\"\n",
              "                            OLS Regression Results                            \n",
              "==============================================================================\n",
              "Dep. Variable:         ReturnLate2020   R-squared:                       0.078\n",
              "Model:                            OLS   Adj. R-squared:                  0.073\n",
              "Method:                 Least Squares   F-statistic:                     16.84\n",
              "Date:                Wed, 07 Jul 2021   Prob (F-statistic):           8.94e-38\n",
              "Time:                        05:28:13   Log-Likelihood:                -3768.1\n",
              "No. Observations:                2599   AIC:                             7564.\n",
              "Df Residuals:                    2585   BIC:                             7646.\n",
              "Df Model:                          13                                         \n",
              "Covariance Type:            nonrobust                                         \n",
              "==========================================================================================\n",
              "                             coef    std err          t      P>|t|      [0.025      0.975]\n",
              "------------------------------------------------------------------------------------------\n",
              "const                      0.7411      0.070     10.586      0.000       0.604       0.878\n",
              "sic_category_0100-0999    -0.5661      0.360     -1.571      0.116      -1.273       0.141\n",
              "sic_category_1000-1499     0.5130      0.130      3.952      0.000       0.258       0.767\n",
              "sic_category_1500-1799     0.3911      0.167      2.342      0.019       0.064       0.719\n",
              "sic_category_2000-3999     0.1735      0.076      2.277      0.023       0.024       0.323\n",
              "sic_category_4000-4999    -0.2663      0.096     -2.785      0.005      -0.454      -0.079\n",
              "sic_category_5000-5199     0.0381      0.135      0.283      0.777      -0.226       0.302\n",
              "sic_category_5200-5999     0.8043      0.105      7.664      0.000       0.599       1.010\n",
              "sic_category_6000-6799    -0.2250      0.078     -2.876      0.004      -0.378      -0.072\n",
              "sic_category_7000-8999     0.2347      0.084      2.787      0.005       0.070       0.400\n",
              "sic_category_9900-9999    -0.3561      0.545     -0.654      0.513      -1.424       0.712\n",
              "Price/Book                 0.0002      0.002      0.073      0.942      -0.004       0.005\n",
              "P/E                       -0.0007      0.000     -2.634      0.008      -0.001      -0.000\n",
              "P/EBIT                    -0.0011      0.000     -3.201      0.001      -0.002      -0.000\n",
              "P/SALES                    0.0005      0.000      1.441      0.150      -0.000       0.001\n",
              "==============================================================================\n",
              "Omnibus:                     2880.247   Durbin-Watson:                   1.925\n",
              "Prob(Omnibus):                  0.000   Jarque-Bera (JB):           380172.970\n",
              "Skew:                           5.416   Prob(JB):                         0.00\n",
              "Kurtosis:                      61.252   Cond. No.                     1.33e+17\n",
              "==============================================================================\n",
              "\n",
              "Warnings:\n",
              "[1] Standard Errors assume that the covariance matrix of the errors is correctly specified.\n",
              "[2] The smallest eigenvalue is 1.09e-27. This might indicate that there are\n",
              "strong multicollinearity problems or that the design matrix is singular.\n",
              "\"\"\""
            ]
          },
          "metadata": {
            "tags": []
          },
          "execution_count": 25
        }
      ]
    },
    {
      "cell_type": "markdown",
      "metadata": {
        "id": "3Lk-RAzrZggZ"
      },
      "source": [
        "After combining four industry ratios, the adjusted R square increased from 0.064 to 0.073. So the explanatory power of regression on ReturnLate2020 increased slightly. \n",
        "\n",
        "Apart from that, p-value of price/book and P/Sales are 0.092 and 0.150 respectively , which is not statistically significant.\n",
        "\n",
        "The p-value of P/E ratio is 0.008, which is statistically significant, if stock return in late 2020 decreased by 0.0007, P/E ratio would incread by 1. \n",
        "\n",
        "P-value of P/EBIT is 0.001, which is statistically significant, if stock return in late 2020 decreased by 0.0011, P/EBIT ratio would incread by 1.  "
      ]
    },
    {
      "cell_type": "markdown",
      "metadata": {
        "id": "iF1aW2w98TF7"
      },
      "source": [
        "# **NAICS Analysis**"
      ]
    },
    {
      "cell_type": "code",
      "metadata": {
        "colab": {
          "base_uri": "https://localhost:8080/",
          "height": 204
        },
        "id": "eZmPpXJzb-4j",
        "outputId": "53c2b5f6-49e2-4273-9135-8d4498a1fbb1"
      },
      "source": [
        "df_naics = df[['tic','naics','ReturnEarly2020','ReturnLate2020']]\n",
        "df_naics.head()"
      ],
      "execution_count": 64,
      "outputs": [
        {
          "output_type": "execute_result",
          "data": {
            "text/html": [
              "<div>\n",
              "<style scoped>\n",
              "    .dataframe tbody tr th:only-of-type {\n",
              "        vertical-align: middle;\n",
              "    }\n",
              "\n",
              "    .dataframe tbody tr th {\n",
              "        vertical-align: top;\n",
              "    }\n",
              "\n",
              "    .dataframe thead th {\n",
              "        text-align: right;\n",
              "    }\n",
              "</style>\n",
              "<table border=\"1\" class=\"dataframe\">\n",
              "  <thead>\n",
              "    <tr style=\"text-align: right;\">\n",
              "      <th></th>\n",
              "      <th>tic</th>\n",
              "      <th>naics</th>\n",
              "      <th>ReturnEarly2020</th>\n",
              "      <th>ReturnLate2020</th>\n",
              "    </tr>\n",
              "  </thead>\n",
              "  <tbody>\n",
              "    <tr>\n",
              "      <th>0</th>\n",
              "      <td>AIR</td>\n",
              "      <td>423860</td>\n",
              "      <td>-0.603849</td>\n",
              "      <td>1.039410</td>\n",
              "    </tr>\n",
              "    <tr>\n",
              "      <th>1</th>\n",
              "      <td>AAL</td>\n",
              "      <td>481111</td>\n",
              "      <td>-0.572734</td>\n",
              "      <td>0.293682</td>\n",
              "    </tr>\n",
              "    <tr>\n",
              "      <th>2</th>\n",
              "      <td>CECE</td>\n",
              "      <td>333413</td>\n",
              "      <td>-0.390339</td>\n",
              "      <td>0.490365</td>\n",
              "    </tr>\n",
              "    <tr>\n",
              "      <th>3</th>\n",
              "      <td>PNW</td>\n",
              "      <td>2211</td>\n",
              "      <td>-0.150483</td>\n",
              "      <td>0.086464</td>\n",
              "    </tr>\n",
              "    <tr>\n",
              "      <th>4</th>\n",
              "      <td>ABT</td>\n",
              "      <td>334510</td>\n",
              "      <td>-0.087773</td>\n",
              "      <td>0.402724</td>\n",
              "    </tr>\n",
              "  </tbody>\n",
              "</table>\n",
              "</div>"
            ],
            "text/plain": [
              "    tic   naics  ReturnEarly2020  ReturnLate2020\n",
              "0   AIR  423860        -0.603849        1.039410\n",
              "1   AAL  481111        -0.572734        0.293682\n",
              "2  CECE  333413        -0.390339        0.490365\n",
              "3   PNW    2211        -0.150483        0.086464\n",
              "4   ABT  334510        -0.087773        0.402724"
            ]
          },
          "metadata": {
            "tags": []
          },
          "execution_count": 64
        }
      ]
    },
    {
      "cell_type": "code",
      "metadata": {
        "colab": {
          "base_uri": "https://localhost:8080/",
          "height": 0
        },
        "id": "5HwqWOqoNu4w",
        "outputId": "a95f439b-702c-42e2-e284-cd2399067e20"
      },
      "source": [
        "# The naics is integer type, we need to convert it into string, which could help us to categorize industries.\n",
        "df_naics[\"naics\"] = df_naics[\"naics\"].astype(str)"
      ],
      "execution_count": 65,
      "outputs": [
        {
          "output_type": "stream",
          "text": [
            "/usr/local/lib/python3.7/dist-packages/ipykernel_launcher.py:2: SettingWithCopyWarning: \n",
            "A value is trying to be set on a copy of a slice from a DataFrame.\n",
            "Try using .loc[row_indexer,col_indexer] = value instead\n",
            "\n",
            "See the caveats in the documentation: https://pandas.pydata.org/pandas-docs/stable/user_guide/indexing.html#returning-a-view-versus-a-copy\n",
            "  \n"
          ],
          "name": "stderr"
        }
      ]
    },
    {
      "cell_type": "code",
      "metadata": {
        "colab": {
          "base_uri": "https://localhost:8080/",
          "height": 0
        },
        "id": "YlNeiZ7RcMIM",
        "outputId": "622d4a52-5a10-4592-c2a5-ac86c8ea7a1c"
      },
      "source": [
        "# Create the column that only contain the category code\n",
        "cate = []\n",
        "for i in df_naics['naics']:\n",
        "  cate.append(i[0:2])\n",
        "df_naics['naics_cate'] = cate"
      ],
      "execution_count": 66,
      "outputs": [
        {
          "output_type": "stream",
          "text": [
            "/usr/local/lib/python3.7/dist-packages/ipykernel_launcher.py:5: SettingWithCopyWarning: \n",
            "A value is trying to be set on a copy of a slice from a DataFrame.\n",
            "Try using .loc[row_indexer,col_indexer] = value instead\n",
            "\n",
            "See the caveats in the documentation: https://pandas.pydata.org/pandas-docs/stable/user_guide/indexing.html#returning-a-view-versus-a-copy\n",
            "  \"\"\"\n"
          ],
          "name": "stderr"
        }
      ]
    },
    {
      "cell_type": "code",
      "metadata": {
        "colab": {
          "base_uri": "https://localhost:8080/",
          "height": 204
        },
        "id": "zqDZQTZYg_i9",
        "outputId": "d57dab27-3dba-49db-8e45-9baeced33995"
      },
      "source": [
        "df_naics.head()"
      ],
      "execution_count": 67,
      "outputs": [
        {
          "output_type": "execute_result",
          "data": {
            "text/html": [
              "<div>\n",
              "<style scoped>\n",
              "    .dataframe tbody tr th:only-of-type {\n",
              "        vertical-align: middle;\n",
              "    }\n",
              "\n",
              "    .dataframe tbody tr th {\n",
              "        vertical-align: top;\n",
              "    }\n",
              "\n",
              "    .dataframe thead th {\n",
              "        text-align: right;\n",
              "    }\n",
              "</style>\n",
              "<table border=\"1\" class=\"dataframe\">\n",
              "  <thead>\n",
              "    <tr style=\"text-align: right;\">\n",
              "      <th></th>\n",
              "      <th>tic</th>\n",
              "      <th>naics</th>\n",
              "      <th>ReturnEarly2020</th>\n",
              "      <th>ReturnLate2020</th>\n",
              "      <th>naics_cate</th>\n",
              "    </tr>\n",
              "  </thead>\n",
              "  <tbody>\n",
              "    <tr>\n",
              "      <th>0</th>\n",
              "      <td>AIR</td>\n",
              "      <td>423860</td>\n",
              "      <td>-0.603849</td>\n",
              "      <td>1.039410</td>\n",
              "      <td>42</td>\n",
              "    </tr>\n",
              "    <tr>\n",
              "      <th>1</th>\n",
              "      <td>AAL</td>\n",
              "      <td>481111</td>\n",
              "      <td>-0.572734</td>\n",
              "      <td>0.293682</td>\n",
              "      <td>48</td>\n",
              "    </tr>\n",
              "    <tr>\n",
              "      <th>2</th>\n",
              "      <td>CECE</td>\n",
              "      <td>333413</td>\n",
              "      <td>-0.390339</td>\n",
              "      <td>0.490365</td>\n",
              "      <td>33</td>\n",
              "    </tr>\n",
              "    <tr>\n",
              "      <th>3</th>\n",
              "      <td>PNW</td>\n",
              "      <td>2211</td>\n",
              "      <td>-0.150483</td>\n",
              "      <td>0.086464</td>\n",
              "      <td>22</td>\n",
              "    </tr>\n",
              "    <tr>\n",
              "      <th>4</th>\n",
              "      <td>ABT</td>\n",
              "      <td>334510</td>\n",
              "      <td>-0.087773</td>\n",
              "      <td>0.402724</td>\n",
              "      <td>33</td>\n",
              "    </tr>\n",
              "  </tbody>\n",
              "</table>\n",
              "</div>"
            ],
            "text/plain": [
              "    tic   naics  ReturnEarly2020  ReturnLate2020 naics_cate\n",
              "0   AIR  423860        -0.603849        1.039410         42\n",
              "1   AAL  481111        -0.572734        0.293682         48\n",
              "2  CECE  333413        -0.390339        0.490365         33\n",
              "3   PNW    2211        -0.150483        0.086464         22\n",
              "4   ABT  334510        -0.087773        0.402724         33"
            ]
          },
          "metadata": {
            "tags": []
          },
          "execution_count": 67
        }
      ]
    },
    {
      "cell_type": "code",
      "metadata": {
        "colab": {
          "base_uri": "https://localhost:8080/",
          "height": 326
        },
        "id": "gBccJw5MgafZ",
        "outputId": "825ab805-0629-486b-d1f2-47c5903737d2"
      },
      "source": [
        "# some industry contains several codes together, so we need to figure out\n",
        "df_naics.loc[df_naics.naics_cate=='31','naics_cate'] = '31-33'\n",
        "df_naics.loc[df_naics.naics_cate=='32','naics_cate'] = '31-33'\n",
        "df_naics.loc[df_naics.naics_cate=='33','naics_cate'] = '31-33'\n",
        "df_naics.loc[df_naics.naics_cate=='44','naics_cate'] = '44-45'\n",
        "df_naics.loc[df_naics.naics_cate=='45','naics_cate'] = '44-45'\n",
        "df_naics.loc[df_naics.naics_cate=='48','naics_cate'] = '48-49'\n",
        "df_naics.loc[df_naics.naics_cate=='49','naics_cate'] = '48-49'\n",
        "df_naics.head()"
      ],
      "execution_count": 68,
      "outputs": [
        {
          "output_type": "stream",
          "text": [
            "/usr/local/lib/python3.7/dist-packages/pandas/core/indexing.py:1763: SettingWithCopyWarning: \n",
            "A value is trying to be set on a copy of a slice from a DataFrame.\n",
            "Try using .loc[row_indexer,col_indexer] = value instead\n",
            "\n",
            "See the caveats in the documentation: https://pandas.pydata.org/pandas-docs/stable/user_guide/indexing.html#returning-a-view-versus-a-copy\n",
            "  isetter(loc, value)\n"
          ],
          "name": "stderr"
        },
        {
          "output_type": "execute_result",
          "data": {
            "text/html": [
              "<div>\n",
              "<style scoped>\n",
              "    .dataframe tbody tr th:only-of-type {\n",
              "        vertical-align: middle;\n",
              "    }\n",
              "\n",
              "    .dataframe tbody tr th {\n",
              "        vertical-align: top;\n",
              "    }\n",
              "\n",
              "    .dataframe thead th {\n",
              "        text-align: right;\n",
              "    }\n",
              "</style>\n",
              "<table border=\"1\" class=\"dataframe\">\n",
              "  <thead>\n",
              "    <tr style=\"text-align: right;\">\n",
              "      <th></th>\n",
              "      <th>tic</th>\n",
              "      <th>naics</th>\n",
              "      <th>ReturnEarly2020</th>\n",
              "      <th>ReturnLate2020</th>\n",
              "      <th>naics_cate</th>\n",
              "    </tr>\n",
              "  </thead>\n",
              "  <tbody>\n",
              "    <tr>\n",
              "      <th>0</th>\n",
              "      <td>AIR</td>\n",
              "      <td>423860</td>\n",
              "      <td>-0.603849</td>\n",
              "      <td>1.039410</td>\n",
              "      <td>42</td>\n",
              "    </tr>\n",
              "    <tr>\n",
              "      <th>1</th>\n",
              "      <td>AAL</td>\n",
              "      <td>481111</td>\n",
              "      <td>-0.572734</td>\n",
              "      <td>0.293682</td>\n",
              "      <td>48-49</td>\n",
              "    </tr>\n",
              "    <tr>\n",
              "      <th>2</th>\n",
              "      <td>CECE</td>\n",
              "      <td>333413</td>\n",
              "      <td>-0.390339</td>\n",
              "      <td>0.490365</td>\n",
              "      <td>31-33</td>\n",
              "    </tr>\n",
              "    <tr>\n",
              "      <th>3</th>\n",
              "      <td>PNW</td>\n",
              "      <td>2211</td>\n",
              "      <td>-0.150483</td>\n",
              "      <td>0.086464</td>\n",
              "      <td>22</td>\n",
              "    </tr>\n",
              "    <tr>\n",
              "      <th>4</th>\n",
              "      <td>ABT</td>\n",
              "      <td>334510</td>\n",
              "      <td>-0.087773</td>\n",
              "      <td>0.402724</td>\n",
              "      <td>31-33</td>\n",
              "    </tr>\n",
              "  </tbody>\n",
              "</table>\n",
              "</div>"
            ],
            "text/plain": [
              "    tic   naics  ReturnEarly2020  ReturnLate2020 naics_cate\n",
              "0   AIR  423860        -0.603849        1.039410         42\n",
              "1   AAL  481111        -0.572734        0.293682      48-49\n",
              "2  CECE  333413        -0.390339        0.490365      31-33\n",
              "3   PNW    2211        -0.150483        0.086464         22\n",
              "4   ABT  334510        -0.087773        0.402724      31-33"
            ]
          },
          "metadata": {
            "tags": []
          },
          "execution_count": 68
        }
      ]
    },
    {
      "cell_type": "code",
      "metadata": {
        "colab": {
          "base_uri": "https://localhost:8080/",
          "height": 326
        },
        "id": "bjNMeYIwEYWj",
        "outputId": "1d6a915b-2947-45ce-befc-4a93a85128b8"
      },
      "source": [
        "df_naics.drop(columns='naics',inplace=True)\n",
        "# Get dummies of naics\n",
        "df_naics = pd.get_dummies(df_naics, columns=['naics_cate'])\n",
        "df_naics.head()"
      ],
      "execution_count": 69,
      "outputs": [
        {
          "output_type": "stream",
          "text": [
            "/usr/local/lib/python3.7/dist-packages/pandas/core/frame.py:4174: SettingWithCopyWarning: \n",
            "A value is trying to be set on a copy of a slice from a DataFrame\n",
            "\n",
            "See the caveats in the documentation: https://pandas.pydata.org/pandas-docs/stable/user_guide/indexing.html#returning-a-view-versus-a-copy\n",
            "  errors=errors,\n"
          ],
          "name": "stderr"
        },
        {
          "output_type": "execute_result",
          "data": {
            "text/html": [
              "<div>\n",
              "<style scoped>\n",
              "    .dataframe tbody tr th:only-of-type {\n",
              "        vertical-align: middle;\n",
              "    }\n",
              "\n",
              "    .dataframe tbody tr th {\n",
              "        vertical-align: top;\n",
              "    }\n",
              "\n",
              "    .dataframe thead th {\n",
              "        text-align: right;\n",
              "    }\n",
              "</style>\n",
              "<table border=\"1\" class=\"dataframe\">\n",
              "  <thead>\n",
              "    <tr style=\"text-align: right;\">\n",
              "      <th></th>\n",
              "      <th>tic</th>\n",
              "      <th>ReturnEarly2020</th>\n",
              "      <th>ReturnLate2020</th>\n",
              "      <th>naics_cate_11</th>\n",
              "      <th>naics_cate_21</th>\n",
              "      <th>naics_cate_22</th>\n",
              "      <th>naics_cate_23</th>\n",
              "      <th>naics_cate_31-33</th>\n",
              "      <th>naics_cate_42</th>\n",
              "      <th>naics_cate_44-45</th>\n",
              "      <th>naics_cate_48-49</th>\n",
              "      <th>naics_cate_51</th>\n",
              "      <th>naics_cate_52</th>\n",
              "      <th>naics_cate_53</th>\n",
              "      <th>naics_cate_54</th>\n",
              "      <th>naics_cate_56</th>\n",
              "      <th>naics_cate_61</th>\n",
              "      <th>naics_cate_62</th>\n",
              "      <th>naics_cate_71</th>\n",
              "      <th>naics_cate_72</th>\n",
              "      <th>naics_cate_81</th>\n",
              "      <th>naics_cate_99</th>\n",
              "    </tr>\n",
              "  </thead>\n",
              "  <tbody>\n",
              "    <tr>\n",
              "      <th>0</th>\n",
              "      <td>AIR</td>\n",
              "      <td>-0.603849</td>\n",
              "      <td>1.039410</td>\n",
              "      <td>0</td>\n",
              "      <td>0</td>\n",
              "      <td>0</td>\n",
              "      <td>0</td>\n",
              "      <td>0</td>\n",
              "      <td>1</td>\n",
              "      <td>0</td>\n",
              "      <td>0</td>\n",
              "      <td>0</td>\n",
              "      <td>0</td>\n",
              "      <td>0</td>\n",
              "      <td>0</td>\n",
              "      <td>0</td>\n",
              "      <td>0</td>\n",
              "      <td>0</td>\n",
              "      <td>0</td>\n",
              "      <td>0</td>\n",
              "      <td>0</td>\n",
              "      <td>0</td>\n",
              "    </tr>\n",
              "    <tr>\n",
              "      <th>1</th>\n",
              "      <td>AAL</td>\n",
              "      <td>-0.572734</td>\n",
              "      <td>0.293682</td>\n",
              "      <td>0</td>\n",
              "      <td>0</td>\n",
              "      <td>0</td>\n",
              "      <td>0</td>\n",
              "      <td>0</td>\n",
              "      <td>0</td>\n",
              "      <td>0</td>\n",
              "      <td>1</td>\n",
              "      <td>0</td>\n",
              "      <td>0</td>\n",
              "      <td>0</td>\n",
              "      <td>0</td>\n",
              "      <td>0</td>\n",
              "      <td>0</td>\n",
              "      <td>0</td>\n",
              "      <td>0</td>\n",
              "      <td>0</td>\n",
              "      <td>0</td>\n",
              "      <td>0</td>\n",
              "    </tr>\n",
              "    <tr>\n",
              "      <th>2</th>\n",
              "      <td>CECE</td>\n",
              "      <td>-0.390339</td>\n",
              "      <td>0.490365</td>\n",
              "      <td>0</td>\n",
              "      <td>0</td>\n",
              "      <td>0</td>\n",
              "      <td>0</td>\n",
              "      <td>1</td>\n",
              "      <td>0</td>\n",
              "      <td>0</td>\n",
              "      <td>0</td>\n",
              "      <td>0</td>\n",
              "      <td>0</td>\n",
              "      <td>0</td>\n",
              "      <td>0</td>\n",
              "      <td>0</td>\n",
              "      <td>0</td>\n",
              "      <td>0</td>\n",
              "      <td>0</td>\n",
              "      <td>0</td>\n",
              "      <td>0</td>\n",
              "      <td>0</td>\n",
              "    </tr>\n",
              "    <tr>\n",
              "      <th>3</th>\n",
              "      <td>PNW</td>\n",
              "      <td>-0.150483</td>\n",
              "      <td>0.086464</td>\n",
              "      <td>0</td>\n",
              "      <td>0</td>\n",
              "      <td>1</td>\n",
              "      <td>0</td>\n",
              "      <td>0</td>\n",
              "      <td>0</td>\n",
              "      <td>0</td>\n",
              "      <td>0</td>\n",
              "      <td>0</td>\n",
              "      <td>0</td>\n",
              "      <td>0</td>\n",
              "      <td>0</td>\n",
              "      <td>0</td>\n",
              "      <td>0</td>\n",
              "      <td>0</td>\n",
              "      <td>0</td>\n",
              "      <td>0</td>\n",
              "      <td>0</td>\n",
              "      <td>0</td>\n",
              "    </tr>\n",
              "    <tr>\n",
              "      <th>4</th>\n",
              "      <td>ABT</td>\n",
              "      <td>-0.087773</td>\n",
              "      <td>0.402724</td>\n",
              "      <td>0</td>\n",
              "      <td>0</td>\n",
              "      <td>0</td>\n",
              "      <td>0</td>\n",
              "      <td>1</td>\n",
              "      <td>0</td>\n",
              "      <td>0</td>\n",
              "      <td>0</td>\n",
              "      <td>0</td>\n",
              "      <td>0</td>\n",
              "      <td>0</td>\n",
              "      <td>0</td>\n",
              "      <td>0</td>\n",
              "      <td>0</td>\n",
              "      <td>0</td>\n",
              "      <td>0</td>\n",
              "      <td>0</td>\n",
              "      <td>0</td>\n",
              "      <td>0</td>\n",
              "    </tr>\n",
              "  </tbody>\n",
              "</table>\n",
              "</div>"
            ],
            "text/plain": [
              "    tic  ReturnEarly2020  ...  naics_cate_81  naics_cate_99\n",
              "0   AIR        -0.603849  ...              0              0\n",
              "1   AAL        -0.572734  ...              0              0\n",
              "2  CECE        -0.390339  ...              0              0\n",
              "3   PNW        -0.150483  ...              0              0\n",
              "4   ABT        -0.087773  ...              0              0\n",
              "\n",
              "[5 rows x 22 columns]"
            ]
          },
          "metadata": {
            "tags": []
          },
          "execution_count": 69
        }
      ]
    },
    {
      "cell_type": "code",
      "metadata": {
        "id": "VykqWIH6b-6s"
      },
      "source": [
        "# Create a list of  \n",
        "naics = (df_naics.loc[:,df_naics.columns.str.contains('naics')]).columns.to_list()\n",
        "\n",
        "# Calculate average stock return of each group\n",
        "avg_late_return_4 = []\n",
        "avg_early_return_4 = []\n",
        "b = [0]*len(naics)\n",
        "for i in range(len(b)):\n",
        "  b[i] = df_naics[df_naics[naics[i]] == 1]\n",
        "  avg_late = sum(b[i]['ReturnLate2020'])/b[i].shape[0]\n",
        "  avg_early = sum(b[i]['ReturnEarly2020'])/b[i].shape[0]\n",
        "  avg_late_return_4.append(avg_late)\n",
        "  avg_early_return_4.append(avg_early)"
      ],
      "execution_count": 70,
      "outputs": []
    },
    {
      "cell_type": "code",
      "metadata": {
        "colab": {
          "base_uri": "https://localhost:8080/",
          "height": 638
        },
        "id": "DoXM1VmGdM_5",
        "outputId": "1ca92f27-72d9-4ee2-aaa2-503e4b5cb447"
      },
      "source": [
        "# Put all results into dataframe\n",
        "avg_return_naics = pd.DataFrame(\n",
        "    {'naics': naics,\n",
        "     'avg_late_return': avg_late_return_4,\n",
        "     'avg_early_return': avg_early_return_4\n",
        "    })\n",
        "avg_return_naics"
      ],
      "execution_count": 71,
      "outputs": [
        {
          "output_type": "execute_result",
          "data": {
            "text/html": [
              "<div>\n",
              "<style scoped>\n",
              "    .dataframe tbody tr th:only-of-type {\n",
              "        vertical-align: middle;\n",
              "    }\n",
              "\n",
              "    .dataframe tbody tr th {\n",
              "        vertical-align: top;\n",
              "    }\n",
              "\n",
              "    .dataframe thead th {\n",
              "        text-align: right;\n",
              "    }\n",
              "</style>\n",
              "<table border=\"1\" class=\"dataframe\">\n",
              "  <thead>\n",
              "    <tr style=\"text-align: right;\">\n",
              "      <th></th>\n",
              "      <th>naics</th>\n",
              "      <th>avg_late_return</th>\n",
              "      <th>avg_early_return</th>\n",
              "    </tr>\n",
              "  </thead>\n",
              "  <tbody>\n",
              "    <tr>\n",
              "      <th>0</th>\n",
              "      <td>naics_cate_11</td>\n",
              "      <td>0.123019</td>\n",
              "      <td>-0.158294</td>\n",
              "    </tr>\n",
              "    <tr>\n",
              "      <th>1</th>\n",
              "      <td>naics_cate_21</td>\n",
              "      <td>1.231517</td>\n",
              "      <td>-0.597364</td>\n",
              "    </tr>\n",
              "    <tr>\n",
              "      <th>2</th>\n",
              "      <td>naics_cate_22</td>\n",
              "      <td>0.191994</td>\n",
              "      <td>-0.155907</td>\n",
              "    </tr>\n",
              "    <tr>\n",
              "      <th>3</th>\n",
              "      <td>naics_cate_23</td>\n",
              "      <td>1.090058</td>\n",
              "      <td>-0.371588</td>\n",
              "    </tr>\n",
              "    <tr>\n",
              "      <th>4</th>\n",
              "      <td>naics_cate_31-33</td>\n",
              "      <td>0.890767</td>\n",
              "      <td>-0.245144</td>\n",
              "    </tr>\n",
              "    <tr>\n",
              "      <th>5</th>\n",
              "      <td>naics_cate_42</td>\n",
              "      <td>0.755734</td>\n",
              "      <td>-0.320072</td>\n",
              "    </tr>\n",
              "    <tr>\n",
              "      <th>6</th>\n",
              "      <td>naics_cate_44-45</td>\n",
              "      <td>1.655214</td>\n",
              "      <td>-0.371797</td>\n",
              "    </tr>\n",
              "    <tr>\n",
              "      <th>7</th>\n",
              "      <td>naics_cate_48-49</td>\n",
              "      <td>0.600611</td>\n",
              "      <td>-0.346517</td>\n",
              "    </tr>\n",
              "    <tr>\n",
              "      <th>8</th>\n",
              "      <td>naics_cate_51</td>\n",
              "      <td>0.982884</td>\n",
              "      <td>-0.191845</td>\n",
              "    </tr>\n",
              "    <tr>\n",
              "      <th>9</th>\n",
              "      <td>naics_cate_52</td>\n",
              "      <td>0.494335</td>\n",
              "      <td>-0.346630</td>\n",
              "    </tr>\n",
              "    <tr>\n",
              "      <th>10</th>\n",
              "      <td>naics_cate_53</td>\n",
              "      <td>0.515588</td>\n",
              "      <td>-0.330990</td>\n",
              "    </tr>\n",
              "    <tr>\n",
              "      <th>11</th>\n",
              "      <td>naics_cate_54</td>\n",
              "      <td>0.670019</td>\n",
              "      <td>-0.252519</td>\n",
              "    </tr>\n",
              "    <tr>\n",
              "      <th>12</th>\n",
              "      <td>naics_cate_56</td>\n",
              "      <td>0.642288</td>\n",
              "      <td>-0.318486</td>\n",
              "    </tr>\n",
              "    <tr>\n",
              "      <th>13</th>\n",
              "      <td>naics_cate_61</td>\n",
              "      <td>0.354230</td>\n",
              "      <td>-0.264770</td>\n",
              "    </tr>\n",
              "    <tr>\n",
              "      <th>14</th>\n",
              "      <td>naics_cate_62</td>\n",
              "      <td>1.072065</td>\n",
              "      <td>-0.229430</td>\n",
              "    </tr>\n",
              "    <tr>\n",
              "      <th>15</th>\n",
              "      <td>naics_cate_71</td>\n",
              "      <td>1.456940</td>\n",
              "      <td>-0.468323</td>\n",
              "    </tr>\n",
              "    <tr>\n",
              "      <th>16</th>\n",
              "      <td>naics_cate_72</td>\n",
              "      <td>1.185426</td>\n",
              "      <td>-0.448787</td>\n",
              "    </tr>\n",
              "    <tr>\n",
              "      <th>17</th>\n",
              "      <td>naics_cate_81</td>\n",
              "      <td>0.742218</td>\n",
              "      <td>-0.480759</td>\n",
              "    </tr>\n",
              "    <tr>\n",
              "      <th>18</th>\n",
              "      <td>naics_cate_99</td>\n",
              "      <td>0.222852</td>\n",
              "      <td>-0.312724</td>\n",
              "    </tr>\n",
              "  </tbody>\n",
              "</table>\n",
              "</div>"
            ],
            "text/plain": [
              "               naics  avg_late_return  avg_early_return\n",
              "0      naics_cate_11         0.123019         -0.158294\n",
              "1      naics_cate_21         1.231517         -0.597364\n",
              "2      naics_cate_22         0.191994         -0.155907\n",
              "3      naics_cate_23         1.090058         -0.371588\n",
              "4   naics_cate_31-33         0.890767         -0.245144\n",
              "5      naics_cate_42         0.755734         -0.320072\n",
              "6   naics_cate_44-45         1.655214         -0.371797\n",
              "7   naics_cate_48-49         0.600611         -0.346517\n",
              "8      naics_cate_51         0.982884         -0.191845\n",
              "9      naics_cate_52         0.494335         -0.346630\n",
              "10     naics_cate_53         0.515588         -0.330990\n",
              "11     naics_cate_54         0.670019         -0.252519\n",
              "12     naics_cate_56         0.642288         -0.318486\n",
              "13     naics_cate_61         0.354230         -0.264770\n",
              "14     naics_cate_62         1.072065         -0.229430\n",
              "15     naics_cate_71         1.456940         -0.468323\n",
              "16     naics_cate_72         1.185426         -0.448787\n",
              "17     naics_cate_81         0.742218         -0.480759\n",
              "18     naics_cate_99         0.222852         -0.312724"
            ]
          },
          "metadata": {
            "tags": []
          },
          "execution_count": 71
        }
      ]
    },
    {
      "cell_type": "markdown",
      "metadata": {
        "id": "PQUWSxMxFBUb"
      },
      "source": [
        "### The highest stock return for early 2020"
      ]
    },
    {
      "cell_type": "code",
      "metadata": {
        "colab": {
          "base_uri": "https://localhost:8080/",
          "height": 786
        },
        "id": "gxy5vmc-zyfj",
        "outputId": "36aa7671-40fe-46ab-d95c-df84b7210d4e"
      },
      "source": [
        "sns.set(rc = {'figure.figsize':(10,6)})\n",
        "chart1 = sns.barplot(x='naics',y='avg_early_return',data=avg_return_naics,color='red')\n",
        "chart1.set_xticklabels(chart1.get_xticklabels(), rotation=45)"
      ],
      "execution_count": 72,
      "outputs": [
        {
          "output_type": "execute_result",
          "data": {
            "text/plain": [
              "[Text(0, 0, 'naics_cate_11'),\n",
              " Text(0, 0, 'naics_cate_21'),\n",
              " Text(0, 0, 'naics_cate_22'),\n",
              " Text(0, 0, 'naics_cate_23'),\n",
              " Text(0, 0, 'naics_cate_31-33'),\n",
              " Text(0, 0, 'naics_cate_42'),\n",
              " Text(0, 0, 'naics_cate_44-45'),\n",
              " Text(0, 0, 'naics_cate_48-49'),\n",
              " Text(0, 0, 'naics_cate_51'),\n",
              " Text(0, 0, 'naics_cate_52'),\n",
              " Text(0, 0, 'naics_cate_53'),\n",
              " Text(0, 0, 'naics_cate_54'),\n",
              " Text(0, 0, 'naics_cate_56'),\n",
              " Text(0, 0, 'naics_cate_61'),\n",
              " Text(0, 0, 'naics_cate_62'),\n",
              " Text(0, 0, 'naics_cate_71'),\n",
              " Text(0, 0, 'naics_cate_72'),\n",
              " Text(0, 0, 'naics_cate_81'),\n",
              " Text(0, 0, 'naics_cate_99')]"
            ]
          },
          "metadata": {
            "tags": []
          },
          "execution_count": 72
        },
        {
          "output_type": "display_data",
          "data": {
            "image/png": "[encoded data removed]",
            "text/plain": [
              "<Figure size 720x432 with 1 Axes>"
            ]
          },
          "metadata": {
            "tags": []
          }
        }
      ]
    },
    {
      "cell_type": "code",
      "metadata": {
        "colab": {
          "base_uri": "https://localhost:8080/",
          "height": 782
        },
        "id": "rRc3-72wz6um",
        "outputId": "c6681fcc-abd2-4df1-8071-756e30869e92"
      },
      "source": [
        "sns.set(rc = {'figure.figsize':(10,6)})\n",
        "chart1 = sns.barplot(x='naics',y='avg_late_return',data=avg_return_naics,color='blue')\n",
        "chart1.set_xticklabels(chart1.get_xticklabels(), rotation=45)"
      ],
      "execution_count": 73,
      "outputs": [
        {
          "output_type": "execute_result",
          "data": {
            "text/plain": [
              "[Text(0, 0, 'naics_cate_11'),\n",
              " Text(0, 0, 'naics_cate_21'),\n",
              " Text(0, 0, 'naics_cate_22'),\n",
              " Text(0, 0, 'naics_cate_23'),\n",
              " Text(0, 0, 'naics_cate_31-33'),\n",
              " Text(0, 0, 'naics_cate_42'),\n",
              " Text(0, 0, 'naics_cate_44-45'),\n",
              " Text(0, 0, 'naics_cate_48-49'),\n",
              " Text(0, 0, 'naics_cate_51'),\n",
              " Text(0, 0, 'naics_cate_52'),\n",
              " Text(0, 0, 'naics_cate_53'),\n",
              " Text(0, 0, 'naics_cate_54'),\n",
              " Text(0, 0, 'naics_cate_56'),\n",
              " Text(0, 0, 'naics_cate_61'),\n",
              " Text(0, 0, 'naics_cate_62'),\n",
              " Text(0, 0, 'naics_cate_71'),\n",
              " Text(0, 0, 'naics_cate_72'),\n",
              " Text(0, 0, 'naics_cate_81'),\n",
              " Text(0, 0, 'naics_cate_99')]"
            ]
          },
          "metadata": {
            "tags": []
          },
          "execution_count": 73
        },
        {
          "output_type": "display_data",
          "data": {
            "image/png": "[encoded data removed]",
            "text/plain": [
              "<Figure size 720x432 with 1 Axes>"
            ]
          },
          "metadata": {
            "tags": []
          }
        }
      ]
    },
    {
      "cell_type": "code",
      "metadata": {
        "colab": {
          "base_uri": "https://localhost:8080/",
          "height": 185
        },
        "id": "fe91N4q5FB2X",
        "outputId": "5608e6d6-768e-4c4d-e6ae-faf1e6b8963b"
      },
      "source": [
        "return_high = avg_return4[avg_return4.avg_early_return == avg_return4.avg_early_return.max()]\n",
        "return_high.drop(columns='avg_late_return',inplace=True)\n",
        "return_high"
      ],
      "execution_count": 18,
      "outputs": [
        {
          "output_type": "stream",
          "text": [
            "/usr/local/lib/python3.7/dist-packages/pandas/core/frame.py:4174: SettingWithCopyWarning: \n",
            "A value is trying to be set on a copy of a slice from a DataFrame\n",
            "\n",
            "See the caveats in the documentation: https://pandas.pydata.org/pandas-docs/stable/user_guide/indexing.html#returning-a-view-versus-a-copy\n",
            "  errors=errors,\n"
          ],
          "name": "stderr"
        },
        {
          "output_type": "execute_result",
          "data": {
            "text/html": [
              "<div>\n",
              "<style scoped>\n",
              "    .dataframe tbody tr th:only-of-type {\n",
              "        vertical-align: middle;\n",
              "    }\n",
              "\n",
              "    .dataframe tbody tr th {\n",
              "        vertical-align: top;\n",
              "    }\n",
              "\n",
              "    .dataframe thead th {\n",
              "        text-align: right;\n",
              "    }\n",
              "</style>\n",
              "<table border=\"1\" class=\"dataframe\">\n",
              "  <thead>\n",
              "    <tr style=\"text-align: right;\">\n",
              "      <th></th>\n",
              "      <th>naics</th>\n",
              "      <th>avg_early_return</th>\n",
              "    </tr>\n",
              "  </thead>\n",
              "  <tbody>\n",
              "    <tr>\n",
              "      <th>2</th>\n",
              "      <td>naics_cate_22</td>\n",
              "      <td>-0.155907</td>\n",
              "    </tr>\n",
              "  </tbody>\n",
              "</table>\n",
              "</div>"
            ],
            "text/plain": [
              "           naics  avg_early_return\n",
              "2  naics_cate_22         -0.155907"
            ]
          },
          "metadata": {
            "tags": []
          },
          "execution_count": 18
        }
      ]
    },
    {
      "cell_type": "markdown",
      "metadata": {
        "id": "1z6go0bKeDxA"
      },
      "source": [
        "The industry that has the highest stock return in early 2020 is naics_cate_22\t which represents the electricity, gas and water utilities. The average stock return is -0.155907. Because electricity, gas and water are the daily requirements of people, so the outbreak of covid-19 would not have huge infuluence on the naics_cate_22\t's stock return. "
      ]
    },
    {
      "cell_type": "markdown",
      "metadata": {
        "id": "fXUBlY7OFRjf"
      },
      "source": [
        "### The lowest stock return for early 2020"
      ]
    },
    {
      "cell_type": "code",
      "metadata": {
        "colab": {
          "base_uri": "https://localhost:8080/",
          "height": 185
        },
        "id": "pVsRwZkSFQ2F",
        "outputId": "72690c61-0b50-4782-94d6-29b98d24758a"
      },
      "source": [
        "return_low = avg_return4[avg_return4.avg_early_return == avg_return4.avg_early_return.min()]\n",
        "return_low.drop(columns='avg_late_return',inplace=True)\n",
        "return_low"
      ],
      "execution_count": 19,
      "outputs": [
        {
          "output_type": "stream",
          "text": [
            "/usr/local/lib/python3.7/dist-packages/pandas/core/frame.py:4174: SettingWithCopyWarning: \n",
            "A value is trying to be set on a copy of a slice from a DataFrame\n",
            "\n",
            "See the caveats in the documentation: https://pandas.pydata.org/pandas-docs/stable/user_guide/indexing.html#returning-a-view-versus-a-copy\n",
            "  errors=errors,\n"
          ],
          "name": "stderr"
        },
        {
          "output_type": "execute_result",
          "data": {
            "text/html": [
              "<div>\n",
              "<style scoped>\n",
              "    .dataframe tbody tr th:only-of-type {\n",
              "        vertical-align: middle;\n",
              "    }\n",
              "\n",
              "    .dataframe tbody tr th {\n",
              "        vertical-align: top;\n",
              "    }\n",
              "\n",
              "    .dataframe thead th {\n",
              "        text-align: right;\n",
              "    }\n",
              "</style>\n",
              "<table border=\"1\" class=\"dataframe\">\n",
              "  <thead>\n",
              "    <tr style=\"text-align: right;\">\n",
              "      <th></th>\n",
              "      <th>naics</th>\n",
              "      <th>avg_early_return</th>\n",
              "    </tr>\n",
              "  </thead>\n",
              "  <tbody>\n",
              "    <tr>\n",
              "      <th>1</th>\n",
              "      <td>naics_cate_21</td>\n",
              "      <td>-0.597364</td>\n",
              "    </tr>\n",
              "  </tbody>\n",
              "</table>\n",
              "</div>"
            ],
            "text/plain": [
              "           naics  avg_early_return\n",
              "1  naics_cate_21         -0.597364"
            ]
          },
          "metadata": {
            "tags": []
          },
          "execution_count": 19
        }
      ]
    },
    {
      "cell_type": "markdown",
      "metadata": {
        "id": "LOL6P1KTj1El"
      },
      "source": [
        "The industry that has the lowest stock return in early2020 is naics_cate_21 which is oil, gas & consumable fules industry. The average stock return is -0.597364. The impact of COVID-19 on oil gas, and comsumable industry is huge. Oil prices are dropping due to failed agreements on production cuts and the need for chemicals and refined products is slowing from industrial slow-downs and travel restrictions during the global pandemic. Also there was a oil price war between Russia and Saudi Arabia, which have a severe impact on stock market of the United States. So this lowest stock return during early 2020 in oil, gas and consumable fules industry is reasonable."
      ]
    },
    {
      "cell_type": "markdown",
      "metadata": {
        "id": "pgYFYk-GFWdQ"
      },
      "source": [
        "### The highest stock return for late 2020"
      ]
    },
    {
      "cell_type": "code",
      "metadata": {
        "colab": {
          "base_uri": "https://localhost:8080/",
          "height": 185
        },
        "id": "HSUpvxwaFYPo",
        "outputId": "ca63ed30-b755-4521-98a7-2b8e0be37f16"
      },
      "source": [
        "return_high = avg_return4[avg_return4.avg_late_return == avg_return4.avg_late_return.max()]\n",
        "return_high.drop(columns='avg_early_return',inplace=True)\n",
        "return_high"
      ],
      "execution_count": 20,
      "outputs": [
        {
          "output_type": "stream",
          "text": [
            "/usr/local/lib/python3.7/dist-packages/pandas/core/frame.py:4174: SettingWithCopyWarning: \n",
            "A value is trying to be set on a copy of a slice from a DataFrame\n",
            "\n",
            "See the caveats in the documentation: https://pandas.pydata.org/pandas-docs/stable/user_guide/indexing.html#returning-a-view-versus-a-copy\n",
            "  errors=errors,\n"
          ],
          "name": "stderr"
        },
        {
          "output_type": "execute_result",
          "data": {
            "text/html": [
              "<div>\n",
              "<style scoped>\n",
              "    .dataframe tbody tr th:only-of-type {\n",
              "        vertical-align: middle;\n",
              "    }\n",
              "\n",
              "    .dataframe tbody tr th {\n",
              "        vertical-align: top;\n",
              "    }\n",
              "\n",
              "    .dataframe thead th {\n",
              "        text-align: right;\n",
              "    }\n",
              "</style>\n",
              "<table border=\"1\" class=\"dataframe\">\n",
              "  <thead>\n",
              "    <tr style=\"text-align: right;\">\n",
              "      <th></th>\n",
              "      <th>naics</th>\n",
              "      <th>avg_late_return</th>\n",
              "    </tr>\n",
              "  </thead>\n",
              "  <tbody>\n",
              "    <tr>\n",
              "      <th>6</th>\n",
              "      <td>naics_cate_44-45</td>\n",
              "      <td>1.655214</td>\n",
              "    </tr>\n",
              "  </tbody>\n",
              "</table>\n",
              "</div>"
            ],
            "text/plain": [
              "              naics  avg_late_return\n",
              "6  naics_cate_44-45         1.655214"
            ]
          },
          "metadata": {
            "tags": []
          },
          "execution_count": 20
        }
      ]
    },
    {
      "cell_type": "markdown",
      "metadata": {
        "id": "143OKACwla2q"
      },
      "source": [
        "The highest stock return in late 2020 is \tnaics_cate_44-45, which is retail trade category. Because of the stay-home requirement, we spent more time staying at home, which may increase the need of household durables (furnitures, garden suppliers, ect.) and some leisure products(musical instruments, books, etc.). "
      ]
    },
    {
      "cell_type": "markdown",
      "metadata": {
        "id": "hchSNHo_FaHS"
      },
      "source": [
        "### The lowest stock return for late 2020"
      ]
    },
    {
      "cell_type": "code",
      "metadata": {
        "colab": {
          "base_uri": "https://localhost:8080/",
          "height": 185
        },
        "id": "0QbeBvY-FaYj",
        "outputId": "8f208e43-8b9c-45d3-c5b3-8fd5f5ab65fd"
      },
      "source": [
        "return_low = avg_return4[avg_return4.avg_late_return == avg_return4.avg_late_return.min()]\n",
        "return_low.drop(columns='avg_early_return',inplace=True)\n",
        "return_low"
      ],
      "execution_count": 21,
      "outputs": [
        {
          "output_type": "stream",
          "text": [
            "/usr/local/lib/python3.7/dist-packages/pandas/core/frame.py:4174: SettingWithCopyWarning: \n",
            "A value is trying to be set on a copy of a slice from a DataFrame\n",
            "\n",
            "See the caveats in the documentation: https://pandas.pydata.org/pandas-docs/stable/user_guide/indexing.html#returning-a-view-versus-a-copy\n",
            "  errors=errors,\n"
          ],
          "name": "stderr"
        },
        {
          "output_type": "execute_result",
          "data": {
            "text/html": [
              "<div>\n",
              "<style scoped>\n",
              "    .dataframe tbody tr th:only-of-type {\n",
              "        vertical-align: middle;\n",
              "    }\n",
              "\n",
              "    .dataframe tbody tr th {\n",
              "        vertical-align: top;\n",
              "    }\n",
              "\n",
              "    .dataframe thead th {\n",
              "        text-align: right;\n",
              "    }\n",
              "</style>\n",
              "<table border=\"1\" class=\"dataframe\">\n",
              "  <thead>\n",
              "    <tr style=\"text-align: right;\">\n",
              "      <th></th>\n",
              "      <th>naics</th>\n",
              "      <th>avg_late_return</th>\n",
              "    </tr>\n",
              "  </thead>\n",
              "  <tbody>\n",
              "    <tr>\n",
              "      <th>0</th>\n",
              "      <td>naics_cate_11</td>\n",
              "      <td>0.123019</td>\n",
              "    </tr>\n",
              "  </tbody>\n",
              "</table>\n",
              "</div>"
            ],
            "text/plain": [
              "           naics  avg_late_return\n",
              "0  naics_cate_11         0.123019"
            ]
          },
          "metadata": {
            "tags": []
          },
          "execution_count": 21
        }
      ]
    },
    {
      "cell_type": "markdown",
      "metadata": {
        "id": "_2vPUT4Il8y-"
      },
      "source": [
        "The lowest stock return in late 2020 is naics_cate_11, which is 0.123019. As restaurants and schools still closed in late 2020, overall demand for agriculture product showed a decline in the U.S. "
      ]
    },
    {
      "cell_type": "markdown",
      "metadata": {
        "id": "saCj3tPCFjEP"
      },
      "source": [
        "### Run fixed effect regressions (using industry fixed effects) to explain both ReturnEarly2020"
      ]
    },
    {
      "cell_type": "markdown",
      "metadata": {
        "id": "85ksOfBfFlOG"
      },
      "source": [
        "### Early2020"
      ]
    },
    {
      "cell_type": "code",
      "metadata": {
        "colab": {
          "base_uri": "https://localhost:8080/",
          "height": 801
        },
        "id": "vGlEkfAZFkik",
        "outputId": "6c484152-da51-46d1-b01c-4322dd8ef417"
      },
      "source": [
        "# define x as a subset of original dataframe\n",
        "x = df_naics.loc[:,df_naics.columns.str.contains('naics')]\n",
        "# define y as a series of ReturnEarly2020\n",
        "y = df['ReturnEarly2020']\n",
        "\n",
        "# pass x as a dataframe, while pass y as a series\n",
        "sm.OLS(y, x).fit().summary()"
      ],
      "execution_count": 22,
      "outputs": [
        {
          "output_type": "execute_result",
          "data": {
            "text/html": [
              "<table class=\"simpletable\">\n",
              "<caption>OLS Regression Results</caption>\n",
              "<tr>\n",
              "  <th>Dep. Variable:</th>     <td>ReturnEarly2020</td> <th>  R-squared:         </th> <td>   0.071</td>\n",
              "</tr>\n",
              "<tr>\n",
              "  <th>Model:</th>                   <td>OLS</td>       <th>  Adj. R-squared:    </th> <td>   0.065</td>\n",
              "</tr>\n",
              "<tr>\n",
              "  <th>Method:</th>             <td>Least Squares</td>  <th>  F-statistic:       </th> <td>   11.27</td>\n",
              "</tr>\n",
              "<tr>\n",
              "  <th>Date:</th>             <td>Thu, 08 Jul 2021</td> <th>  Prob (F-statistic):</th> <td>6.10e-32</td>\n",
              "</tr>\n",
              "<tr>\n",
              "  <th>Time:</th>                 <td>00:15:09</td>     <th>  Log-Likelihood:    </th> <td> -588.92</td>\n",
              "</tr>\n",
              "<tr>\n",
              "  <th>No. Observations:</th>      <td>  2666</td>      <th>  AIC:               </th> <td>   1216.</td>\n",
              "</tr>\n",
              "<tr>\n",
              "  <th>Df Residuals:</th>          <td>  2647</td>      <th>  BIC:               </th> <td>   1328.</td>\n",
              "</tr>\n",
              "<tr>\n",
              "  <th>Df Model:</th>              <td>    18</td>      <th>                     </th>     <td> </td>   \n",
              "</tr>\n",
              "<tr>\n",
              "  <th>Covariance Type:</th>      <td>nonrobust</td>    <th>                     </th>     <td> </td>   \n",
              "</tr>\n",
              "</table>\n",
              "<table class=\"simpletable\">\n",
              "<tr>\n",
              "          <td></td>            <th>coef</th>     <th>std err</th>      <th>t</th>      <th>P>|t|</th>  <th>[0.025</th>    <th>0.975]</th>  \n",
              "</tr>\n",
              "<tr>\n",
              "  <th>naics_cate_11</th>    <td>   -0.1583</td> <td>    0.124</td> <td>   -1.280</td> <td> 0.201</td> <td>   -0.401</td> <td>    0.084</td>\n",
              "</tr>\n",
              "<tr>\n",
              "  <th>naics_cate_21</th>    <td>   -0.5974</td> <td>    0.035</td> <td>  -17.307</td> <td> 0.000</td> <td>   -0.665</td> <td>   -0.530</td>\n",
              "</tr>\n",
              "<tr>\n",
              "  <th>naics_cate_22</th>    <td>   -0.1559</td> <td>    0.036</td> <td>   -4.307</td> <td> 0.000</td> <td>   -0.227</td> <td>   -0.085</td>\n",
              "</tr>\n",
              "<tr>\n",
              "  <th>naics_cate_23</th>    <td>   -0.3716</td> <td>    0.049</td> <td>   -7.563</td> <td> 0.000</td> <td>   -0.468</td> <td>   -0.275</td>\n",
              "</tr>\n",
              "<tr>\n",
              "  <th>naics_cate_31-33</th> <td>   -0.2451</td> <td>    0.009</td> <td>  -25.964</td> <td> 0.000</td> <td>   -0.264</td> <td>   -0.227</td>\n",
              "</tr>\n",
              "<tr>\n",
              "  <th>naics_cate_42</th>    <td>   -0.3201</td> <td>    0.038</td> <td>   -8.454</td> <td> 0.000</td> <td>   -0.394</td> <td>   -0.246</td>\n",
              "</tr>\n",
              "<tr>\n",
              "  <th>naics_cate_44-45</th> <td>   -0.3718</td> <td>    0.030</td> <td>  -12.459</td> <td> 0.000</td> <td>   -0.430</td> <td>   -0.313</td>\n",
              "</tr>\n",
              "<tr>\n",
              "  <th>naics_cate_48-49</th> <td>   -0.3465</td> <td>    0.037</td> <td>   -9.435</td> <td> 0.000</td> <td>   -0.419</td> <td>   -0.274</td>\n",
              "</tr>\n",
              "<tr>\n",
              "  <th>naics_cate_51</th>    <td>   -0.1918</td> <td>    0.018</td> <td>  -10.389</td> <td> 0.000</td> <td>   -0.228</td> <td>   -0.156</td>\n",
              "</tr>\n",
              "<tr>\n",
              "  <th>naics_cate_52</th>    <td>   -0.3466</td> <td>    0.013</td> <td>  -25.872</td> <td> 0.000</td> <td>   -0.373</td> <td>   -0.320</td>\n",
              "</tr>\n",
              "<tr>\n",
              "  <th>naics_cate_53</th>    <td>   -0.3310</td> <td>    0.022</td> <td>  -15.300</td> <td> 0.000</td> <td>   -0.373</td> <td>   -0.289</td>\n",
              "</tr>\n",
              "<tr>\n",
              "  <th>naics_cate_54</th>    <td>   -0.2525</td> <td>    0.036</td> <td>   -7.025</td> <td> 0.000</td> <td>   -0.323</td> <td>   -0.182</td>\n",
              "</tr>\n",
              "<tr>\n",
              "  <th>naics_cate_56</th>    <td>   -0.3185</td> <td>    0.045</td> <td>   -7.132</td> <td> 0.000</td> <td>   -0.406</td> <td>   -0.231</td>\n",
              "</tr>\n",
              "<tr>\n",
              "  <th>naics_cate_61</th>    <td>   -0.2648</td> <td>    0.087</td> <td>   -3.028</td> <td> 0.002</td> <td>   -0.436</td> <td>   -0.093</td>\n",
              "</tr>\n",
              "<tr>\n",
              "  <th>naics_cate_62</th>    <td>   -0.2294</td> <td>    0.050</td> <td>   -4.608</td> <td> 0.000</td> <td>   -0.327</td> <td>   -0.132</td>\n",
              "</tr>\n",
              "<tr>\n",
              "  <th>naics_cate_71</th>    <td>   -0.4683</td> <td>    0.087</td> <td>   -5.357</td> <td> 0.000</td> <td>   -0.640</td> <td>   -0.297</td>\n",
              "</tr>\n",
              "<tr>\n",
              "  <th>naics_cate_72</th>    <td>   -0.4488</td> <td>    0.044</td> <td>  -10.266</td> <td> 0.000</td> <td>   -0.535</td> <td>   -0.363</td>\n",
              "</tr>\n",
              "<tr>\n",
              "  <th>naics_cate_81</th>    <td>   -0.4808</td> <td>    0.114</td> <td>   -4.200</td> <td> 0.000</td> <td>   -0.705</td> <td>   -0.256</td>\n",
              "</tr>\n",
              "<tr>\n",
              "  <th>naics_cate_99</th>    <td>   -0.3127</td> <td>    0.214</td> <td>   -1.460</td> <td> 0.144</td> <td>   -0.733</td> <td>    0.107</td>\n",
              "</tr>\n",
              "</table>\n",
              "<table class=\"simpletable\">\n",
              "<tr>\n",
              "  <th>Omnibus:</th>       <td>4159.792</td> <th>  Durbin-Watson:     </th>  <td>   1.934</td>  \n",
              "</tr>\n",
              "<tr>\n",
              "  <th>Prob(Omnibus):</th>  <td> 0.000</td>  <th>  Jarque-Bera (JB):  </th> <td>4243787.092</td>\n",
              "</tr>\n",
              "<tr>\n",
              "  <th>Skew:</th>           <td> 9.435</td>  <th>  Prob(JB):          </th>  <td>    0.00</td>  \n",
              "</tr>\n",
              "<tr>\n",
              "  <th>Kurtosis:</th>       <td>197.544</td> <th>  Cond. No.          </th>  <td>    22.7</td>  \n",
              "</tr>\n",
              "</table><br/><br/>Warnings:<br/>[1] Standard Errors assume that the covariance matrix of the errors is correctly specified."
            ],
            "text/plain": [
              "<class 'statsmodels.iolib.summary.Summary'>\n",
              "\"\"\"\n",
              "                            OLS Regression Results                            \n",
              "==============================================================================\n",
              "Dep. Variable:        ReturnEarly2020   R-squared:                       0.071\n",
              "Model:                            OLS   Adj. R-squared:                  0.065\n",
              "Method:                 Least Squares   F-statistic:                     11.27\n",
              "Date:                Thu, 08 Jul 2021   Prob (F-statistic):           6.10e-32\n",
              "Time:                        00:15:09   Log-Likelihood:                -588.92\n",
              "No. Observations:                2666   AIC:                             1216.\n",
              "Df Residuals:                    2647   BIC:                             1328.\n",
              "Df Model:                          18                                         \n",
              "Covariance Type:            nonrobust                                         \n",
              "====================================================================================\n",
              "                       coef    std err          t      P>|t|      [0.025      0.975]\n",
              "------------------------------------------------------------------------------------\n",
              "naics_cate_11       -0.1583      0.124     -1.280      0.201      -0.401       0.084\n",
              "naics_cate_21       -0.5974      0.035    -17.307      0.000      -0.665      -0.530\n",
              "naics_cate_22       -0.1559      0.036     -4.307      0.000      -0.227      -0.085\n",
              "naics_cate_23       -0.3716      0.049     -7.563      0.000      -0.468      -0.275\n",
              "naics_cate_31-33    -0.2451      0.009    -25.964      0.000      -0.264      -0.227\n",
              "naics_cate_42       -0.3201      0.038     -8.454      0.000      -0.394      -0.246\n",
              "naics_cate_44-45    -0.3718      0.030    -12.459      0.000      -0.430      -0.313\n",
              "naics_cate_48-49    -0.3465      0.037     -9.435      0.000      -0.419      -0.274\n",
              "naics_cate_51       -0.1918      0.018    -10.389      0.000      -0.228      -0.156\n",
              "naics_cate_52       -0.3466      0.013    -25.872      0.000      -0.373      -0.320\n",
              "naics_cate_53       -0.3310      0.022    -15.300      0.000      -0.373      -0.289\n",
              "naics_cate_54       -0.2525      0.036     -7.025      0.000      -0.323      -0.182\n",
              "naics_cate_56       -0.3185      0.045     -7.132      0.000      -0.406      -0.231\n",
              "naics_cate_61       -0.2648      0.087     -3.028      0.002      -0.436      -0.093\n",
              "naics_cate_62       -0.2294      0.050     -4.608      0.000      -0.327      -0.132\n",
              "naics_cate_71       -0.4683      0.087     -5.357      0.000      -0.640      -0.297\n",
              "naics_cate_72       -0.4488      0.044    -10.266      0.000      -0.535      -0.363\n",
              "naics_cate_81       -0.4808      0.114     -4.200      0.000      -0.705      -0.256\n",
              "naics_cate_99       -0.3127      0.214     -1.460      0.144      -0.733       0.107\n",
              "==============================================================================\n",
              "Omnibus:                     4159.792   Durbin-Watson:                   1.934\n",
              "Prob(Omnibus):                  0.000   Jarque-Bera (JB):          4243787.092\n",
              "Skew:                           9.435   Prob(JB):                         0.00\n",
              "Kurtosis:                     197.544   Cond. No.                         22.7\n",
              "==============================================================================\n",
              "\n",
              "Warnings:\n",
              "[1] Standard Errors assume that the covariance matrix of the errors is correctly specified.\n",
              "\"\"\""
            ]
          },
          "metadata": {
            "tags": []
          },
          "execution_count": 22
        }
      ]
    },
    {
      "cell_type": "markdown",
      "metadata": {
        "id": "zqt1_iTGpzST"
      },
      "source": [
        "From the output above we can see that all industry are statistically significant except for naics_cate_11 and naics_cate_99, which is the agriculture, forestry, fishing and hunting industry and theunknown category. It can be interpreted that pademic have severe negative influence on almost all the industries but slightly or no influence on agriculture, forestry, fishing and hunting industry.\n",
        "The coefficients of each industry indicate the average return in early 2020 of these industries. For example, the coefficient of naics_cate_21 is -0.5974, which means that average stock return of naics_cate_21 is -0.5974 in early 2020."
      ]
    },
    {
      "cell_type": "markdown",
      "metadata": {
        "id": "riT2nEO0FvmE"
      },
      "source": [
        "### Late2020"
      ]
    },
    {
      "cell_type": "code",
      "metadata": {
        "colab": {
          "base_uri": "https://localhost:8080/",
          "height": 801
        },
        "id": "LCjdOYVuFw-m",
        "outputId": "0b3a0b51-e4fa-4918-d2ab-d2bbfa6f40c9"
      },
      "source": [
        "# define x as a subset of original dataframe\n",
        "x = df_naics.loc[:,df_naics.columns.str.contains('naics')]\n",
        "# define y as a series of ReturnEarly2020\n",
        "y = df['ReturnLate2020']\n",
        "\n",
        "# pass x as a dataframe, while pass y as a series\n",
        "sm.OLS(y, x).fit().summary()"
      ],
      "execution_count": 23,
      "outputs": [
        {
          "output_type": "execute_result",
          "data": {
            "text/html": [
              "<table class=\"simpletable\">\n",
              "<caption>OLS Regression Results</caption>\n",
              "<tr>\n",
              "  <th>Dep. Variable:</th>     <td>ReturnLate2020</td>  <th>  R-squared:         </th> <td>   0.073</td>\n",
              "</tr>\n",
              "<tr>\n",
              "  <th>Model:</th>                   <td>OLS</td>       <th>  Adj. R-squared:    </th> <td>   0.067</td>\n",
              "</tr>\n",
              "<tr>\n",
              "  <th>Method:</th>             <td>Least Squares</td>  <th>  F-statistic:       </th> <td>   11.66</td>\n",
              "</tr>\n",
              "<tr>\n",
              "  <th>Date:</th>             <td>Thu, 08 Jul 2021</td> <th>  Prob (F-statistic):</th> <td>3.08e-33</td>\n",
              "</tr>\n",
              "<tr>\n",
              "  <th>Time:</th>                 <td>00:15:12</td>     <th>  Log-Likelihood:    </th> <td> -3870.9</td>\n",
              "</tr>\n",
              "<tr>\n",
              "  <th>No. Observations:</th>      <td>  2666</td>      <th>  AIC:               </th> <td>   7780.</td>\n",
              "</tr>\n",
              "<tr>\n",
              "  <th>Df Residuals:</th>          <td>  2647</td>      <th>  BIC:               </th> <td>   7892.</td>\n",
              "</tr>\n",
              "<tr>\n",
              "  <th>Df Model:</th>              <td>    18</td>      <th>                     </th>     <td> </td>   \n",
              "</tr>\n",
              "<tr>\n",
              "  <th>Covariance Type:</th>      <td>nonrobust</td>    <th>                     </th>     <td> </td>   \n",
              "</tr>\n",
              "</table>\n",
              "<table class=\"simpletable\">\n",
              "<tr>\n",
              "          <td></td>            <th>coef</th>     <th>std err</th>      <th>t</th>      <th>P>|t|</th>  <th>[0.025</th>    <th>0.975]</th>  \n",
              "</tr>\n",
              "<tr>\n",
              "  <th>naics_cate_11</th>    <td>    0.1230</td> <td>    0.423</td> <td>    0.291</td> <td> 0.771</td> <td>   -0.707</td> <td>    0.953</td>\n",
              "</tr>\n",
              "<tr>\n",
              "  <th>naics_cate_21</th>    <td>    1.2315</td> <td>    0.118</td> <td>   10.418</td> <td> 0.000</td> <td>    1.000</td> <td>    1.463</td>\n",
              "</tr>\n",
              "<tr>\n",
              "  <th>naics_cate_22</th>    <td>    0.1920</td> <td>    0.124</td> <td>    1.549</td> <td> 0.122</td> <td>   -0.051</td> <td>    0.435</td>\n",
              "</tr>\n",
              "<tr>\n",
              "  <th>naics_cate_23</th>    <td>    1.0901</td> <td>    0.168</td> <td>    6.478</td> <td> 0.000</td> <td>    0.760</td> <td>    1.420</td>\n",
              "</tr>\n",
              "<tr>\n",
              "  <th>naics_cate_31-33</th> <td>    0.8908</td> <td>    0.032</td> <td>   27.547</td> <td> 0.000</td> <td>    0.827</td> <td>    0.954</td>\n",
              "</tr>\n",
              "<tr>\n",
              "  <th>naics_cate_42</th>    <td>    0.7557</td> <td>    0.130</td> <td>    5.829</td> <td> 0.000</td> <td>    0.501</td> <td>    1.010</td>\n",
              "</tr>\n",
              "<tr>\n",
              "  <th>naics_cate_44-45</th> <td>    1.6552</td> <td>    0.102</td> <td>   16.195</td> <td> 0.000</td> <td>    1.455</td> <td>    1.856</td>\n",
              "</tr>\n",
              "<tr>\n",
              "  <th>naics_cate_48-49</th> <td>    0.6006</td> <td>    0.126</td> <td>    4.775</td> <td> 0.000</td> <td>    0.354</td> <td>    0.847</td>\n",
              "</tr>\n",
              "<tr>\n",
              "  <th>naics_cate_51</th>    <td>    0.9829</td> <td>    0.063</td> <td>   15.541</td> <td> 0.000</td> <td>    0.859</td> <td>    1.107</td>\n",
              "</tr>\n",
              "<tr>\n",
              "  <th>naics_cate_52</th>    <td>    0.4943</td> <td>    0.046</td> <td>   10.773</td> <td> 0.000</td> <td>    0.404</td> <td>    0.584</td>\n",
              "</tr>\n",
              "<tr>\n",
              "  <th>naics_cate_53</th>    <td>    0.5156</td> <td>    0.074</td> <td>    6.959</td> <td> 0.000</td> <td>    0.370</td> <td>    0.661</td>\n",
              "</tr>\n",
              "<tr>\n",
              "  <th>naics_cate_54</th>    <td>    0.6700</td> <td>    0.123</td> <td>    5.443</td> <td> 0.000</td> <td>    0.429</td> <td>    0.911</td>\n",
              "</tr>\n",
              "<tr>\n",
              "  <th>naics_cate_56</th>    <td>    0.6423</td> <td>    0.153</td> <td>    4.200</td> <td> 0.000</td> <td>    0.342</td> <td>    0.942</td>\n",
              "</tr>\n",
              "<tr>\n",
              "  <th>naics_cate_61</th>    <td>    0.3542</td> <td>    0.299</td> <td>    1.183</td> <td> 0.237</td> <td>   -0.233</td> <td>    0.941</td>\n",
              "</tr>\n",
              "<tr>\n",
              "  <th>naics_cate_62</th>    <td>    1.0721</td> <td>    0.171</td> <td>    6.287</td> <td> 0.000</td> <td>    0.738</td> <td>    1.406</td>\n",
              "</tr>\n",
              "<tr>\n",
              "  <th>naics_cate_71</th>    <td>    1.4569</td> <td>    0.299</td> <td>    4.866</td> <td> 0.000</td> <td>    0.870</td> <td>    2.044</td>\n",
              "</tr>\n",
              "<tr>\n",
              "  <th>naics_cate_72</th>    <td>    1.1854</td> <td>    0.150</td> <td>    7.918</td> <td> 0.000</td> <td>    0.892</td> <td>    1.479</td>\n",
              "</tr>\n",
              "<tr>\n",
              "  <th>naics_cate_81</th>    <td>    0.7422</td> <td>    0.392</td> <td>    1.893</td> <td> 0.058</td> <td>   -0.027</td> <td>    1.511</td>\n",
              "</tr>\n",
              "<tr>\n",
              "  <th>naics_cate_99</th>    <td>    0.2229</td> <td>    0.733</td> <td>    0.304</td> <td> 0.761</td> <td>   -1.215</td> <td>    1.661</td>\n",
              "</tr>\n",
              "</table>\n",
              "<table class=\"simpletable\">\n",
              "<tr>\n",
              "  <th>Omnibus:</th>       <td>2909.157</td> <th>  Durbin-Watson:     </th>  <td>   1.949</td> \n",
              "</tr>\n",
              "<tr>\n",
              "  <th>Prob(Omnibus):</th>  <td> 0.000</td>  <th>  Jarque-Bera (JB):  </th> <td>368745.521</td>\n",
              "</tr>\n",
              "<tr>\n",
              "  <th>Skew:</th>           <td> 5.285</td>  <th>  Prob(JB):          </th>  <td>    0.00</td> \n",
              "</tr>\n",
              "<tr>\n",
              "  <th>Kurtosis:</th>       <td>59.637</td>  <th>  Cond. No.          </th>  <td>    22.7</td> \n",
              "</tr>\n",
              "</table><br/><br/>Warnings:<br/>[1] Standard Errors assume that the covariance matrix of the errors is correctly specified."
            ],
            "text/plain": [
              "<class 'statsmodels.iolib.summary.Summary'>\n",
              "\"\"\"\n",
              "                            OLS Regression Results                            \n",
              "==============================================================================\n",
              "Dep. Variable:         ReturnLate2020   R-squared:                       0.073\n",
              "Model:                            OLS   Adj. R-squared:                  0.067\n",
              "Method:                 Least Squares   F-statistic:                     11.66\n",
              "Date:                Thu, 08 Jul 2021   Prob (F-statistic):           3.08e-33\n",
              "Time:                        00:15:12   Log-Likelihood:                -3870.9\n",
              "No. Observations:                2666   AIC:                             7780.\n",
              "Df Residuals:                    2647   BIC:                             7892.\n",
              "Df Model:                          18                                         \n",
              "Covariance Type:            nonrobust                                         \n",
              "====================================================================================\n",
              "                       coef    std err          t      P>|t|      [0.025      0.975]\n",
              "------------------------------------------------------------------------------------\n",
              "naics_cate_11        0.1230      0.423      0.291      0.771      -0.707       0.953\n",
              "naics_cate_21        1.2315      0.118     10.418      0.000       1.000       1.463\n",
              "naics_cate_22        0.1920      0.124      1.549      0.122      -0.051       0.435\n",
              "naics_cate_23        1.0901      0.168      6.478      0.000       0.760       1.420\n",
              "naics_cate_31-33     0.8908      0.032     27.547      0.000       0.827       0.954\n",
              "naics_cate_42        0.7557      0.130      5.829      0.000       0.501       1.010\n",
              "naics_cate_44-45     1.6552      0.102     16.195      0.000       1.455       1.856\n",
              "naics_cate_48-49     0.6006      0.126      4.775      0.000       0.354       0.847\n",
              "naics_cate_51        0.9829      0.063     15.541      0.000       0.859       1.107\n",
              "naics_cate_52        0.4943      0.046     10.773      0.000       0.404       0.584\n",
              "naics_cate_53        0.5156      0.074      6.959      0.000       0.370       0.661\n",
              "naics_cate_54        0.6700      0.123      5.443      0.000       0.429       0.911\n",
              "naics_cate_56        0.6423      0.153      4.200      0.000       0.342       0.942\n",
              "naics_cate_61        0.3542      0.299      1.183      0.237      -0.233       0.941\n",
              "naics_cate_62        1.0721      0.171      6.287      0.000       0.738       1.406\n",
              "naics_cate_71        1.4569      0.299      4.866      0.000       0.870       2.044\n",
              "naics_cate_72        1.1854      0.150      7.918      0.000       0.892       1.479\n",
              "naics_cate_81        0.7422      0.392      1.893      0.058      -0.027       1.511\n",
              "naics_cate_99        0.2229      0.733      0.304      0.761      -1.215       1.661\n",
              "==============================================================================\n",
              "Omnibus:                     2909.157   Durbin-Watson:                   1.949\n",
              "Prob(Omnibus):                  0.000   Jarque-Bera (JB):           368745.521\n",
              "Skew:                           5.285   Prob(JB):                         0.00\n",
              "Kurtosis:                      59.637   Cond. No.                         22.7\n",
              "==============================================================================\n",
              "\n",
              "Warnings:\n",
              "[1] Standard Errors assume that the covariance matrix of the errors is correctly specified.\n",
              "\"\"\""
            ]
          },
          "metadata": {
            "tags": []
          },
          "execution_count": 23
        }
      ]
    },
    {
      "cell_type": "markdown",
      "metadata": {
        "id": "TTg_a2zZqcbZ"
      },
      "source": [
        "From the output above we can see that all industry is statistically significant except for naics_cate_11, naics_cate_22 and naics_cate_61, which are the agriculture, forestry, fishing and hunting industry, utilities and the educational services. It can be interpreted that economic reviving of later pandemic have positive influence on almost all the industries but slightly or no agriculture, forestry, fishing and hunting industry, utilities and the educational services. Because these are the daily requirements of people, so the reviving of the economy would not have huge infuluence on them. \n",
        "The coefficients of each industry indicate the average return in late 2020 of these industries. For example, the coefficient of naics_cate_21 is 1.2315, which means that average stock return of naics_cate_21 is 1.2315 in late 2020."
      ]
    },
    {
      "cell_type": "markdown",
      "metadata": {
        "id": "GdPmS_CJrOAv"
      },
      "source": [
        "The adjusted R square of regression on RenturnEarly2020 is 0.065, and the adjusted R square of regression on ReturnLate2020 is 0.067."
      ]
    },
    {
      "cell_type": "markdown",
      "metadata": {
        "id": "hJxsZ3REF2z4"
      },
      "source": [
        "### Combine the industry fixed effects with other explanatory variables"
      ]
    },
    {
      "cell_type": "code",
      "metadata": {
        "colab": {
          "base_uri": "https://localhost:8080/",
          "height": 241
        },
        "id": "t4-6eEFyF3YY",
        "outputId": "ad2f9bc9-e441-4ae8-8b94-a5f2deef72b6"
      },
      "source": [
        "df_naics_ratio = df_naics.merge(assign3,how='inner',left_on='tic',right_on='TICKER')\n",
        "df_naics_ratio.drop(columns=['tic','TICKER'],inplace=True)\n",
        "df_naics_ratio.head()"
      ],
      "execution_count": 24,
      "outputs": [
        {
          "output_type": "execute_result",
          "data": {
            "text/html": [
              "<div>\n",
              "<style scoped>\n",
              "    .dataframe tbody tr th:only-of-type {\n",
              "        vertical-align: middle;\n",
              "    }\n",
              "\n",
              "    .dataframe tbody tr th {\n",
              "        vertical-align: top;\n",
              "    }\n",
              "\n",
              "    .dataframe thead th {\n",
              "        text-align: right;\n",
              "    }\n",
              "</style>\n",
              "<table border=\"1\" class=\"dataframe\">\n",
              "  <thead>\n",
              "    <tr style=\"text-align: right;\">\n",
              "      <th></th>\n",
              "      <th>ReturnEarly2020</th>\n",
              "      <th>ReturnLate2020</th>\n",
              "      <th>naics_cate_11</th>\n",
              "      <th>naics_cate_21</th>\n",
              "      <th>naics_cate_22</th>\n",
              "      <th>naics_cate_23</th>\n",
              "      <th>naics_cate_31-33</th>\n",
              "      <th>naics_cate_42</th>\n",
              "      <th>naics_cate_44-45</th>\n",
              "      <th>naics_cate_48-49</th>\n",
              "      <th>naics_cate_51</th>\n",
              "      <th>naics_cate_52</th>\n",
              "      <th>naics_cate_53</th>\n",
              "      <th>naics_cate_54</th>\n",
              "      <th>naics_cate_56</th>\n",
              "      <th>naics_cate_61</th>\n",
              "      <th>naics_cate_62</th>\n",
              "      <th>naics_cate_71</th>\n",
              "      <th>naics_cate_72</th>\n",
              "      <th>naics_cate_81</th>\n",
              "      <th>naics_cate_99</th>\n",
              "      <th>Price/Book</th>\n",
              "      <th>P/E</th>\n",
              "      <th>P/EBIT</th>\n",
              "      <th>P/SALES</th>\n",
              "    </tr>\n",
              "  </thead>\n",
              "  <tbody>\n",
              "    <tr>\n",
              "      <th>0</th>\n",
              "      <td>-0.603849</td>\n",
              "      <td>1.039410</td>\n",
              "      <td>0</td>\n",
              "      <td>0</td>\n",
              "      <td>0</td>\n",
              "      <td>0</td>\n",
              "      <td>0</td>\n",
              "      <td>1</td>\n",
              "      <td>0</td>\n",
              "      <td>0</td>\n",
              "      <td>0</td>\n",
              "      <td>0</td>\n",
              "      <td>0</td>\n",
              "      <td>0</td>\n",
              "      <td>0</td>\n",
              "      <td>0</td>\n",
              "      <td>0</td>\n",
              "      <td>0</td>\n",
              "      <td>0</td>\n",
              "      <td>0</td>\n",
              "      <td>0</td>\n",
              "      <td>1.753683</td>\n",
              "      <td>359.744250</td>\n",
              "      <td>14.602165</td>\n",
              "      <td>0.757610</td>\n",
              "    </tr>\n",
              "    <tr>\n",
              "      <th>1</th>\n",
              "      <td>-0.572734</td>\n",
              "      <td>0.293682</td>\n",
              "      <td>0</td>\n",
              "      <td>0</td>\n",
              "      <td>0</td>\n",
              "      <td>0</td>\n",
              "      <td>0</td>\n",
              "      <td>0</td>\n",
              "      <td>0</td>\n",
              "      <td>1</td>\n",
              "      <td>0</td>\n",
              "      <td>0</td>\n",
              "      <td>0</td>\n",
              "      <td>0</td>\n",
              "      <td>0</td>\n",
              "      <td>0</td>\n",
              "      <td>0</td>\n",
              "      <td>0</td>\n",
              "      <td>0</td>\n",
              "      <td>0</td>\n",
              "      <td>0</td>\n",
              "      <td>-31.367242</td>\n",
              "      <td>7.284023</td>\n",
              "      <td>3.313778</td>\n",
              "      <td>0.268329</td>\n",
              "    </tr>\n",
              "    <tr>\n",
              "      <th>2</th>\n",
              "      <td>-0.390339</td>\n",
              "      <td>0.490365</td>\n",
              "      <td>0</td>\n",
              "      <td>0</td>\n",
              "      <td>0</td>\n",
              "      <td>0</td>\n",
              "      <td>1</td>\n",
              "      <td>0</td>\n",
              "      <td>0</td>\n",
              "      <td>0</td>\n",
              "      <td>0</td>\n",
              "      <td>0</td>\n",
              "      <td>0</td>\n",
              "      <td>0</td>\n",
              "      <td>0</td>\n",
              "      <td>0</td>\n",
              "      <td>0</td>\n",
              "      <td>0</td>\n",
              "      <td>0</td>\n",
              "      <td>0</td>\n",
              "      <td>0</td>\n",
              "      <td>1.394434</td>\n",
              "      <td>15.200171</td>\n",
              "      <td>13.716717</td>\n",
              "      <td>0.787288</td>\n",
              "    </tr>\n",
              "    <tr>\n",
              "      <th>3</th>\n",
              "      <td>-0.150483</td>\n",
              "      <td>0.086464</td>\n",
              "      <td>0</td>\n",
              "      <td>0</td>\n",
              "      <td>1</td>\n",
              "      <td>0</td>\n",
              "      <td>0</td>\n",
              "      <td>0</td>\n",
              "      <td>0</td>\n",
              "      <td>0</td>\n",
              "      <td>0</td>\n",
              "      <td>0</td>\n",
              "      <td>0</td>\n",
              "      <td>0</td>\n",
              "      <td>0</td>\n",
              "      <td>0</td>\n",
              "      <td>0</td>\n",
              "      <td>0</td>\n",
              "      <td>0</td>\n",
              "      <td>0</td>\n",
              "      <td>0</td>\n",
              "      <td>1.861908</td>\n",
              "      <td>18.783195</td>\n",
              "      <td>15.047576</td>\n",
              "      <td>2.912924</td>\n",
              "    </tr>\n",
              "    <tr>\n",
              "      <th>4</th>\n",
              "      <td>-0.087773</td>\n",
              "      <td>0.402724</td>\n",
              "      <td>0</td>\n",
              "      <td>0</td>\n",
              "      <td>0</td>\n",
              "      <td>0</td>\n",
              "      <td>1</td>\n",
              "      <td>0</td>\n",
              "      <td>0</td>\n",
              "      <td>0</td>\n",
              "      <td>0</td>\n",
              "      <td>0</td>\n",
              "      <td>0</td>\n",
              "      <td>0</td>\n",
              "      <td>0</td>\n",
              "      <td>0</td>\n",
              "      <td>0</td>\n",
              "      <td>0</td>\n",
              "      <td>0</td>\n",
              "      <td>0</td>\n",
              "      <td>0</td>\n",
              "      <td>4.924441</td>\n",
              "      <td>41.521836</td>\n",
              "      <td>30.369175</td>\n",
              "      <td>4.798490</td>\n",
              "    </tr>\n",
              "  </tbody>\n",
              "</table>\n",
              "</div>"
            ],
            "text/plain": [
              "   ReturnEarly2020  ReturnLate2020  ...     P/EBIT   P/SALES\n",
              "0        -0.603849        1.039410  ...  14.602165  0.757610\n",
              "1        -0.572734        0.293682  ...   3.313778  0.268329\n",
              "2        -0.390339        0.490365  ...  13.716717  0.787288\n",
              "3        -0.150483        0.086464  ...  15.047576  2.912924\n",
              "4        -0.087773        0.402724  ...  30.369175  4.798490\n",
              "\n",
              "[5 rows x 25 columns]"
            ]
          },
          "metadata": {
            "tags": []
          },
          "execution_count": 24
        }
      ]
    },
    {
      "cell_type": "markdown",
      "metadata": {
        "id": "JivDvv-SGC_O"
      },
      "source": [
        "### Early2020"
      ]
    },
    {
      "cell_type": "code",
      "metadata": {
        "colab": {
          "base_uri": "https://localhost:8080/",
          "height": 940
        },
        "id": "CjPfdMT5GEH5",
        "outputId": "8d9e638b-7115-4131-c5c2-ee8568f73871"
      },
      "source": [
        "# define x as a subset of original dataframe\n",
        "x = df_naics_ratio.loc[:,~df_naics_ratio.columns.str.contains('Return')]\n",
        "# define y as a series\n",
        "y = df_naics_ratio['ReturnEarly2020']\n",
        "# Add a constant\n",
        "x = sm.add_constant(x)\n",
        "# pass x as a dataframe, while pass y as a series\n",
        "sm.OLS(y, x).fit().summary()"
      ],
      "execution_count": 25,
      "outputs": [
        {
          "output_type": "execute_result",
          "data": {
            "text/html": [
              "<table class=\"simpletable\">\n",
              "<caption>OLS Regression Results</caption>\n",
              "<tr>\n",
              "  <th>Dep. Variable:</th>     <td>ReturnEarly2020</td> <th>  R-squared:         </th> <td>   0.083</td>\n",
              "</tr>\n",
              "<tr>\n",
              "  <th>Model:</th>                   <td>OLS</td>       <th>  Adj. R-squared:    </th> <td>   0.075</td>\n",
              "</tr>\n",
              "<tr>\n",
              "  <th>Method:</th>             <td>Least Squares</td>  <th>  F-statistic:       </th> <td>   10.58</td>\n",
              "</tr>\n",
              "<tr>\n",
              "  <th>Date:</th>             <td>Thu, 08 Jul 2021</td> <th>  Prob (F-statistic):</th> <td>2.53e-35</td>\n",
              "</tr>\n",
              "<tr>\n",
              "  <th>Time:</th>                 <td>00:15:16</td>     <th>  Log-Likelihood:    </th> <td> -560.04</td>\n",
              "</tr>\n",
              "<tr>\n",
              "  <th>No. Observations:</th>      <td>  2599</td>      <th>  AIC:               </th> <td>   1166.</td>\n",
              "</tr>\n",
              "<tr>\n",
              "  <th>Df Residuals:</th>          <td>  2576</td>      <th>  BIC:               </th> <td>   1301.</td>\n",
              "</tr>\n",
              "<tr>\n",
              "  <th>Df Model:</th>              <td>    22</td>      <th>                     </th>     <td> </td>   \n",
              "</tr>\n",
              "<tr>\n",
              "  <th>Covariance Type:</th>      <td>nonrobust</td>    <th>                     </th>     <td> </td>   \n",
              "</tr>\n",
              "</table>\n",
              "<table class=\"simpletable\">\n",
              "<tr>\n",
              "          <td></td>            <th>coef</th>     <th>std err</th>      <th>t</th>      <th>P>|t|</th>  <th>[0.025</th>    <th>0.975]</th>  \n",
              "</tr>\n",
              "<tr>\n",
              "  <th>const</th>            <td>   -0.3221</td> <td>    0.016</td> <td>  -19.580</td> <td> 0.000</td> <td>   -0.354</td> <td>   -0.290</td>\n",
              "</tr>\n",
              "<tr>\n",
              "  <th>naics_cate_11</th>    <td>    0.1578</td> <td>    0.118</td> <td>    1.338</td> <td> 0.181</td> <td>   -0.073</td> <td>    0.389</td>\n",
              "</tr>\n",
              "<tr>\n",
              "  <th>naics_cate_21</th>    <td>   -0.2886</td> <td>    0.037</td> <td>   -7.833</td> <td> 0.000</td> <td>   -0.361</td> <td>   -0.216</td>\n",
              "</tr>\n",
              "<tr>\n",
              "  <th>naics_cate_22</th>    <td>    0.1580</td> <td>    0.037</td> <td>    4.220</td> <td> 0.000</td> <td>    0.085</td> <td>    0.231</td>\n",
              "</tr>\n",
              "<tr>\n",
              "  <th>naics_cate_23</th>    <td>   -0.0531</td> <td>    0.048</td> <td>   -1.104</td> <td> 0.270</td> <td>   -0.147</td> <td>    0.041</td>\n",
              "</tr>\n",
              "<tr>\n",
              "  <th>naics_cate_31-33</th> <td>    0.0554</td> <td>    0.019</td> <td>    2.948</td> <td> 0.003</td> <td>    0.019</td> <td>    0.092</td>\n",
              "</tr>\n",
              "<tr>\n",
              "  <th>naics_cate_42</th>    <td>   -0.0016</td> <td>    0.039</td> <td>   -0.042</td> <td> 0.966</td> <td>   -0.078</td> <td>    0.074</td>\n",
              "</tr>\n",
              "<tr>\n",
              "  <th>naics_cate_44-45</th> <td>   -0.0609</td> <td>    0.032</td> <td>   -1.885</td> <td> 0.060</td> <td>   -0.124</td> <td>    0.002</td>\n",
              "</tr>\n",
              "<tr>\n",
              "  <th>naics_cate_48-49</th> <td>   -0.0326</td> <td>    0.038</td> <td>   -0.851</td> <td> 0.395</td> <td>   -0.108</td> <td>    0.043</td>\n",
              "</tr>\n",
              "<tr>\n",
              "  <th>naics_cate_51</th>    <td>    0.1062</td> <td>    0.024</td> <td>    4.423</td> <td> 0.000</td> <td>    0.059</td> <td>    0.153</td>\n",
              "</tr>\n",
              "<tr>\n",
              "  <th>naics_cate_52</th>    <td>   -0.0313</td> <td>    0.021</td> <td>   -1.519</td> <td> 0.129</td> <td>   -0.072</td> <td>    0.009</td>\n",
              "</tr>\n",
              "<tr>\n",
              "  <th>naics_cate_53</th>    <td>   -0.0238</td> <td>    0.026</td> <td>   -0.907</td> <td> 0.365</td> <td>   -0.075</td> <td>    0.028</td>\n",
              "</tr>\n",
              "<tr>\n",
              "  <th>naics_cate_54</th>    <td>    0.0520</td> <td>    0.038</td> <td>    1.380</td> <td> 0.168</td> <td>   -0.022</td> <td>    0.126</td>\n",
              "</tr>\n",
              "<tr>\n",
              "  <th>naics_cate_56</th>    <td>   -0.0365</td> <td>    0.046</td> <td>   -0.797</td> <td> 0.425</td> <td>   -0.126</td> <td>    0.053</td>\n",
              "</tr>\n",
              "<tr>\n",
              "  <th>naics_cate_61</th>    <td>    0.0537</td> <td>    0.084</td> <td>    0.638</td> <td> 0.523</td> <td>   -0.111</td> <td>    0.219</td>\n",
              "</tr>\n",
              "<tr>\n",
              "  <th>naics_cate_62</th>    <td>    0.0759</td> <td>    0.050</td> <td>    1.525</td> <td> 0.127</td> <td>   -0.022</td> <td>    0.174</td>\n",
              "</tr>\n",
              "<tr>\n",
              "  <th>naics_cate_71</th>    <td>   -0.1525</td> <td>    0.084</td> <td>   -1.809</td> <td> 0.071</td> <td>   -0.318</td> <td>    0.013</td>\n",
              "</tr>\n",
              "<tr>\n",
              "  <th>naics_cate_72</th>    <td>   -0.1379</td> <td>    0.044</td> <td>   -3.163</td> <td> 0.002</td> <td>   -0.223</td> <td>   -0.052</td>\n",
              "</tr>\n",
              "<tr>\n",
              "  <th>naics_cate_81</th>    <td>   -0.1658</td> <td>    0.109</td> <td>   -1.516</td> <td> 0.130</td> <td>   -0.380</td> <td>    0.049</td>\n",
              "</tr>\n",
              "<tr>\n",
              "  <th>naics_cate_99</th>    <td>    0.0036</td> <td>    0.203</td> <td>    0.018</td> <td> 0.986</td> <td>   -0.394</td> <td>    0.401</td>\n",
              "</tr>\n",
              "<tr>\n",
              "  <th>Price/Book</th>       <td>    0.0025</td> <td>    0.001</td> <td>    3.909</td> <td> 0.000</td> <td>    0.001</td> <td>    0.004</td>\n",
              "</tr>\n",
              "<tr>\n",
              "  <th>P/E</th>              <td>    0.0001</td> <td> 7.46e-05</td> <td>    1.554</td> <td> 0.120</td> <td>-3.04e-05</td> <td>    0.000</td>\n",
              "</tr>\n",
              "<tr>\n",
              "  <th>P/EBIT</th>           <td>-1.477e-05</td> <td>    0.000</td> <td>   -0.143</td> <td> 0.887</td> <td>   -0.000</td> <td>    0.000</td>\n",
              "</tr>\n",
              "<tr>\n",
              "  <th>P/SALES</th>          <td>    0.0003</td> <td>    0.000</td> <td>    2.479</td> <td> 0.013</td> <td> 5.69e-05</td> <td>    0.000</td>\n",
              "</tr>\n",
              "</table>\n",
              "<table class=\"simpletable\">\n",
              "<tr>\n",
              "  <th>Omnibus:</th>       <td>4128.475</td> <th>  Durbin-Watson:     </th>  <td>   1.944</td>  \n",
              "</tr>\n",
              "<tr>\n",
              "  <th>Prob(Omnibus):</th>  <td> 0.000</td>  <th>  Jarque-Bera (JB):  </th> <td>4486733.749</td>\n",
              "</tr>\n",
              "<tr>\n",
              "  <th>Skew:</th>           <td> 9.770</td>  <th>  Prob(JB):          </th>  <td>    0.00</td>  \n",
              "</tr>\n",
              "<tr>\n",
              "  <th>Kurtosis:</th>       <td>205.608</td> <th>  Cond. No.          </th>  <td>3.31e+17</td>  \n",
              "</tr>\n",
              "</table><br/><br/>Warnings:<br/>[1] Standard Errors assume that the covariance matrix of the errors is correctly specified.<br/>[2] The smallest eigenvalue is 1.76e-28. This might indicate that there are<br/>strong multicollinearity problems or that the design matrix is singular."
            ],
            "text/plain": [
              "<class 'statsmodels.iolib.summary.Summary'>\n",
              "\"\"\"\n",
              "                            OLS Regression Results                            \n",
              "==============================================================================\n",
              "Dep. Variable:        ReturnEarly2020   R-squared:                       0.083\n",
              "Model:                            OLS   Adj. R-squared:                  0.075\n",
              "Method:                 Least Squares   F-statistic:                     10.58\n",
              "Date:                Thu, 08 Jul 2021   Prob (F-statistic):           2.53e-35\n",
              "Time:                        00:15:16   Log-Likelihood:                -560.04\n",
              "No. Observations:                2599   AIC:                             1166.\n",
              "Df Residuals:                    2576   BIC:                             1301.\n",
              "Df Model:                          22                                         \n",
              "Covariance Type:            nonrobust                                         \n",
              "====================================================================================\n",
              "                       coef    std err          t      P>|t|      [0.025      0.975]\n",
              "------------------------------------------------------------------------------------\n",
              "const               -0.3221      0.016    -19.580      0.000      -0.354      -0.290\n",
              "naics_cate_11        0.1578      0.118      1.338      0.181      -0.073       0.389\n",
              "naics_cate_21       -0.2886      0.037     -7.833      0.000      -0.361      -0.216\n",
              "naics_cate_22        0.1580      0.037      4.220      0.000       0.085       0.231\n",
              "naics_cate_23       -0.0531      0.048     -1.104      0.270      -0.147       0.041\n",
              "naics_cate_31-33     0.0554      0.019      2.948      0.003       0.019       0.092\n",
              "naics_cate_42       -0.0016      0.039     -0.042      0.966      -0.078       0.074\n",
              "naics_cate_44-45    -0.0609      0.032     -1.885      0.060      -0.124       0.002\n",
              "naics_cate_48-49    -0.0326      0.038     -0.851      0.395      -0.108       0.043\n",
              "naics_cate_51        0.1062      0.024      4.423      0.000       0.059       0.153\n",
              "naics_cate_52       -0.0313      0.021     -1.519      0.129      -0.072       0.009\n",
              "naics_cate_53       -0.0238      0.026     -0.907      0.365      -0.075       0.028\n",
              "naics_cate_54        0.0520      0.038      1.380      0.168      -0.022       0.126\n",
              "naics_cate_56       -0.0365      0.046     -0.797      0.425      -0.126       0.053\n",
              "naics_cate_61        0.0537      0.084      0.638      0.523      -0.111       0.219\n",
              "naics_cate_62        0.0759      0.050      1.525      0.127      -0.022       0.174\n",
              "naics_cate_71       -0.1525      0.084     -1.809      0.071      -0.318       0.013\n",
              "naics_cate_72       -0.1379      0.044     -3.163      0.002      -0.223      -0.052\n",
              "naics_cate_81       -0.1658      0.109     -1.516      0.130      -0.380       0.049\n",
              "naics_cate_99        0.0036      0.203      0.018      0.986      -0.394       0.401\n",
              "Price/Book           0.0025      0.001      3.909      0.000       0.001       0.004\n",
              "P/E                  0.0001   7.46e-05      1.554      0.120   -3.04e-05       0.000\n",
              "P/EBIT           -1.477e-05      0.000     -0.143      0.887      -0.000       0.000\n",
              "P/SALES              0.0003      0.000      2.479      0.013    5.69e-05       0.000\n",
              "==============================================================================\n",
              "Omnibus:                     4128.475   Durbin-Watson:                   1.944\n",
              "Prob(Omnibus):                  0.000   Jarque-Bera (JB):          4486733.749\n",
              "Skew:                           9.770   Prob(JB):                         0.00\n",
              "Kurtosis:                     205.608   Cond. No.                     3.31e+17\n",
              "==============================================================================\n",
              "\n",
              "Warnings:\n",
              "[1] Standard Errors assume that the covariance matrix of the errors is correctly specified.\n",
              "[2] The smallest eigenvalue is 1.76e-28. This might indicate that there are\n",
              "strong multicollinearity problems or that the design matrix is singular.\n",
              "\"\"\""
            ]
          },
          "metadata": {
            "tags": []
          },
          "execution_count": 25
        }
      ]
    },
    {
      "cell_type": "markdown",
      "metadata": {
        "id": "0T3nhuBZrZ_d"
      },
      "source": [
        "After combining four industry ratios, the adjusted R square increased slightly, from 0.065 to 0.075. So explanatory power of regression on ReturnEarly2020 only increased 0.01. \n",
        "\n",
        "Apart from that, It worth noting that, only price/book and P/Sales ratios are statistically significant, the p-value of which are 0.000 and 0.013 respectively. \n",
        "\n",
        "The stock return in early 2020 would increase 0.0025 when price/book ratio increase by 1.\n",
        "\n",
        "The stock return in early 2020 would increase 0.0003 when P/Sales ratio increase by 1."
      ]
    },
    {
      "cell_type": "markdown",
      "metadata": {
        "id": "opV2afsDGMZ5"
      },
      "source": [
        "### Late2020"
      ]
    },
    {
      "cell_type": "code",
      "metadata": {
        "colab": {
          "base_uri": "https://localhost:8080/",
          "height": 940
        },
        "id": "xHtmO_vwGN7T",
        "outputId": "226a4a5b-1a9f-4b3e-fb41-cfe1112aa099"
      },
      "source": [
        "# define x as a subset of original dataframe\n",
        "x = df_naics_ratio.loc[:,~df_naics_ratio.columns.str.contains('Return')]\n",
        "# define y as a series\n",
        "y = df_naics_ratio['ReturnLate2020']# Add a constant\n",
        "x = sm.add_constant(x)\n",
        "# pass x as a dataframe, while pass y as a series\n",
        "sm.OLS(y, x).fit().summary()"
      ],
      "execution_count": 26,
      "outputs": [
        {
          "output_type": "execute_result",
          "data": {
            "text/html": [
              "<table class=\"simpletable\">\n",
              "<caption>OLS Regression Results</caption>\n",
              "<tr>\n",
              "  <th>Dep. Variable:</th>     <td>ReturnLate2020</td>  <th>  R-squared:         </th> <td>   0.084</td>\n",
              "</tr>\n",
              "<tr>\n",
              "  <th>Model:</th>                   <td>OLS</td>       <th>  Adj. R-squared:    </th> <td>   0.076</td>\n",
              "</tr>\n",
              "<tr>\n",
              "  <th>Method:</th>             <td>Least Squares</td>  <th>  F-statistic:       </th> <td>   10.76</td>\n",
              "</tr>\n",
              "<tr>\n",
              "  <th>Date:</th>             <td>Thu, 08 Jul 2021</td> <th>  Prob (F-statistic):</th> <td>4.78e-36</td>\n",
              "</tr>\n",
              "<tr>\n",
              "  <th>Time:</th>                 <td>00:15:19</td>     <th>  Log-Likelihood:    </th> <td> -3759.6</td>\n",
              "</tr>\n",
              "<tr>\n",
              "  <th>No. Observations:</th>      <td>  2599</td>      <th>  AIC:               </th> <td>   7565.</td>\n",
              "</tr>\n",
              "<tr>\n",
              "  <th>Df Residuals:</th>          <td>  2576</td>      <th>  BIC:               </th> <td>   7700.</td>\n",
              "</tr>\n",
              "<tr>\n",
              "  <th>Df Model:</th>              <td>    22</td>      <th>                     </th>     <td> </td>   \n",
              "</tr>\n",
              "<tr>\n",
              "  <th>Covariance Type:</th>      <td>nonrobust</td>    <th>                     </th>     <td> </td>   \n",
              "</tr>\n",
              "</table>\n",
              "<table class=\"simpletable\">\n",
              "<tr>\n",
              "          <td></td>            <th>coef</th>     <th>std err</th>      <th>t</th>      <th>P>|t|</th>  <th>[0.025</th>    <th>0.975]</th>  \n",
              "</tr>\n",
              "<tr>\n",
              "  <th>const</th>            <td>    0.7603</td> <td>    0.056</td> <td>   13.494</td> <td> 0.000</td> <td>    0.650</td> <td>    0.871</td>\n",
              "</tr>\n",
              "<tr>\n",
              "  <th>naics_cate_11</th>    <td>   -0.6241</td> <td>    0.404</td> <td>   -1.546</td> <td> 0.122</td> <td>   -1.416</td> <td>    0.168</td>\n",
              "</tr>\n",
              "<tr>\n",
              "  <th>naics_cate_21</th>    <td>    0.4810</td> <td>    0.126</td> <td>    3.811</td> <td> 0.000</td> <td>    0.234</td> <td>    0.729</td>\n",
              "</tr>\n",
              "<tr>\n",
              "  <th>naics_cate_22</th>    <td>   -0.5333</td> <td>    0.128</td> <td>   -4.159</td> <td> 0.000</td> <td>   -0.785</td> <td>   -0.282</td>\n",
              "</tr>\n",
              "<tr>\n",
              "  <th>naics_cate_23</th>    <td>    0.3387</td> <td>    0.165</td> <td>    2.057</td> <td> 0.040</td> <td>    0.016</td> <td>    0.662</td>\n",
              "</tr>\n",
              "<tr>\n",
              "  <th>naics_cate_31-33</th> <td>    0.1539</td> <td>    0.064</td> <td>    2.389</td> <td> 0.017</td> <td>    0.028</td> <td>    0.280</td>\n",
              "</tr>\n",
              "<tr>\n",
              "  <th>naics_cate_42</th>    <td>    0.0171</td> <td>    0.133</td> <td>    0.128</td> <td> 0.898</td> <td>   -0.243</td> <td>    0.278</td>\n",
              "</tr>\n",
              "<tr>\n",
              "  <th>naics_cate_44-45</th> <td>    0.9156</td> <td>    0.111</td> <td>    8.274</td> <td> 0.000</td> <td>    0.699</td> <td>    1.133</td>\n",
              "</tr>\n",
              "<tr>\n",
              "  <th>naics_cate_48-49</th> <td>   -0.1582</td> <td>    0.131</td> <td>   -1.205</td> <td> 0.228</td> <td>   -0.416</td> <td>    0.099</td>\n",
              "</tr>\n",
              "<tr>\n",
              "  <th>naics_cate_51</th>    <td>    0.2185</td> <td>    0.082</td> <td>    2.656</td> <td> 0.008</td> <td>    0.057</td> <td>    0.380</td>\n",
              "</tr>\n",
              "<tr>\n",
              "  <th>naics_cate_52</th>    <td>   -0.2479</td> <td>    0.071</td> <td>   -3.507</td> <td> 0.000</td> <td>   -0.386</td> <td>   -0.109</td>\n",
              "</tr>\n",
              "<tr>\n",
              "  <th>naics_cate_53</th>    <td>   -0.1922</td> <td>    0.090</td> <td>   -2.138</td> <td> 0.033</td> <td>   -0.369</td> <td>   -0.016</td>\n",
              "</tr>\n",
              "<tr>\n",
              "  <th>naics_cate_54</th>    <td>   -0.0691</td> <td>    0.129</td> <td>   -0.535</td> <td> 0.593</td> <td>   -0.322</td> <td>    0.184</td>\n",
              "</tr>\n",
              "<tr>\n",
              "  <th>naics_cate_56</th>    <td>   -0.0768</td> <td>    0.157</td> <td>   -0.489</td> <td> 0.625</td> <td>   -0.385</td> <td>    0.231</td>\n",
              "</tr>\n",
              "<tr>\n",
              "  <th>naics_cate_61</th>    <td>   -0.4087</td> <td>    0.288</td> <td>   -1.418</td> <td> 0.156</td> <td>   -0.974</td> <td>    0.157</td>\n",
              "</tr>\n",
              "<tr>\n",
              "  <th>naics_cate_62</th>    <td>    0.3365</td> <td>    0.170</td> <td>    1.974</td> <td> 0.049</td> <td>    0.002</td> <td>    0.671</td>\n",
              "</tr>\n",
              "<tr>\n",
              "  <th>naics_cate_71</th>    <td>    0.6438</td> <td>    0.289</td> <td>    2.231</td> <td> 0.026</td> <td>    0.078</td> <td>    1.210</td>\n",
              "</tr>\n",
              "<tr>\n",
              "  <th>naics_cate_72</th>    <td>    0.4400</td> <td>    0.149</td> <td>    2.946</td> <td> 0.003</td> <td>    0.147</td> <td>    0.733</td>\n",
              "</tr>\n",
              "<tr>\n",
              "  <th>naics_cate_81</th>    <td>    0.0346</td> <td>    0.375</td> <td>    0.092</td> <td> 0.926</td> <td>   -0.700</td> <td>    0.769</td>\n",
              "</tr>\n",
              "<tr>\n",
              "  <th>naics_cate_99</th>    <td>   -0.5090</td> <td>    0.695</td> <td>   -0.732</td> <td> 0.464</td> <td>   -1.872</td> <td>    0.854</td>\n",
              "</tr>\n",
              "<tr>\n",
              "  <th>Price/Book</th>       <td>    0.0007</td> <td>    0.002</td> <td>    0.301</td> <td> 0.764</td> <td>   -0.004</td> <td>    0.005</td>\n",
              "</tr>\n",
              "<tr>\n",
              "  <th>P/E</th>              <td>   -0.0007</td> <td>    0.000</td> <td>   -2.706</td> <td> 0.007</td> <td>   -0.001</td> <td>   -0.000</td>\n",
              "</tr>\n",
              "<tr>\n",
              "  <th>P/EBIT</th>           <td>   -0.0011</td> <td>    0.000</td> <td>   -2.996</td> <td> 0.003</td> <td>   -0.002</td> <td>   -0.000</td>\n",
              "</tr>\n",
              "<tr>\n",
              "  <th>P/SALES</th>          <td>    0.0005</td> <td>    0.000</td> <td>    1.244</td> <td> 0.214</td> <td>   -0.000</td> <td>    0.001</td>\n",
              "</tr>\n",
              "</table>\n",
              "<table class=\"simpletable\">\n",
              "<tr>\n",
              "  <th>Omnibus:</th>       <td>2881.671</td> <th>  Durbin-Watson:     </th>  <td>   1.928</td> \n",
              "</tr>\n",
              "<tr>\n",
              "  <th>Prob(Omnibus):</th>  <td> 0.000</td>  <th>  Jarque-Bera (JB):  </th> <td>386845.745</td>\n",
              "</tr>\n",
              "<tr>\n",
              "  <th>Skew:</th>           <td> 5.413</td>  <th>  Prob(JB):          </th>  <td>    0.00</td> \n",
              "</tr>\n",
              "<tr>\n",
              "  <th>Kurtosis:</th>       <td>61.780</td>  <th>  Cond. No.          </th>  <td>3.31e+17</td> \n",
              "</tr>\n",
              "</table><br/><br/>Warnings:<br/>[1] Standard Errors assume that the covariance matrix of the errors is correctly specified.<br/>[2] The smallest eigenvalue is 1.76e-28. This might indicate that there are<br/>strong multicollinearity problems or that the design matrix is singular."
            ],
            "text/plain": [
              "<class 'statsmodels.iolib.summary.Summary'>\n",
              "\"\"\"\n",
              "                            OLS Regression Results                            \n",
              "==============================================================================\n",
              "Dep. Variable:         ReturnLate2020   R-squared:                       0.084\n",
              "Model:                            OLS   Adj. R-squared:                  0.076\n",
              "Method:                 Least Squares   F-statistic:                     10.76\n",
              "Date:                Thu, 08 Jul 2021   Prob (F-statistic):           4.78e-36\n",
              "Time:                        00:15:19   Log-Likelihood:                -3759.6\n",
              "No. Observations:                2599   AIC:                             7565.\n",
              "Df Residuals:                    2576   BIC:                             7700.\n",
              "Df Model:                          22                                         \n",
              "Covariance Type:            nonrobust                                         \n",
              "====================================================================================\n",
              "                       coef    std err          t      P>|t|      [0.025      0.975]\n",
              "------------------------------------------------------------------------------------\n",
              "const                0.7603      0.056     13.494      0.000       0.650       0.871\n",
              "naics_cate_11       -0.6241      0.404     -1.546      0.122      -1.416       0.168\n",
              "naics_cate_21        0.4810      0.126      3.811      0.000       0.234       0.729\n",
              "naics_cate_22       -0.5333      0.128     -4.159      0.000      -0.785      -0.282\n",
              "naics_cate_23        0.3387      0.165      2.057      0.040       0.016       0.662\n",
              "naics_cate_31-33     0.1539      0.064      2.389      0.017       0.028       0.280\n",
              "naics_cate_42        0.0171      0.133      0.128      0.898      -0.243       0.278\n",
              "naics_cate_44-45     0.9156      0.111      8.274      0.000       0.699       1.133\n",
              "naics_cate_48-49    -0.1582      0.131     -1.205      0.228      -0.416       0.099\n",
              "naics_cate_51        0.2185      0.082      2.656      0.008       0.057       0.380\n",
              "naics_cate_52       -0.2479      0.071     -3.507      0.000      -0.386      -0.109\n",
              "naics_cate_53       -0.1922      0.090     -2.138      0.033      -0.369      -0.016\n",
              "naics_cate_54       -0.0691      0.129     -0.535      0.593      -0.322       0.184\n",
              "naics_cate_56       -0.0768      0.157     -0.489      0.625      -0.385       0.231\n",
              "naics_cate_61       -0.4087      0.288     -1.418      0.156      -0.974       0.157\n",
              "naics_cate_62        0.3365      0.170      1.974      0.049       0.002       0.671\n",
              "naics_cate_71        0.6438      0.289      2.231      0.026       0.078       1.210\n",
              "naics_cate_72        0.4400      0.149      2.946      0.003       0.147       0.733\n",
              "naics_cate_81        0.0346      0.375      0.092      0.926      -0.700       0.769\n",
              "naics_cate_99       -0.5090      0.695     -0.732      0.464      -1.872       0.854\n",
              "Price/Book           0.0007      0.002      0.301      0.764      -0.004       0.005\n",
              "P/E                 -0.0007      0.000     -2.706      0.007      -0.001      -0.000\n",
              "P/EBIT              -0.0011      0.000     -2.996      0.003      -0.002      -0.000\n",
              "P/SALES              0.0005      0.000      1.244      0.214      -0.000       0.001\n",
              "==============================================================================\n",
              "Omnibus:                     2881.671   Durbin-Watson:                   1.928\n",
              "Prob(Omnibus):                  0.000   Jarque-Bera (JB):           386845.745\n",
              "Skew:                           5.413   Prob(JB):                         0.00\n",
              "Kurtosis:                      61.780   Cond. No.                     3.31e+17\n",
              "==============================================================================\n",
              "\n",
              "Warnings:\n",
              "[1] Standard Errors assume that the covariance matrix of the errors is correctly specified.\n",
              "[2] The smallest eigenvalue is 1.76e-28. This might indicate that there are\n",
              "strong multicollinearity problems or that the design matrix is singular.\n",
              "\"\"\""
            ]
          },
          "metadata": {
            "tags": []
          },
          "execution_count": 26
        }
      ]
    },
    {
      "cell_type": "markdown",
      "metadata": {
        "id": "Y0CEG4W_stIO"
      },
      "source": [
        "After combining four industry ratios, the adjusted R square increased from 0.067 to 0.084. So the explanatory power of regression on ReturnLate2020 increased slightly. \n",
        "\n",
        "Apart from that, p-value of price/book is 0.764, which is not statistically significant.\n",
        "\n",
        "The p-value of P/E ratio is 0.007, which is statistically significant, if stock return in late 2020 decreased by 0.0007, P/E ratio would incread by 1. \n",
        "\n",
        "P-value of P/EBIT is 0.003, which is statistically significant, if stock return in late 2020 decreased by 0.0011, P/EBIT ratio would incread by 1. \n",
        "\n",
        "P-value of P/SALES is 0.214, which is statistically significant, if stock return in late 2020 increased by 0.0005, P/SALES ratio would incread by 1. "
      ]
    }
  ]
}